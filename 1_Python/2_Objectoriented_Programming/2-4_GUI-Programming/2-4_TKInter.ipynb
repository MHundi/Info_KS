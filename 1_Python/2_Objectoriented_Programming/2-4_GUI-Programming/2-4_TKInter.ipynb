{
 "cells": [
  {
   "cell_type": "raw",
   "metadata": {
    "vscode": {
     "languageId": "raw"
    }
   },
   "source": [
    "---\n",
    "format:\n",
    "  pdf:\n",
    "    pdf-engine: xelatex\n",
    "    documentclass: scrartcl\n",
    "    papersize: a4\n",
    "    fontsize: 11pt\n",
    "    fig-align: center\n",
    "    colorlinks: true\n",
    "    code-line-numbers: true\n",
    "    keep-tex: true\n",
    "    include-in-header:\n",
    "      - text: |\n",
    "          \\usepackage[document]{ragged2e}\n",
    "\n",
    "  beamer:\n",
    "    aspectratio: 16\n",
    "    navigation: horizontal\n",
    "    theme: Singapore\n",
    "    colortheme: orchid\n",
    "    toc: false\n",
    "    code-line-numbers: true\n",
    "    echo: false\n",
    "    fontsize: 25pt\n",
    "  \n",
    "  html:\n",
    "    standalone: true\n",
    "    section-divs: true\n",
    "    html-math-method: mathjax\n",
    "    wrap: none\n",
    "    default-image-extension: png\n",
    "\n",
    "execute: \n",
    "  enabled: true\n",
    "  echo: false\n",
    "Jupyter: python3\n",
    "\n",
    "mainfont: Avenir Next\n",
    "---"
   ]
  },
  {
   "cell_type": "markdown",
   "metadata": {
    "slideshow": {
     "slide_type": "slide"
    }
   },
   "source": [
    "# TKInter"
   ]
  },
  {
   "cell_type": "markdown",
   "metadata": {
    "slideshow": {
     "slide_type": "slide"
    }
   },
   "source": [
    "- Es gibt APIs = Application Programming Interface\n",
    "- für GUIs = Graphical Use Interface\n",
    "- in Python gibt es tkinter (relativ einfach)\n",
    "- alternativ aber komplizierter sind PyGtk, PyQT, ...\n",
    "- unser Ziel: Visualisierung unserer geometrischen Objekte.\n",
    "\n"
   ]
  },
  {
   "cell_type": "markdown",
   "metadata": {
    "slideshow": {
     "slide_type": "slide"
    }
   },
   "source": [
    "### Fenster"
   ]
  },
  {
   "cell_type": "markdown",
   "metadata": {
    "slideshow": {
     "slide_type": "fragment"
    }
   },
   "source": [
    "1. tkinter wird importiert"
   ]
  },
  {
   "cell_type": "code",
   "execution_count": 1,
   "metadata": {
    "slideshow": {
     "slide_type": "fragment"
    }
   },
   "outputs": [],
   "source": [
    "import tkinter as tk"
   ]
  },
  {
   "cell_type": "markdown",
   "metadata": {
    "slideshow": {
     "slide_type": "slide"
    }
   },
   "source": [
    "2. mit Hife des Tk()-Konstruktors wird ein Wurzelobjekt erzeugt.\n",
    "\n",
    "- Diese Wurzelobjekt ist ein Fenster.\n",
    "- Zu diesem Objekt können weitere Bestandteile zugefügt werden."
   ]
  },
  {
   "cell_type": "code",
   "execution_count": 2,
   "metadata": {
    "slideshow": {
     "slide_type": "fragment"
    }
   },
   "outputs": [],
   "source": [
    "root = tk.Tk()"
   ]
  },
  {
   "cell_type": "markdown",
   "metadata": {
    "slideshow": {
     "slide_type": "slide"
    }
   },
   "source": [
    "3. `lab` repräsentiert ein Label-Widget.\n",
    "\n",
    "- Das Label wird dem Wurzelelement hinzugefügt.\n",
    "- Widget = rechteckige Fläche auf dem Bildschirm mit einer Funktionalität\n",
    "- Label-Widget kann nur Text anzeigen.\n"
   ]
  },
  {
   "cell_type": "code",
   "execution_count": 3,
   "metadata": {
    "slideshow": {
     "slide_type": "fragment"
    }
   },
   "outputs": [],
   "source": [
    "lab = tk.Label(root, text=\"Hello World\")"
   ]
  },
  {
   "cell_type": "markdown",
   "metadata": {
    "slideshow": {
     "slide_type": "slide"
    }
   },
   "source": [
    "4. Anordnung des Widgets im Fenster \n",
    "\n",
    "- Vorgefertigte "
   ]
  },
  {
   "cell_type": "code",
   "execution_count": 4,
   "metadata": {
    "slideshow": {
     "slide_type": "fragment"
    }
   },
   "outputs": [],
   "source": [
    "lab.pack()"
   ]
  },
  {
   "cell_type": "markdown",
   "metadata": {
    "slideshow": {
     "slide_type": "slide"
    }
   },
   "source": [
    "### Canvas\n",
    "\n",
    "1. Canvas dem Fenster\n",
    "\n",
    "- Canvas ist ein Widget\n",
    "- Canvas = Leinwand\n",
    "- Auf Canvas können geometrische Figuren gemalt werden.\n",
    "- Der Konstruktor `tk.Canvas()` übernimmt als Parameter Breite und Höhe in Pixeln"
   ]
  },
  {
   "cell_type": "code",
   "execution_count": 5,
   "metadata": {
    "slideshow": {
     "slide_type": "fragment"
    }
   },
   "outputs": [],
   "source": [
    "import tkinter as tk\n",
    "\n",
    "root = tk.Tk()\n",
    "cv = tk.Canvas(root, height = 600, width = 400)\n",
    "cv.pack()"
   ]
  },
  {
   "cell_type": "markdown",
   "metadata": {
    "slideshow": {
     "slide_type": "slide"
    }
   },
   "source": [
    "2. Auf dem Canvas malen"
   ]
  },
  {
   "cell_type": "code",
   "execution_count": 6,
   "metadata": {
    "slideshow": {
     "slide_type": "fragment"
    }
   },
   "outputs": [],
   "source": [
    "sr = cv.create_rectangle(100,100,200,150, fill = \"green\")\n",
    "o = cv.create_oval(400,400,500,500, fill=\"red\", width = 3)"
   ]
  },
  {
   "cell_type": "markdown",
   "metadata": {
    "slideshow": {
     "slide_type": "slide"
    }
   },
   "source": [
    "### Graphikkoordinaten"
   ]
  },
  {
   "cell_type": "markdown",
   "metadata": {},
   "source": [
    "![](/Users/martin/Workspace/Jupyter_Notebooks/Info_KS/2_Objectoriented_Programming/2-4_GUI-Programming/images/coordinates.png)"
   ]
  },
  {
   "cell_type": "markdown",
   "metadata": {
    "slideshow": {
     "slide_type": "slide"
    }
   },
   "source": [
    "### Canvas Methoden\n",
    "- Linie von (x1, y1) nach (x2, y2)  \n",
    "`canvas.create_line(x1, y1, x2, y2, **options)`\n",
    "\n",
    "- Rechteck von obere linke Ecke (x1, y1) nach untere rechte Ecke (x2, y2)  \n",
    "`canvas.create_rectangle(x1, y1, x2, y2, **options)`\n",
    "\n",
    "- Oval innerhalb des Rechtecks  gebildet durch obere linke Ecke (x1, y1) und untere rechte Ecke (x2, y2)  \n",
    "`canvas.create_oval(x1, y1, x2, y2, **options)`\n",
    "\n",
    "=> Alle `create`-Methoden liefern den Index des erzeugten Objekts  \n",
    "= Eindeutige Referenz auf das Objekt.\n",
    "- Damit kann das Objekt noch nachträglich geändert werden."
   ]
  },
  {
   "cell_type": "markdown",
   "metadata": {
    "slideshow": {
     "slide_type": "fragment"
    }
   },
   "source": [
    "- `canvas.delete(i)` löscht Objekt mit dem Index i\n",
    "- `canvas.move(i, deltax, deltay)` bewegt Objekt i um deltax und deltay\n",
    "- `canvas.update()`erneuerte die Darstellung des Bildschirms\n",
    "- Referenz unter [www.tkdocs.com](https://tkdocs.com/shipman/)"
   ]
  },
  {
   "cell_type": "markdown",
   "metadata": {},
   "source": []
  }
 ],
 "metadata": {
  "kernelspec": {
   "display_name": "Python 3",
   "language": "python",
   "name": "python3"
  },
  "language_info": {
   "codemirror_mode": {
    "name": "ipython",
    "version": 3
   },
   "file_extension": ".py",
   "mimetype": "text/x-python",
   "name": "python",
   "nbconvert_exporter": "python",
   "pygments_lexer": "ipython3",
   "version": "3.12.1"
  }
 },
 "nbformat": 4,
 "nbformat_minor": 2
}
