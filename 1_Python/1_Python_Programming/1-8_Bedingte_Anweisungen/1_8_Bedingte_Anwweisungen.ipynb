{
 "cells": [
  {
   "cell_type": "markdown",
   "metadata": {},
   "source": [
    "## 8. Bedingte Anweisungen"
   ]
  },
  {
   "cell_type": "markdown",
   "metadata": {},
   "source": [
    "**!! Keine Schleife !!!**\n",
    "#### 8.1 `if`-Anweisung\n",
    "\n",
    "- = Bedingte Anweisung, Konditionale \n",
    "-Anweisungen werden nur unter bestimmten Bedingungen ausgeführt.\n",
    "- Syntax:\n",
    "```\n",
    "    if Bedingung :\n",
    "        Anweisungen/Funktionen\n",
    "```\n",
    "\n",
    "**Beispiel:**"
   ]
  },
  {
   "cell_type": "code",
   "execution_count": 1,
   "metadata": {},
   "outputs": [
    {
     "name": "stdout",
     "output_type": "stream",
     "text": [
      "Ich denke mir eine Zahl zwischen 0 und 20 . Errate, welche es ist\n",
      "Richtig\n"
     ]
    }
   ],
   "source": [
    "print(\"Ich denke mir eine Zahl zwischen 0 und 20 . Errate, welche es ist\")\n",
    "zahl=13\n",
    "a=input('Gib eine Zahl zwischen 0 und 20 ein')\n",
    "a=int(a)\n",
    "if a == 13:\n",
    "    print(\"Richtig\")"
   ]
  },
  {
   "cell_type": "markdown",
   "metadata": {},
   "source": [
    "#### 8.2 `if-else`-Anweisung"
   ]
  },
  {
   "cell_type": "markdown",
   "metadata": {},
   "source": [
    "- zwischen zwei Blöcken kann mit einer Bedingung ausgewählt werden.\n",
    "- Syntax:\n",
    "```\n",
    "    if Bedingung :\n",
    "        Anweisungsblock\n",
    "    else:\n",
    "        Anweisungsblock\n",
    "```\n",
    "**Beispiel:**\n"
   ]
  },
  {
   "cell_type": "code",
   "execution_count": 13,
   "metadata": {},
   "outputs": [
    {
     "name": "stdout",
     "output_type": "stream",
     "text": [
      "Ich denke mir eine Zahl zwischen 0 und 20 . Errate, welche es ist\n",
      "Falsch\n"
     ]
    }
   ],
   "source": [
    "print(\"Ich denke mir eine Zahl zwischen 0 und 20 . Errate, welche es ist\")\n",
    "zahl=13\n",
    "a=input('Gib eine Zahl zwischen 0 und 20 ein')\n",
    "a=int(a)\n",
    "if a == 13:\n",
    "    print(\"Richtig\")\n",
    "else:\n",
    "    print(\"Falsch\")"
   ]
  },
  {
   "cell_type": "markdown",
   "metadata": {},
   "source": [
    "#### 8.3 `if-elif-else`-Anweisung\n",
    "\n",
    "- verkettete bedingte Anweisung\n",
    "- zwischen mehreren Blöcken kann mit Bedingungen ausgewählt werden.\n",
    "- Syntax\n",
    "```\n",
    "    if Bedingung :\n",
    "        Anweisungsblock\n",
    "    elif:\n",
    "        Anweisungsblock    \n",
    "    else:\n",
    "        Anweisungsblock\n",
    "```\n",
    "**Beispiel:**\n"
   ]
  },
  {
   "cell_type": "code",
   "execution_count": 14,
   "metadata": {},
   "outputs": [
    {
     "name": "stdout",
     "output_type": "stream",
     "text": [
      "Ich denke mir eine Zahl zwischen 0 und 20 . Errate, welche es ist\n",
      "Deine Zahl ist zu klein\n"
     ]
    }
   ],
   "source": [
    "print(\"Ich denke mir eine Zahl zwischen 0 und 20 . Errate, welche es ist\")\n",
    "zahl=13\n",
    "a=input('Gib eine Zahl zwischen 0 und 20 ein')\n",
    "a=int(a)\n",
    "if a == 13:\n",
    "    print(\"Richtig\")\n",
    "elif a<13:\n",
    "    print(\"Deine Zahl ist zu klein\")\n",
    "else:\n",
    "    print(\"Diene Zahl ist zu groß\")"
   ]
  },
  {
   "cell_type": "markdown",
   "metadata": {},
   "source": [
    "#### 8.4 verschachtelte Konditionale\n",
    "\n",
    " - Bedingte Anweisungen können verschachtelt werden \n",
    " - durch die Einrücktiefe ist immer klar, zu welchem Block die Anweisungen gehören.\n",
    "\n",
    " **Beispiel:**"
   ]
  },
  {
   "cell_type": "code",
   "execution_count": 15,
   "metadata": {},
   "outputs": [
    {
     "name": "stdout",
     "output_type": "stream",
     "text": [
      "Die Zahl ist kleiner oder gleich 10\n"
     ]
    }
   ],
   "source": [
    "# Funktionsdefinition\n",
    "def myf (var1):\n",
    "    if var1 > 10:\n",
    "        if var1%2==0:\n",
    "            print(\"Die Zahl ist größer als 10 und gerade \")\n",
    "        else:\n",
    "            print(\"Die Zahl ist größer als 10 und ungerade\")\n",
    "    else:\n",
    "        print(\"Die Zahl ist kleiner oder gleich 10\")\n",
    "        \n",
    "# Eingabe der Zahl\n",
    "a= input(\"Gib die Zahl ein\")\n",
    "a=int(a)\n",
    "#Aufruf der Funktion\n",
    "myf(a)"
   ]
  },
  {
   "cell_type": "markdown",
   "metadata": {},
   "source": [
    "#### 8.4 Bedingungen"
   ]
  },
  {
   "cell_type": "markdown",
   "metadata": {},
   "source": [
    "##### 8.4.1 Datentyp `bool`\n",
    "\n",
    "- Bolsche Ausdrücke haben entweder den Wert `True` oder `False`.\n",
    "- zum Vergleich wird der Vergleichsoperator == verwendet:  `a == b`\n",
    "- Arithmeitsche Opeationen konvertieren Boolsche Werte nach int:\n",
    "`False` wird 0, `True` wird 1\n",
    "- Beispiel:\n"
   ]
  },
  {
   "cell_type": "code",
   "execution_count": 5,
   "metadata": {},
   "outputs": [],
   "source": [
    "assert 13==13\n",
    "assert not ('veggie'=='meatie')\n",
    "assert type ('veggie'=='meatie')==bool"
   ]
  },
  {
   "cell_type": "markdown",
   "metadata": {},
   "source": [
    "- Vergleichsoperatoren:\n",
    "\n",
    "|Syntax | Bedeutung |\n",
    "|:-----:|:---------:|\n",
    "| a == b| Ist a gleich b|\n",
    "| a !=b | Ist a ungleich b?|\n",
    "|a < b | Ist a echt kleiner als b?|\n",
    "|a>b | Ist a echt größer als b?|\n",
    "|a <= b | Ist a kleiner oder gleich b?|\n",
    "|a >= b | Ist a größer oder gleich b?|\n",
    "\n",
    "- Bemerkungen:"
   ]
  },
  {
   "cell_type": "code",
   "execution_count": 6,
   "metadata": {},
   "outputs": [],
   "source": [
    "# Gleitkommazahlen werden nicht exakt dargestellt\n",
    "assert 2.1 - 2.0 > 0.1\n",
    "\n",
    "assert not (2-1<1)\n",
    "\n",
    "assert False < True\n"
   ]
  },
  {
   "cell_type": "markdown",
   "metadata": {},
   "source": [
    "##### 8.4.2 Der `String`-Vergleich\n",
    "\n",
    "- Character werden anhand des Ergebnisses der `ord`-Funktion verlichen.\n",
    "- Strings werden anhand der **lexikographische Ordnung** verglichen. (Telefonbuch)\n",
    "- Beispiele"
   ]
  },
  {
   "cell_type": "code",
   "execution_count": 18,
   "metadata": {},
   "outputs": [
    {
     "data": {
      "text/plain": [
       "True"
      ]
     },
     "execution_count": 18,
     "metadata": {},
     "output_type": "execute_result"
    }
   ],
   "source": [
    "'paul' < 'paula'\n",
    "# paul ist ein Präfix von paula "
   ]
  },
  {
   "cell_type": "code",
   "execution_count": 19,
   "metadata": {},
   "outputs": [
    {
     "data": {
      "text/plain": [
       "True"
      ]
     },
     "execution_count": 19,
     "metadata": {},
     "output_type": "execute_result"
    }
   ],
   "source": [
    "'anton' < 'berta'\n",
    "#Vergleich der einander entsprechenden Buchstaben von links nach rechts"
   ]
  },
  {
   "cell_type": "code",
   "execution_count": 20,
   "metadata": {},
   "outputs": [
    {
     "data": {
      "text/plain": [
       "True"
      ]
     },
     "execution_count": 20,
     "metadata": {},
     "output_type": "execute_result"
    }
   ],
   "source": [
    "'anton'<'urs'"
   ]
  },
  {
   "cell_type": "code",
   "execution_count": 21,
   "metadata": {},
   "outputs": [
    {
     "data": {
      "text/plain": [
       "False"
      ]
     },
     "execution_count": 21,
     "metadata": {},
     "output_type": "execute_result"
    }
   ],
   "source": [
    "'antonia' < 'antonella'"
   ]
  },
  {
   "cell_type": "markdown",
   "metadata": {},
   "source": [
    "##### 8.4.3 Vergleich ungleicher Typen\n",
    "\n",
    "- Werte unvergleichbarer Typen sind ungleich.\n",
    "- Zahlen (`int`, `float`, `complex`, `bool`) nicht über '==' mit Strings vergleichbar \n",
    "- `False` gibt es direkt als Ergebnis\n",
    "- Bei der Anordnungsrelation gibt es eine Fehlermeldung\n",
    "- Beispiel:\n"
   ]
  },
  {
   "cell_type": "code",
   "execution_count": 22,
   "metadata": {},
   "outputs": [
    {
     "data": {
      "text/plain": [
       "False"
      ]
     },
     "execution_count": 22,
     "metadata": {},
     "output_type": "execute_result"
    }
   ],
   "source": [
    "13 == 'dreizehn'"
   ]
  },
  {
   "cell_type": "code",
   "execution_count": 23,
   "metadata": {},
   "outputs": [
    {
     "ename": "TypeError",
     "evalue": "'<' not supported between instances of 'int' and 'str'",
     "output_type": "error",
     "traceback": [
      "\u001b[0;31m---------------------------------------------------------------------------\u001b[0m",
      "\u001b[0;31mTypeError\u001b[0m                                 Traceback (most recent call last)",
      "\u001b[1;32m/Users/martin/Workspace/Jupyter_Notebooks/Informatik_KS/1_Python_Programmieren/1-8_Bedingte_Anweisungen/1_8_Bedingte_Anwweisungen.ipynb Cell 23\u001b[0m line \u001b[0;36m1\n\u001b[0;32m----> <a href='vscode-notebook-cell:/Users/martin/Workspace/Jupyter_Notebooks/Informatik_KS/1_Python_Programmieren/1-8_Bedingte_Anweisungen/1_8_Bedingte_Anwweisungen.ipynb#X35sZmlsZQ%3D%3D?line=0'>1</a>\u001b[0m \u001b[39m41\u001b[39;49m \u001b[39m<\u001b[39;49m \u001b[39m'\u001b[39;49m\u001b[39m43\u001b[39;49m\u001b[39m'\u001b[39;49m\n",
      "\u001b[0;31mTypeError\u001b[0m: '<' not supported between instances of 'int' and 'str'"
     ]
    }
   ],
   "source": [
    "41 < '43'"
   ]
  },
  {
   "cell_type": "markdown",
   "metadata": {},
   "source": []
  },
  {
   "cell_type": "markdown",
   "metadata": {},
   "source": [
    "##### 8.4.4 Logische Operatoren auf `bool`"
   ]
  },
  {
   "cell_type": "markdown",
   "metadata": {},
   "source": [
    "- `or`, `and`, `not` wirken wie die Bitoperationen\n",
    "- Beispiel: `x<10 or y>100`\n",
    "    Hat den Wert `True`, wenn x kleiner 10 ist oder wenn y größer als 100 ist.\n",
    "- Beispiel: `1<= x and x <= 10` hat den Wert `True`, wenn x zwischen 1 und 10 (inklusive) liegt.\n",
    "- Beispiel: `1<=x<=10` ist alternativ auch möglich.\n",
    "- Beipsiel: `not(x<y)` ist dann `True`, wenn x nicht kleiner als y ist.\n",
    "- Nullwerte, wie `None`, `0`, `0.0`, und `''` werden als `False` behandelt, alle anderen Werte als `True`\n",
    "- Kurzschlussauswertung: Die Auswertung der logischen Operatoren wird beendet, wenn das Ergebnis klar ist (short-cut evaluation)\n",
    "- Beipsiele:\n",
    "\n"
   ]
  },
  {
   "cell_type": "code",
   "execution_count": 26,
   "metadata": {},
   "outputs": [
    {
     "data": {
      "text/plain": [
       "True"
      ]
     },
     "execution_count": 26,
     "metadata": {},
     "output_type": "execute_result"
    }
   ],
   "source": [
    "1 < 5 < 10"
   ]
  },
  {
   "cell_type": "code",
   "execution_count": 27,
   "metadata": {},
   "outputs": [
    {
     "data": {
      "text/plain": [
       "False"
      ]
     },
     "execution_count": 27,
     "metadata": {},
     "output_type": "execute_result"
    }
   ],
   "source": [
    "5 < 1 or 'text'<'abc'"
   ]
  },
  {
   "cell_type": "code",
   "execution_count": 25,
   "metadata": {},
   "outputs": [
    {
     "data": {
      "text/plain": [
       "'text'"
      ]
     },
     "execution_count": 25,
     "metadata": {},
     "output_type": "execute_result"
    }
   ],
   "source": [
    "'text' or True\n"
   ]
  },
  {
   "cell_type": "code",
   "execution_count": 4,
   "metadata": {},
   "outputs": [
    {
     "data": {
      "text/plain": [
       "'default'"
      ]
     },
     "execution_count": 4,
     "metadata": {},
     "output_type": "execute_result"
    }
   ],
   "source": [
    "'' or 'default'"
   ]
  },
  {
   "cell_type": "code",
   "execution_count": 3,
   "metadata": {},
   "outputs": [
    {
     "data": {
      "text/plain": [
       "'thank you'"
      ]
     },
     "execution_count": 3,
     "metadata": {},
     "output_type": "execute_result"
    }
   ],
   "source": [
    "'good night' and 'thank you'"
   ]
  },
  {
   "cell_type": "code",
   "execution_count": 30,
   "metadata": {},
   "outputs": [
    {
     "data": {
      "text/plain": [
       "0"
      ]
     },
     "execution_count": 30,
     "metadata": {},
     "output_type": "execute_result"
    }
   ],
   "source": [
    "0 and 10 < 100\n",
    "# 0 zuählt als False"
   ]
  },
  {
   "cell_type": "code",
   "execution_count": 7,
   "metadata": {},
   "outputs": [
    {
     "data": {
      "text/plain": [
       "False"
      ]
     },
     "execution_count": 7,
     "metadata": {},
     "output_type": "execute_result"
    }
   ],
   "source": [
    "not 'text' and (None or 0.0)\n",
    "# 'text' ist True, not 'text ist somit False\n"
   ]
  },
  {
   "cell_type": "markdown",
   "metadata": {},
   "source": []
  }
 ],
 "metadata": {
  "kernelspec": {
   "display_name": "Python 3",
   "language": "python",
   "name": "python3"
  },
  "language_info": {
   "codemirror_mode": {
    "name": "ipython",
    "version": 3
   },
   "file_extension": ".py",
   "mimetype": "text/x-python",
   "name": "python",
   "nbconvert_exporter": "python",
   "pygments_lexer": "ipython3",
   "version": "3.11.4"
  }
 },
 "nbformat": 4,
 "nbformat_minor": 2
}
