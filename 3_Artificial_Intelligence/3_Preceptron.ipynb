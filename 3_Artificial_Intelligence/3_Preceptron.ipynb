{
 "cells": [
  {
   "cell_type": "raw",
   "metadata": {
    "vscode": {
     "languageId": "raw"
    }
   },
   "source": [
    "---\n",
    "format:\n",
    "  pdf:\n",
    "    pdf-engine: xelatex\n",
    "    documentclass: scrartcl\n",
    "    papersize: a4\n",
    "    fontsize: 11pt\n",
    "    fig-align: center\n",
    "    colorlinks: true\n",
    "    code-line-numbers: true\n",
    "    keep-tex: true\n",
    "    include-in-header:\n",
    "      - text: |\n",
    "          \\usepackage[document]{ragged2e}\n",
    "\n",
    "  beamer:\n",
    "    aspectratio: 169\n",
    "    navigation: horizontal\n",
    "    theme: Singapore\n",
    "    colortheme: orchid\n",
    "    toc: false\n",
    "    code-line-numbers: true\n",
    "    echo: false\n",
    "    fontsize: 25pt\n",
    "  \n",
    "  html:\n",
    "    standalone: true\n",
    "    section-divs: true\n",
    "    html-math-method: mathjax\n",
    "    wrap: none\n",
    "    default-image-extension: png\n",
    "\n",
    "execute: \n",
    "  enabled: true\n",
    "  echo: false\n",
    "Jupyter: python3\n",
    "\n",
    "mainfont: Avenir Next\n",
    "---"
   ]
  },
  {
   "cell_type": "markdown",
   "metadata": {},
   "source": [
    "## Perceptron - Influencer"
   ]
  },
  {
   "cell_type": "markdown",
   "metadata": {},
   "source": [
    "### Import der benötigten Bibliotheken"
   ]
  },
  {
   "cell_type": "code",
   "execution_count": 1,
   "metadata": {},
   "outputs": [],
   "source": [
    "import numpy as np\n",
    "import matplotlib.pyplot as plt"
   ]
  },
  {
   "cell_type": "markdown",
   "metadata": {},
   "source": [
    "### Definition der Gewichte und des Lernfaktors"
   ]
  },
  {
   "cell_type": "code",
   "execution_count": 2,
   "metadata": {},
   "outputs": [],
   "source": [
    "w=[0.0,0.0,0.0] #weights x0, x1, x2\n",
    "alpha = 0.5 #learningfactor\n",
    "data=[[20,110,1],[40,130,0]] #Datenvector"
   ]
  },
  {
   "cell_type": "markdown",
   "metadata": {},
   "source": [
    "### Hilfsfunktionen\n"
   ]
  },
  {
   "cell_type": "markdown",
   "metadata": {},
   "source": [
    "#### a) Resetfunktion  der Gewichte"
   ]
  },
  {
   "cell_type": "code",
   "execution_count": 3,
   "metadata": {},
   "outputs": [],
   "source": [
    "# set weights to null\n",
    "def reset(w):\n",
    "    for i in range(len(w)):\n",
    "        w[i]=0.0"
   ]
  },
  {
   "cell_type": "code",
   "execution_count": 4,
   "metadata": {},
   "outputs": [],
   "source": [
    "reset(w)"
   ]
  },
  {
   "cell_type": "markdown",
   "metadata": {},
   "source": [
    "#### b) Rohsumme aus den Vektoren"
   ]
  },
  {
   "cell_type": "code",
   "execution_count": 5,
   "metadata": {},
   "outputs": [],
   "source": [
    "# Definition - the input vector and the weight vector are the same size\n",
    "def rawsum(input, w):\n",
    "    result = 0\n",
    "    for i in range(len(input)):\n",
    "        result = result + input[i]*w[i]\n",
    "    return result"
   ]
  },
  {
   "cell_type": "markdown",
   "metadata": {},
   "source": [
    "#### c) Lernalgorithmus"
   ]
  },
  {
   "cell_type": "code",
   "execution_count": 6,
   "metadata": {},
   "outputs": [],
   "source": [
    "# Learningalgorithm    \n",
    "def learn(input, w):\n",
    "    #adjust the input with the bias neuron value 1\n",
    "    newlist = [[1] + sublist for sublist in input] \n",
    "    for sublist in newlist:\n",
    "        x=sublist[0:-1] # x contains only the three first entries of the sublists\n",
    "        *ignore, d=sublist[-1:] # insert the expectet value to variable d\n",
    "        result = rawsum(x, w) # calculate the rawsum\n",
    "        y= 1 if result >=0 else 0 # calulate the heavyside function\n",
    "        #adjust the weights\n",
    "        for i in range(len(w)):\n",
    "          w[i]=w[i]+alpha*x[i]*(d-y)  \n",
    "    print(\"Die Gewichte (Bias, Alter, IQ) sind\", w)      \n",
    "    return w"
   ]
  },
  {
   "cell_type": "markdown",
   "metadata": {},
   "source": [
    "#### d) Wertvorhersage Funktion"
   ]
  },
  {
   "cell_type": "code",
   "execution_count": 7,
   "metadata": {},
   "outputs": [],
   "source": [
    "# Prediction\n",
    "def predict(input,w):\n",
    "    newlist = [1] +input[:len(input)-1]\n",
    "    result=0\n",
    "    result = rawsum(input, w)\n",
    "    y= 1 if result >=0 else 0\n",
    "    return y"
   ]
  },
  {
   "cell_type": "markdown",
   "metadata": {},
   "source": [
    "### Lernzyklus"
   ]
  },
  {
   "cell_type": "markdown",
   "metadata": {},
   "source": [
    "#### Erster Lernzyklus"
   ]
  },
  {
   "cell_type": "code",
   "execution_count": 8,
   "metadata": {},
   "outputs": [
    {
     "name": "stdout",
     "output_type": "stream",
     "text": [
      "Die Gewichte (Bias, Alter, IQ) sind [-0.5, -20.0, -65.0]\n"
     ]
    },
    {
     "data": {
      "text/plain": [
       "[-0.5, -20.0, -65.0]"
      ]
     },
     "execution_count": 8,
     "metadata": {},
     "output_type": "execute_result"
    }
   ],
   "source": [
    "learn(data,w)"
   ]
  },
  {
   "cell_type": "markdown",
   "metadata": {},
   "source": [
    "#### Zwanzig weitere Lernzyklen"
   ]
  },
  {
   "cell_type": "code",
   "execution_count": 9,
   "metadata": {},
   "outputs": [
    {
     "name": "stdout",
     "output_type": "stream",
     "text": [
      "Die Gewichte (Bias, Alter, IQ) sind [0.0, -10.0, -10.0]\n",
      "Die Gewichte (Bias, Alter, IQ) sind [0.0, -20.0, -20.0]\n",
      "Die Gewichte (Bias, Alter, IQ) sind [0.0, -30.0, -30.0]\n",
      "Die Gewichte (Bias, Alter, IQ) sind [0.0, -40.0, -40.0]\n",
      "Die Gewichte (Bias, Alter, IQ) sind [0.0, -50.0, -50.0]\n",
      "Die Gewichte (Bias, Alter, IQ) sind [0.5, -40.0, 5.0]\n",
      "Die Gewichte (Bias, Alter, IQ) sind [0.5, -50.0, -5.0]\n",
      "Die Gewichte (Bias, Alter, IQ) sind [0.5, -60.0, -15.0]\n",
      "Die Gewichte (Bias, Alter, IQ) sind [0.5, -70.0, -25.0]\n",
      "Die Gewichte (Bias, Alter, IQ) sind [0.5, -80.0, -35.0]\n",
      "Die Gewichte (Bias, Alter, IQ) sind [1.0, -70.0, 20.0]\n",
      "Die Gewichte (Bias, Alter, IQ) sind [1.0, -70.0, 20.0]\n",
      "Die Gewichte (Bias, Alter, IQ) sind [1.0, -70.0, 20.0]\n",
      "Die Gewichte (Bias, Alter, IQ) sind [1.0, -70.0, 20.0]\n",
      "Die Gewichte (Bias, Alter, IQ) sind [1.0, -70.0, 20.0]\n",
      "Die Gewichte (Bias, Alter, IQ) sind [1.0, -70.0, 20.0]\n",
      "Die Gewichte (Bias, Alter, IQ) sind [1.0, -70.0, 20.0]\n",
      "Die Gewichte (Bias, Alter, IQ) sind [1.0, -70.0, 20.0]\n",
      "Die Gewichte (Bias, Alter, IQ) sind [1.0, -70.0, 20.0]\n",
      "Die Gewichte (Bias, Alter, IQ) sind [1.0, -70.0, 20.0]\n"
     ]
    }
   ],
   "source": [
    "for j in range(20):\n",
    "    learn(data,w)"
   ]
  },
  {
   "cell_type": "markdown",
   "metadata": {},
   "source": [
    "### Entscheidungsgerade"
   ]
  },
  {
   "cell_type": "markdown",
   "metadata": {},
   "source": [
    "Die Gewichte ändern sich nicht mehr. Wir erhalten die Ungleichuchung, die entscheidet, ob ein Datenpunkt zu den Influencer Followern gehört oder nicht.\n",
    "\n",
    "$$ +1 -7\\cdot \\text{Alter} +20\\cdot \\text{IQ} \\geq 0$$\n",
    "\n",
    "Mit x = Alter und y = IQ folgt:\n",
    "$$ +1 -7\\cdot x +20\\cdot y \\geq 0$$\n",
    "\n",
    "Umformung der Ungleichung nach y ergibt:\n",
    "$$ y\\geq 3,5x-\\frac{1}{20}$$\n",
    "\n",
    "Als Grenzgerade erhält man:\n",
    "$$ y = 3,5x-\\frac{1}{20}$$"
   ]
  },
  {
   "cell_type": "markdown",
   "metadata": {},
   "source": [
    "#### Veranschaulichung"
   ]
  },
  {
   "cell_type": "code",
   "execution_count": 10,
   "metadata": {},
   "outputs": [
    {
     "data": {
      "application/pdf": "[encoded data removed]",
      "text/plain": [
       "<Figure size 1500x1500 with 1 Axes>"
      ]
     },
     "metadata": {},
     "output_type": "display_data"
    }
   ],
   "source": [
    "# Definitionsmenge und Funktion\n",
    "# ----------------------------\n",
    "x = np.linspace(10, 100,100)\n",
    "y= -1/20 + 3.5*x\n",
    "# ----------------------------\n",
    "\n",
    "# Einstellung des Graphen\n",
    "fig=plt.figure(figsize=(5,5))\n",
    "\n",
    "ax= fig.add_subplot(1,1,1)\n",
    "\n",
    "# Plot der Funktion\n",
    "ax.plot(x,y)\n",
    "#Plot der Datenpunkte\n",
    "for sublist in data:\n",
    "     if sublist[2]== 1:\n",
    "          cl = \"red\"\n",
    "     else:\n",
    "          cl =\"blue\"\n",
    "     ax.plot(sublist[0], sublist[1], \"o\", color=cl) #Punkt einzeichnen"
   ]
  },
  {
   "cell_type": "code",
   "execution_count": 11,
   "metadata": {},
   "outputs": [],
   "source": []
  }
 ],
 "metadata": {
  "kernelspec": {
   "display_name": "3.12.6",
   "language": "python",
   "name": "python3"
  },
  "language_info": {
   "codemirror_mode": {
    "name": "ipython",
    "version": 3
   },
   "file_extension": ".py",
   "mimetype": "text/x-python",
   "name": "python",
   "nbconvert_exporter": "python",
   "pygments_lexer": "ipython3",
   "version": "3.12.6"
  }
 },
 "nbformat": 4,
 "nbformat_minor": 2
}
