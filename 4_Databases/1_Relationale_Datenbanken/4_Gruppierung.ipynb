{
 "cells": [
  {
   "cell_type": "markdown",
   "metadata": {},
   "source": [
    "## 4 Gruppierung"
   ]
  },
  {
   "cell_type": "markdown",
   "metadata": {},
   "source": [
    "- Eine Gruppierung ist eine virtuelle Struktur, die über eine Tabelle gelegt wird.\n",
    "- Auswahl einer Teilmenge der Spalten der betrachteten Tabelle mit `GROUP BY`-Klausel\n",
    "- Gruppierung der Zeilen, in denen bezüglich der Grupperierungsspalten gleiche Werte vorliegen\n",
    "\n",
    "\n",
    "Beispiel:\n",
    "```sql\n",
    "SELECT country, AVG(population)\n",
    "FROM city\n",
    "GROUP BY country;\n",
    "```\n",
    "Ergebnis:\n",
    "\n",
    " <center> \n",
    "\n",
    "| Country| AVG(population)   | \n",
    "| ----------------- | ------ | \n",
    "| A              | 304315.6250| \n",
    "| AFG               | 892000.0000 | \n",
    "| AG | 36000.0000\n",
    "| AL            |  79166.6667 |\n",
    "\n",
    " </center>  "
   ]
  },
  {
   "cell_type": "markdown",
   "metadata": {},
   "source": [
    "#### Zusätzliche Bedingungen zur Gruppierung\n",
    "\n",
    "Es lassen sich mit der `HAVING`-Klausel zusätzliche Bedingungen bezüglich der Gruppierung formulieren.\n",
    "\n",
    "Beispiel:\n",
    "\n",
    "In welchen Ländern ist die durchschnittliche Einwohnerzahl in den Städten kleiner als 100.000?\n",
    "\n",
    "Anfrage:\n",
    "```sql\n",
    "SELECT country, AVG(population)\n",
    "FROM city\n",
    "GROUP BY country\n",
    "HAVING AVG(population) < 100000\n",
    "````\n"
   ]
  },
  {
   "cell_type": "markdown",
   "metadata": {},
   "source": []
  }
 ],
 "metadata": {
  "language_info": {
   "name": "python"
  }
 },
 "nbformat": 4,
 "nbformat_minor": 2
}
