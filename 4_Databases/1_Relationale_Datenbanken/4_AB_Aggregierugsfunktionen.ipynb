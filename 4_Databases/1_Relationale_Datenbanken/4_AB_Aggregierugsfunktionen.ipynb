{
 "cells": [
  {
   "cell_type": "markdown",
   "id": "1b31cd3e",
   "metadata": {},
   "source": [
    "## 3 SQL-Übungsaufgaben – Aggregierungsfunktionen"
   ]
  },
  {
   "cell_type": "markdown",
   "id": "977547fd",
   "metadata": {},
   "source": [
    "#### Aufgabe 1: \n",
    "Wie viele Länder sind in der Datenbank enthalten?"
   ]
  },
  {
   "cell_type": "markdown",
   "id": "6c38f5ee",
   "metadata": {},
   "source": [
    "#### Aufgabe 2: \n",
    "Wie viele Städte sind insgesamt in der Datenbank enthalten?"
   ]
  },
  {
   "cell_type": "markdown",
   "id": "ce3976db",
   "metadata": {},
   "source": [
    "#### Aufgabe 3: \n",
    "Wie groß ist die durchschnittliche Fläche aller Länder?"
   ]
  },
  {
   "cell_type": "markdown",
   "id": "3eb75db6",
   "metadata": {},
   "source": [
    "#### Aufgabe 4: \n",
    "Wie hoch ist die gesamte Bevölkerung weltweit?"
   ]
  },
  {
   "cell_type": "markdown",
   "id": "75550e24",
   "metadata": {},
   "source": [
    "#### Aufgabe 5: \n",
    "Welche Stadt hat die meisten Einwohner?"
   ]
  },
  {
   "cell_type": "markdown",
   "id": "d25282d3",
   "metadata": {},
   "source": [
    "#### Aufgabe 6: \n",
    "Wie heißt der längste Fluss in der Datenbank?"
   ]
  },
  {
   "cell_type": "markdown",
   "id": "54197c2a",
   "metadata": {},
   "source": [
    "#### Aufgabe 7: \n",
    "Welche Organisation wurde als erstes gegründet?"
   ]
  },
  {
   "cell_type": "markdown",
   "id": "473ddd3a",
   "metadata": {},
   "source": [
    "#### Aufgabe 8: \n",
    "Welche Länder haben mehr Einwohner als der Durchschnitt aller Länder?"
   ]
  },
  {
   "cell_type": "markdown",
   "id": "f4e86799",
   "metadata": {},
   "source": [
    "#### Aufgabe 9: \n",
    "Welche Städte haben weniger Einwohner als der Durchschnitt aller Städte?"
   ]
  },
  {
   "cell_type": "markdown",
   "id": "268f9d78",
   "metadata": {},
   "source": [
    "#### Aufgabe 10: \n",
    "Welche Länder haben ein höheres BIP als der Durchschnitt aller Länder?"
   ]
  },
  {
   "cell_type": "markdown",
   "id": "638cd19b",
   "metadata": {},
   "source": []
  }
 ],
 "metadata": {
  "language_info": {
   "name": "python"
  }
 },
 "nbformat": 4,
 "nbformat_minor": 5
}
