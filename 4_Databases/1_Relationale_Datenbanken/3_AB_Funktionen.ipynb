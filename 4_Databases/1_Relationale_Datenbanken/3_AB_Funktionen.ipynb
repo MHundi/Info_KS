{
 "cells": [
  {
   "cell_type": "markdown",
   "metadata": {},
   "source": [
    "## SQL-Übungsaufgaben – Funktionen\n",
    "\n",
    "### Aggregatfunktionen\n",
    "\n",
    "#### Aufgabe 1:\n",
    "Wie viele Länder sind in der Datenbank erfasst?\n",
    "\n",
    "\n",
    "#### Aufgabe 2:\n",
    "Ermittle die durchschnittliche Fläche (`area`) aller Länder.\n",
    "\n",
    "\n",
    "#### Aufgabe 3: \n",
    "Bestimme die kleinste und die größte Stadt nach Einwohnerzahl.\n",
    "\n",
    "\n",
    "#### Aufgabe 4:\n",
    "Gib für jedes Land an, wie viele Städte dazu gehören.\n",
    "\n",
    "\n",
    "#### Aufgabe 5:\n",
    "Ermittle das durchschnittliche BIP (`gdp`) pro Kontinent.\n",
    "\n",
    "\n",
    "#### Aufgabe 6:\n",
    "Wie viele Flüsse fließen durch jedes Land?\n",
    "\n",
    "\n",
    "#### Aufgabe 7:\n",
    "Bestimme die Gesamtbevölkerung aller Länder, die Mitglied in der **European Union** sind.\n",
    "\n",
    "\n",
    "#### Aufgabe 8: \n",
    "Gib für jeden Kontinent die durchschnittliche Länge der Flüsse an, die durch mindestens ein Land auf diesem Kontinent fließen.\n",
    "\n",
    "\n",
    "#### Aufgabe 9: \n",
    "Gib alle Länder aus, die mindestens eine Stadt mit mehr Einwohnern als die durchschnittliche Stadtbevölkerung weltweit haben.\n",
    "\n",
    "\n",
    "#### Aufgabe 10:\n",
    "Ermittle den Kontinent mit der höchsten durchschnittlichen Bevölkerungsdichte (Bevölkerung / Fläche) über alle seine Länder.\n"
   ]
  },
  {
   "cell_type": "markdown",
   "metadata": {},
   "source": [
    "### Gruppierungsfunktion\n",
    "\n",
    "#### Aufgabe 1:\n",
    "Gib alle Kontinente aus, die **mehr als 10 Länder** umfassen.\n",
    "\n",
    "\n",
    "#### Aufgabe 2:\n",
    "Gib alle Länder aus, die **mehr als 3 Städte** in der Datenbank enthalten.\n",
    "\n",
    "\n",
    "#### Aufgabe 3:\n",
    "Finde alle Länder, in denen die **durchschnittliche Bevölkerung der Städte** über **1.000.000 Einwohner** liegt.\n",
    "\n",
    "\n",
    "#### Aufgabe 4:\n",
    "Gib alle Kontinente aus, deren **Gesamtbevölkerung** über **500 Millionen** liegt.\n",
    "\n",
    "\n",
    "#### Aufgabe 5: \n",
    "Liste alle Länder auf, durch die **mehr als 5 unterschiedliche Flüsse** fließen.\n"
   ]
  }
 ],
 "metadata": {
  "language_info": {
   "name": "python"
  }
 },
 "nbformat": 4,
 "nbformat_minor": 2
}
