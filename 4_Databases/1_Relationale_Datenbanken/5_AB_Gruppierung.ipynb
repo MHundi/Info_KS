{
 "cells": [
  {
   "cell_type": "markdown",
   "metadata": {},
   "source": [
    "### 4 SQL-Übungsaufgaben - Gruppierung\n",
    "\n",
    "#### Aufgabe 1:\n",
    "Gib alle Kontinente aus, die **mehr als 10 Länder** umfassen.\n",
    "\n",
    "\n",
    "#### Aufgabe 2:\n",
    "Gib alle Länder aus, die **mehr als 3 Städte** in der Datenbank enthalten.\n",
    "\n",
    "\n",
    "#### Aufgabe 3:\n",
    "Finde alle Länder, in denen die **durchschnittliche Bevölkerung der Städte** über **1.000.000 Einwohner** liegt.\n",
    "\n",
    "\n",
    "#### Aufgabe 4:\n",
    "Gib alle Kontinente aus, deren **Gesamtbevölkerung** über **500 Millionen** liegt.\n",
    "\n",
    "\n",
    "#### Aufgabe 5: \n",
    "Liste alle Länder auf, durch die **mehr als 5 unterschiedliche Flüsse** fließen.\n"
   ]
  },
  {
   "cell_type": "markdown",
   "metadata": {},
   "source": []
  }
 ],
 "metadata": {
  "language_info": {
   "name": "python"
  }
 },
 "nbformat": 4,
 "nbformat_minor": 2
}
