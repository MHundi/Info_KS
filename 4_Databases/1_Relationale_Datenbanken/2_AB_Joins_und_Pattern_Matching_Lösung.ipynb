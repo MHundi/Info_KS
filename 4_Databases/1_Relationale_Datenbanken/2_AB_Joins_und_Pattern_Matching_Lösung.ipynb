{
 "cells": [
  {
   "cell_type": "markdown",
   "id": "d814b4f9",
   "metadata": {},
   "source": [
    "## 2 SQL-Übungsaufgaben – Joins und Pattern Matching"
   ]
  },
  {
   "cell_type": "markdown",
   "id": "fabc4362",
   "metadata": {},
   "source": [
    "### Aufgabe 1:\n",
    "**Frage:**\n",
    "Gib alle Länder aus, deren Name mit dem Buchstaben „A“ beginnt.\n",
    "\n",
    "**Lösung:**"
   ]
  },
  {
   "cell_type": "code",
   "execution_count": 2,
   "id": "c9a615b9",
   "metadata": {
    "vscode": {
     "languageId": "sql"
    }
   },
   "outputs": [
    {
     "ename": "SyntaxError",
     "evalue": "invalid syntax (1202339456.py, line 1)",
     "output_type": "error",
     "traceback": [
      "\u001b[0;36m  Cell \u001b[0;32mIn[2], line 1\u001b[0;36m\u001b[0m\n\u001b[0;31m    SELECT name\u001b[0m\n\u001b[0m           ^\u001b[0m\n\u001b[0;31mSyntaxError\u001b[0m\u001b[0;31m:\u001b[0m invalid syntax\n"
     ]
    }
   ],
   "source": [
    "SELECT name\n",
    "FROM Country\n",
    "WHERE name LIKE 'A%';"
   ]
  },
  {
   "cell_type": "markdown",
   "id": "534dc2a7",
   "metadata": {},
   "source": [
    "### Aufgabe 2:\n",
    "\n",
    "**Frage:**\n",
    "Gib alle Städte aus, deren Name auf „burg“ endet.\n",
    "\n",
    "**Lösung:**"
   ]
  },
  {
   "cell_type": "code",
   "execution_count": null,
   "id": "56aa496e",
   "metadata": {
    "vscode": {
     "languageId": "sql"
    }
   },
   "outputs": [],
   "source": [
    "SELECT name\n",
    "FROM City\n",
    "WHERE name LIKE '%burg';"
   ]
  },
  {
   "cell_type": "markdown",
   "id": "693347f1",
   "metadata": {},
   "source": [
    "### Aufgabe 3:\n",
    "**Frage:**\n",
    "Gib alle Länder aus, die entweder in Europa oder in Asien liegen.\n",
    "\n",
    "**Lösung:**"
   ]
  },
  {
   "cell_type": "code",
   "execution_count": null,
   "id": "41cc5846",
   "metadata": {
    "vscode": {
     "languageId": "sql"
    }
   },
   "outputs": [],
   "source": [
    "SELECT name\n",
    "FROM Country\n",
    "WHERE continent = 'Europe' OR continent = 'Asia';"
   ]
  },
  {
   "cell_type": "markdown",
   "id": "f171858e",
   "metadata": {},
   "source": [
    "### Aufgabe 4:\n",
    "\n",
    "**Frage:**\n",
    "Finde alle Flüsse, deren Name den Buchstaben „a“ enthält.\n",
    "\n",
    "**Lösung:**"
   ]
  },
  {
   "cell_type": "code",
   "execution_count": null,
   "id": "56228f2f",
   "metadata": {
    "vscode": {
     "languageId": "sql"
    }
   },
   "outputs": [],
   "source": [
    "SELECT name\n",
    "FROM River\n",
    "WHERE name LIKE '%a%';"
   ]
  },
  {
   "cell_type": "markdown",
   "id": "e1baf419",
   "metadata": {},
   "source": [
    "### Aufgabe 5:\n",
    "**Frage:**\n",
    "Gib alle Länder aus, deren BIP größer als 1000 und deren Bevölkerung größer als 50 Millionen ist.\n",
    "\n",
    "**Lösung:**"
   ]
  },
  {
   "cell_type": "code",
   "execution_count": null,
   "id": "6c4c2211",
   "metadata": {
    "vscode": {
     "languageId": "sql"
    }
   },
   "outputs": [],
   "source": [
    "SELECT name, gdp, population\n",
    "FROM Country\n",
    "WHERE gdp > 1000 AND population > 50000000;"
   ]
  },
  {
   "cell_type": "markdown",
   "id": "158d3501",
   "metadata": {},
   "source": [
    "### Aufgabe 6:\n",
    "**Frage:**\n",
    "Gib alle Länder zusammen mit dem Namen ihrer Hauptstadt aus.\n",
    "\n",
    "**Lösung:**"
   ]
  },
  {
   "cell_type": "code",
   "execution_count": null,
   "id": "ac5719a4",
   "metadata": {
    "vscode": {
     "languageId": "sql"
    }
   },
   "outputs": [],
   "source": [
    "SELECT c.name AS Land, ci.name AS Hauptstadt\n",
    "FROM Country c, City ci\n",
    "WHERE c.capital = ci.id;"
   ]
  },
  {
   "cell_type": "markdown",
   "id": "9c0e0438",
   "metadata": {},
   "source": [
    "### Aufgabe 7:\n",
    "**Frage:**\n",
    "Gib alle Flüsse mit dem Namen der Länder aus, durch die sie fließen.\n",
    "\n",
    "**Lösung:**"
   ]
  },
  {
   "cell_type": "code",
   "execution_count": null,
   "id": "94ef886c",
   "metadata": {
    "vscode": {
     "languageId": "sql"
    }
   },
   "outputs": [],
   "source": [
    "SELECT r.name AS Fluss, c.name AS Land\n",
    "FROM River r, GeoRiver gr, Country c\n",
    "WHERE r.name = gr.river AND gr.country = c.code;"
   ]
  },
  {
   "cell_type": "markdown",
   "id": "2d075e61",
   "metadata": {},
   "source": [
    "### Aufgabe 8:\n",
    "**Frage:**\n",
    "Gib alle Städte mit dem Namen des Kontinents des jeweiligen Landes aus.\n",
    "\n",
    "**Lösung:**"
   ]
  },
  {
   "cell_type": "code",
   "execution_count": null,
   "id": "5a67b576",
   "metadata": {
    "vscode": {
     "languageId": "sql"
    }
   },
   "outputs": [],
   "source": [
    "SELECT ci.name AS Stadt, co.continent\n",
    "FROM City ci, Country co\n",
    "WHERE ci.country = co.code;"
   ]
  },
  {
   "cell_type": "markdown",
   "id": "56ed95ef",
   "metadata": {},
   "source": [
    "### Aufgabe 9:\n",
    "**Frage:**\n",
    "Gib alle Länder und die Namen der Organisationen aus, in denen sie Mitglied sind.\n",
    "\n",
    "**Lösung:**"
   ]
  },
  {
   "cell_type": "code",
   "execution_count": null,
   "id": "e42dfa92",
   "metadata": {
    "vscode": {
     "languageId": "sql"
    }
   },
   "outputs": [],
   "source": [
    "SELECT c.name AS Land, o.name AS Organisation\n",
    "FROM Country c, isMember m, Organization o\n",
    "WHERE c.code = m.country AND m.organization = o.abbreviation;"
   ]
  },
  {
   "cell_type": "markdown",
   "id": "ab5470e1",
   "metadata": {},
   "source": [
    "### Aufgabe 10:\n",
    "**Frage:**\n",
    "Gib den Namen jedes Flusses und die Hauptstadt jedes Landes aus, das dieser Fluss durchquert.\n",
    "\n",
    "**Lösung:**"
   ]
  },
  {
   "cell_type": "code",
   "execution_count": null,
   "id": "29c28408",
   "metadata": {
    "vscode": {
     "languageId": "sql"
    }
   },
   "outputs": [],
   "source": [
    "SELECT r.name AS Fluss, ci.name AS Hauptstadt\n",
    "FROM River r, GeoRiver gr, Country c, City ci\n",
    "WHERE r.name = gr.river AND gr.country = c.code AND c.capital = ci.id;"
   ]
  },
  {
   "cell_type": "markdown",
   "id": "15e8beb6",
   "metadata": {},
   "source": [
    "### Aufgabe 11:\n",
    "**Frage:**\n",
    "ib alle Seen aus, deren Fläche größer als 10.000 ist.\n",
    "\n",
    "**Lösung:**"
   ]
  },
  {
   "cell_type": "code",
   "execution_count": null,
   "id": "ef458ac2",
   "metadata": {
    "vscode": {
     "languageId": "sql"
    }
   },
   "outputs": [],
   "source": [
    "SELECT name, area\n",
    "FROM Lake\n",
    "WHERE area > 10000;"
   ]
  },
  {
   "cell_type": "markdown",
   "id": "aea831c5",
   "metadata": {},
   "source": [
    "### Aufgabe 12:\n",
    "**Frage:**\n",
    "Gib alle Länder aus, in denen Englisch als Sprache gesprochen wird.\n",
    "\n",
    "**Lösung:**"
   ]
  },
  {
   "cell_type": "code",
   "execution_count": null,
   "id": "6d658a64",
   "metadata": {
    "vscode": {
     "languageId": "sql"
    }
   },
   "outputs": [],
   "source": [
    "SELECT DISTINCT c.name\n",
    "FROM Country c, speaks s\n",
    "WHERE c.code = s.country AND s.language = 'English';"
   ]
  },
  {
   "cell_type": "markdown",
   "id": "7472b695",
   "metadata": {},
   "source": [
    "### Aufgabe 13:\n",
    "**Frage:**\n",
    "Gib die Religionen und die zugehörigen Länder in Afrika aus.\n",
    "\n",
    "**Lösung:**"
   ]
  },
  {
   "cell_type": "code",
   "execution_count": null,
   "id": "9a6e2f8e",
   "metadata": {
    "vscode": {
     "languageId": "sql"
    }
   },
   "outputs": [],
   "source": [
    "SELECT DISTINCT r.religion, c.name AS Land\n",
    "FROM Country c, religion r\n",
    "WHERE c.code = r.country AND c.continent = 'Africa';"
   ]
  },
  {
   "cell_type": "markdown",
   "id": "a59bcffc",
   "metadata": {},
   "source": [
    "### Aufgabe 14:\n",
    "**Frage:**\n",
    "Gib alle Wüsten und die Länder aus, in denen sie vorkommen.\n",
    "\n",
    "**Lösung:**"
   ]
  },
  {
   "cell_type": "code",
   "execution_count": null,
   "id": "0af1f5af",
   "metadata": {
    "vscode": {
     "languageId": "sql"
    }
   },
   "outputs": [],
   "source": [
    "SELECT d.name AS Wueste, c.name AS Land\n",
    "FROM Desert d, geoDesert gd, Country c\n",
    "WHERE d.name = gd.desert AND gd.country = c.code;"
   ]
  }
 ],
 "metadata": {
  "kernelspec": {
   "display_name": "3.13.2",
   "language": "python",
   "name": "python3"
  },
  "language_info": {
   "codemirror_mode": {
    "name": "ipython",
    "version": 3
   },
   "file_extension": ".py",
   "mimetype": "text/x-python",
   "name": "python",
   "nbconvert_exporter": "python",
   "pygments_lexer": "ipython3",
   "version": "3.13.2"
  }
 },
 "nbformat": 4,
 "nbformat_minor": 5
}
