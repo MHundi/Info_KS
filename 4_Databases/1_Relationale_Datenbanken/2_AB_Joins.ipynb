{
 "cells": [
  {
   "cell_type": "markdown",
   "metadata": {},
   "source": [
    " ### 2 SQL-Übungsaufgaben -  Joins und Pattern Matching\n",
    "\n",
    "\n",
    "\n",
    "#### Aufgabe 1: \n",
    "\n",
    "Schreiben Sie eine SQL-Abfrage, die alle Länder aus der Tabelle country anzeigt, deren Name mit dem Buchstaben „A“ beginnt.\n",
    "\n",
    "\n",
    "\n",
    "#### Aufgabe 2:\n",
    "\n",
    "Suchen Sie alle Seen (lake.name), deren Name genau vier Zeichen lang ist.\n",
    "\n",
    "#### Aufgabe 3: \n",
    "\n",
    "Finden Sie alle Berge (mountain.name), die „Mount“ im Namen enthalten, zusammen mit ihrer Höhe (elevation).\n",
    "\n",
    "#### Aufgabe 4: \n",
    "\n",
    "Listen Sie alle Städte (city.name) auf, die „ville“ im Namen enthalten, und geben Sie die jeweilige Einwohnerzahl (population) aus.\n",
    "\n",
    "#### Aufgabe 5:\n",
    "\n",
    "Erstellen Sie eine Abfrage, die alle Hauptstädte mit „new“ im Namen und das zugehörige Land (country.name) anzeigt.\n",
    "\n",
    "#### Aufgabe 6: \n",
    "\n",
    "Finden Sie alle Länder (country.name), in deren Namen zwei aufeinanderfolgende Vokale (z. B. „aa“, „ee“, „oo“) vorkommen.\n",
    "\n",
    "#### Aufgabe 7: \n",
    "\n",
    "Geben Sie alle Flüsse (river.name) aus, deren Name mit „A“ beginnt und die durch mindestens zwei verschiedene Länder fließen. Nutzen Sie hierfür einen Join mit der geography-Tabelle.\n",
    "\n",
    "#### Aufgabe 8: \n",
    "\n",
    "Finden Sie alle Hauptstädte (city.name), die in ihrem Namen die Zeichenfolge „burg“ enthalten. Nutzen Sie dabei einen Join mit der country-Tabelle.\n",
    "\n",
    "#### Aufgabe 9:\n",
    "\n",
    "Ermitteln Sie alle Flüsse (river.name), deren Name auf „-er“ endet.\n",
    "\n",
    "#### Aufgabe 10: \n",
    "\n",
    "Ermitteln Sie alle Flüsse (river.name), deren Name auf „-er“ endet.\n"
   ]
  },
  {
   "cell_type": "markdown",
   "metadata": {},
   "source": []
  }
 ],
 "metadata": {
  "language_info": {
   "name": "python"
  }
 },
 "nbformat": 4,
 "nbformat_minor": 2
}
