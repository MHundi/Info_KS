{
 "cells": [
  {
   "cell_type": "markdown",
   "id": "ddcd0403",
   "metadata": {},
   "source": [
    "## SQL-Übungsaufgaben – Aggregatfunktionen Lösungen\n",
    "\n"
   ]
  },
  {
   "cell_type": "markdown",
   "id": "fccf340f",
   "metadata": {},
   "source": [
    "### Aufgabe 1: Anzahl aller Länder\n",
    "Wie viele Länder sind in der Datenbank enthalten?"
   ]
  },
  {
   "cell_type": "code",
   "execution_count": null,
   "id": "466cb97c",
   "metadata": {
    "vscode": {
     "languageId": "sql"
    }
   },
   "outputs": [],
   "source": [
    "SELECT COUNT(*) AS AnzahlLaender\n",
    "FROM Country;"
   ]
  },
  {
   "cell_type": "markdown",
   "id": "3dde7e24",
   "metadata": {},
   "source": [
    "### Aufgabe 2: Anzahl der Städte\n",
    "Wie viele Städte sind insgesamt in der Datenbank enthalten?"
   ]
  },
  {
   "cell_type": "code",
   "execution_count": null,
   "id": "7d3b1bdf",
   "metadata": {
    "vscode": {
     "languageId": "sql"
    }
   },
   "outputs": [],
   "source": [
    "SELECT COUNT(*) AS AnzahlStaedte\n",
    "FROM City;"
   ]
  },
  {
   "cell_type": "markdown",
   "id": "6db5eea8",
   "metadata": {},
   "source": [
    "### Aufgabe 3: Durchschnittliche Fläche aller Länder\n",
    "Wie groß ist die durchschnittliche Fläche aller Länder?"
   ]
  },
  {
   "cell_type": "code",
   "execution_count": null,
   "id": "4dea082f",
   "metadata": {
    "vscode": {
     "languageId": "sql"
    }
   },
   "outputs": [],
   "source": [
    "SELECT AVG(area) AS Durchschnittsflaeche\n",
    "FROM Country;"
   ]
  },
  {
   "cell_type": "markdown",
   "id": "dbf8e476",
   "metadata": {},
   "source": [
    "### Aufgabe 4: Gesamtbevölkerung aller Länder\n",
    "Wie hoch ist die gesamte Bevölkerung weltweit?"
   ]
  },
  {
   "cell_type": "code",
   "execution_count": null,
   "id": "0d658bfa",
   "metadata": {
    "vscode": {
     "languageId": "sql"
    }
   },
   "outputs": [],
   "source": [
    "SELECT SUM(population) AS Weltbevoelkerung\n",
    "FROM Country;"
   ]
  },
  {
   "cell_type": "markdown",
   "id": "a3bd16a1",
   "metadata": {},
   "source": [
    "### Aufgabe 5: Stadt mit der höchsten Einwohnerzahl\n",
    "Welche Stadt hat die meisten Einwohner?"
   ]
  },
  {
   "cell_type": "code",
   "execution_count": null,
   "id": "e4bb2cf8",
   "metadata": {
    "vscode": {
     "languageId": "sql"
    }
   },
   "outputs": [],
   "source": [
    "SELECT name, population\n",
    "FROM City\n",
    "WHERE population = (\n",
    "  SELECT MAX(population)\n",
    "  FROM City\n",
    ");"
   ]
  },
  {
   "cell_type": "markdown",
   "id": "e17410aa",
   "metadata": {},
   "source": [
    "### Aufgabe 6: Längster Fluss\n",
    "Wie heißt der längste Fluss in der Datenbank?"
   ]
  },
  {
   "cell_type": "code",
   "execution_count": null,
   "id": "518b2351",
   "metadata": {
    "vscode": {
     "languageId": "sql"
    }
   },
   "outputs": [],
   "source": [
    "SELECT name, length\n",
    "FROM River\n",
    "WHERE length = (\n",
    "  SELECT MAX(length)\n",
    "  FROM River\n",
    ");"
   ]
  },
  {
   "cell_type": "markdown",
   "id": "261d4c4c",
   "metadata": {},
   "source": [
    "### Aufgabe 7: Organisation mit frühester Gründung\n",
    "Welche Organisation wurde als erstes gegründet?"
   ]
  },
  {
   "cell_type": "code",
   "execution_count": null,
   "id": "2fe6dda8",
   "metadata": {
    "vscode": {
     "languageId": "sql"
    }
   },
   "outputs": [],
   "source": [
    "SELECT name, established\n",
    "FROM Organization\n",
    "WHERE established = (\n",
    "  SELECT MIN(established)\n",
    "  FROM Organization\n",
    ");"
   ]
  },
  {
   "cell_type": "markdown",
   "id": "0b0d58ff",
   "metadata": {},
   "source": [
    "### Aufgabe 8: Länder mit überdurchschnittlicher Bevölkerung\n",
    "Welche Länder haben mehr Einwohner als der Durchschnitt aller Länder?"
   ]
  },
  {
   "cell_type": "code",
   "execution_count": null,
   "id": "814d0835",
   "metadata": {
    "vscode": {
     "languageId": "sql"
    }
   },
   "outputs": [],
   "source": [
    "SELECT name, population\n",
    "FROM Country\n",
    "WHERE population > (\n",
    "  SELECT AVG(population)\n",
    "  FROM Country\n",
    ");"
   ]
  },
  {
   "cell_type": "markdown",
   "id": "de053afa",
   "metadata": {},
   "source": [
    "### Aufgabe 9: Städte unter dem Durchschnitt\n",
    "Welche Städte haben weniger Einwohner als der Durchschnitt aller Städte?"
   ]
  },
  {
   "cell_type": "code",
   "execution_count": null,
   "id": "3bd85ecf",
   "metadata": {
    "vscode": {
     "languageId": "sql"
    }
   },
   "outputs": [],
   "source": [
    "SELECT name, population\n",
    "FROM City\n",
    "WHERE population < (\n",
    "  SELECT AVG(population)\n",
    "  FROM City\n",
    ");"
   ]
  },
  {
   "cell_type": "markdown",
   "id": "80f7641b",
   "metadata": {},
   "source": [
    "### Aufgabe 10: Länder mit überdurchschnittlichem BIP\n",
    "Welche Länder haben ein höheres BIP als der Durchschnitt aller Länder?"
   ]
  },
  {
   "cell_type": "code",
   "execution_count": null,
   "id": "51d7c560",
   "metadata": {
    "vscode": {
     "languageId": "sql"
    }
   },
   "outputs": [],
   "source": [
    "SELECT name, gdp\n",
    "FROM Country\n",
    "WHERE gdp > (\n",
    "  SELECT AVG(gdp)\n",
    "  FROM Country\n",
    ");"
   ]
  }
 ],
 "metadata": {
  "language_info": {
   "name": "python"
  }
 },
 "nbformat": 4,
 "nbformat_minor": 5
}
