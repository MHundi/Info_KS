{
 "cells": [
  {
   "cell_type": "markdown",
   "id": "44046e96",
   "metadata": {},
   "source": [
    "## SQL-Übungsaufgaben – Funktionen\n",
    "\n",
    "### Aggreatfunktionen"
   ]
  },
  {
   "cell_type": "markdown",
   "id": "0fcfc0ff",
   "metadata": {},
   "source": [
    "#### Aufgabe 1: Anzahl der Länder\n",
    "**Frage:**\n",
    "Wie viele Länder sind in der Datenbank erfasst?"
   ]
  },
  {
   "cell_type": "code",
   "execution_count": 3,
   "id": "5b952d84",
   "metadata": {
    "vscode": {
     "languageId": "sql"
    }
   },
   "outputs": [
    {
     "ename": "SyntaxError",
     "evalue": "illegal target for annotation (932453560.py, line 1)",
     "output_type": "error",
     "traceback": [
      "\u001b[0;36m  Cell \u001b[0;32mIn[3], line 1\u001b[0;36m\u001b[0m\n\u001b[0;31m    -- Active: 1742754679619@@127.0.0.1@5432@mondial\u001b[0m\n\u001b[0m    ^\u001b[0m\n\u001b[0;31mSyntaxError\u001b[0m\u001b[0;31m:\u001b[0m illegal target for annotation\n"
     ]
    }
   ],
   "source": [
    "-- Active: 1742754679619@@127.0.0.1@5432@mondial\n",
    "SELECT COUNT(*) AS AnzahlLaender\n",
    "FROM Country;"
   ]
  },
  {
   "cell_type": "markdown",
   "id": "cd370509",
   "metadata": {},
   "source": [
    "#### Aufgabe 2: Durchschnittliche Fläche aller Länder\n",
    "**Frage:**\n",
    "Ermittle die durchschnittliche Fläche (`area`) aller Länder."
   ]
  },
  {
   "cell_type": "code",
   "execution_count": null,
   "id": "77a119b9",
   "metadata": {
    "vscode": {
     "languageId": "sql"
    }
   },
   "outputs": [],
   "source": [
    "SELECT AVG(area) AS Durchschnittsflaeche\n",
    "FROM Country;"
   ]
  },
  {
   "cell_type": "markdown",
   "id": "8498ab7a",
   "metadata": {},
   "source": [
    "#### Aufgabe 3: Kleinste und größte Stadt nach Einwohnerzahl\n",
    "**Frage:**\n",
    "Bestimme die kleinste und die größte Stadt nach Einwohnerzahl."
   ]
  },
  {
   "cell_type": "code",
   "execution_count": null,
   "id": "ba7fe1b8",
   "metadata": {
    "vscode": {
     "languageId": "sql"
    }
   },
   "outputs": [
    {
     "ename": "SyntaxError",
     "evalue": "invalid syntax (771208148.py, line 1)",
     "output_type": "error",
     "traceback": [
      "\u001b[0;36m  Cell \u001b[0;32mIn[2], line 1\u001b[0;36m\u001b[0m\n\u001b[0;31m    -- Kleinste Stadt:\u001b[0m\n\u001b[0m                ^\u001b[0m\n\u001b[0;31mSyntaxError\u001b[0m\u001b[0;31m:\u001b[0m invalid syntax\n"
     ]
    }
   ],
   "source": [
    "\n",
    "-- Kleinste Stadt:\n",
    "SELECT name, population\n",
    "FROM City\n",
    "WHERE population = (SELECT MIN(population) FROM City);\n",
    "\n"
   ]
  },
  {
   "cell_type": "code",
   "execution_count": null,
   "id": "45bfa75d",
   "metadata": {
    "vscode": {
     "languageId": "sql"
    }
   },
   "outputs": [],
   "source": [
    "-- Größte Stadt:\n",
    "SELECT name, population\n",
    "FROM City\n",
    "WHERE population = (SELECT MAX(population) FROM City);"
   ]
  },
  {
   "cell_type": "markdown",
   "id": "5ebe682a",
   "metadata": {},
   "source": [
    "#### Aufgabe 4: Anzahl der Städte pro Land\n",
    "**Frage:**\n",
    "Gib für jedes Land an, wie viele Städte dazu gehören."
   ]
  },
  {
   "cell_type": "code",
   "execution_count": null,
   "id": "a6575379",
   "metadata": {
    "vscode": {
     "languageId": "sql"
    }
   },
   "outputs": [],
   "source": [
    "SELECT name, COUNT(*) AS AnzahlStaedte\n",
    "FROM City\n",
    "WHERE \n",
    "GROUP BY country;"
   ]
  },
  {
   "cell_type": "markdown",
   "id": "8d0cc5b9",
   "metadata": {},
   "source": [
    "#### Aufgabe 5: Durchschnittliches BIP pro Kontinent\n",
    "**Frage:**\n",
    "Ermittle das durchschnittliche BIP (`gdp`) pro Kontinent."
   ]
  },
  {
   "cell_type": "code",
   "execution_count": null,
   "id": "93d361a9",
   "metadata": {
    "vscode": {
     "languageId": "sql"
    }
   },
   "outputs": [],
   "source": [
    "SELECT \n",
    "    enc.continent,\n",
    "    AVG(econ.gdp) AS avg_gdp\n",
    "FROM \n",
    "    country c\n",
    "JOIN \n",
    "    economy econ ON c.code = econ.country\n",
    "JOIN \n",
    "    encompasses enc ON c.code = enc.country\n",
    "WHERE \n",
    "    econ.gdp IS NOT NULL\n",
    "GROUP BY \n",
    "    enc.continent;"
   ]
  },
  {
   "cell_type": "markdown",
   "id": "eba06add",
   "metadata": {},
   "source": []
  },
  {
   "cell_type": "markdown",
   "id": "6ce04b8f",
   "metadata": {},
   "source": [
    "#### Aufgabe 6: Flüsse pro Land\n",
    "**Frage:**\n",
    "Wie viele Flüsse fließen durch jedes Land?"
   ]
  },
  {
   "cell_type": "code",
   "execution_count": null,
   "id": "aa0551ce",
   "metadata": {
    "vscode": {
     "languageId": "sql"
    }
   },
   "outputs": [],
   "source": [
    "SELECT gr.country, COUNT(DISTINCT gr.river) AS AnzahlFluesse\n",
    "FROM GeoRiver gr\n",
    "GROUP BY gr.country;"
   ]
  },
  {
   "cell_type": "markdown",
   "id": "fd48d248",
   "metadata": {},
   "source": [
    "#### Aufgabe 7: Gesamtbevölkerung aller Länder, die Mitglied der EU sind\n",
    "**Frage:**\n",
    "Bestimme die Gesamtbevölkerung aller Länder, die Mitglied in der **European Union** sind."
   ]
  },
  {
   "cell_type": "code",
   "execution_count": null,
   "id": "f7c51c2a",
   "metadata": {
    "vscode": {
     "languageId": "sql"
    }
   },
   "outputs": [],
   "source": [
    "SELECT SUM(c.population) AS Gesamtbevoelkerung_EU\n",
    "FROM Country c\n",
    "JOIN isMember m ON c.code = m.country\n",
    "JOIN Organization o ON m.organization = o.abbreviation\n",
    "WHERE o.name = 'European Union';"
   ]
  },
  {
   "cell_type": "markdown",
   "id": "b9068790",
   "metadata": {},
   "source": [
    "#### Aufgabe 8: Durchschnittliche Länge der Flüsse pro Kontinent\n",
    "**Frage:**\n",
    "Gib für jeden Kontinent die durchschnittliche Länge der Flüsse an, die durch mindestens ein Land auf diesem Kontinent fließen."
   ]
  },
  {
   "cell_type": "code",
   "execution_count": null,
   "id": "a519ac09",
   "metadata": {
    "vscode": {
     "languageId": "sql"
    }
   },
   "outputs": [],
   "source": [
    "SELECT c.continent, AVG(DISTINCT r.length) AS DurchschnittsLaenge\n",
    "FROM River r\n",
    "JOIN GeoRiver gr ON r.name = gr.river\n",
    "JOIN Country c ON gr.country = c.code\n",
    "GROUP BY c.continent;"
   ]
  },
  {
   "cell_type": "markdown",
   "id": "725b37ef",
   "metadata": {},
   "source": [
    "#### Aufgabe 9: Länder mit Städten über dem Durchschnitt\n",
    "**Frage:**\n",
    "Gib alle Länder aus, die mindestens eine Stadt mit mehr Einwohnern als die durchschnittliche Stadtbevölkerung weltweit haben."
   ]
  },
  {
   "cell_type": "code",
   "execution_count": null,
   "id": "78bf9175",
   "metadata": {
    "vscode": {
     "languageId": "sql"
    }
   },
   "outputs": [],
   "source": [
    "SELECT DISTINCT co.name\n",
    "FROM City ci\n",
    "JOIN Country co ON ci.country = co.code\n",
    "WHERE ci.population > (\n",
    "    SELECT AVG(population)\n",
    "    FROM City\n",
    ");"
   ]
  },
  {
   "cell_type": "markdown",
   "id": "1eebda4e",
   "metadata": {},
   "source": [
    "#### Aufgabe 10: Kontinente mit höchster durchschnittlicher Bevölkerungsdichte\n",
    "**Frage:**\n",
    "Ermittle den Kontinent mit der höchsten durchschnittlichen Bevölkerungsdichte (Bevölkerung / Fläche) über alle seine Länder."
   ]
  },
  {
   "cell_type": "code",
   "execution_count": null,
   "id": "b3f7763a",
   "metadata": {
    "vscode": {
     "languageId": "sql"
    }
   },
   "outputs": [],
   "source": [
    "SELECT continent, AVG(population / area) AS DurchschnittsDichte\n",
    "FROM Country\n",
    "GROUP BY continent\n",
    "ORDER BY DurchschnittsDichte DESC\n",
    "LIMIT 1;"
   ]
  },
  {
   "cell_type": "markdown",
   "id": "0dc2ae2e",
   "metadata": {},
   "source": [
    "### Gruppierung"
   ]
  },
  {
   "cell_type": "markdown",
   "id": "d725b316",
   "metadata": {},
   "source": [
    "### Aufgabe 1: Kontinente mit mehr als 10 Ländern  \n",
    "**Frage:**  \n",
    "Gib alle Kontinente aus, die **mehr als 10 Länder** umfassen.\n",
    "\n",
    "**Lösung:**  \n"
   ]
  },
  {
   "cell_type": "code",
   "execution_count": null,
   "id": "2b2a11e2",
   "metadata": {
    "vscode": {
     "languageId": "sql"
    }
   },
   "outputs": [],
   "source": [
    "\n",
    "SELECT continent, COUNT(*) AS LaenderAnzahl\n",
    "FROM Country\n",
    "GROUP BY continent\n",
    "HAVING COUNT(*) > 10;\n"
   ]
  },
  {
   "cell_type": "markdown",
   "id": "fe3c7a96",
   "metadata": {},
   "source": [
    "#### Aufgabe 2: Länder mit mehr als 3 Städten\n",
    "**Frage:**\n",
    "Gib alle Länder aus, die **mehr als 3 Städte** in der Datenbank enthalten.\n",
    "\n",
    "**Lösung:**"
   ]
  },
  {
   "cell_type": "code",
   "execution_count": null,
   "metadata": {
    "vscode": {
     "languageId": "sql"
    }
   },
   "outputs": [],
   "source": [
    "SELECT country, COUNT(*) AS Stadtanzahl\n",
    "FROM City\n",
    "GROUP BY country\n",
    "HAVING COUNT(*) > 3;"
   ]
  },
  {
   "cell_type": "markdown",
   "id": "f1dc29e0",
   "metadata": {},
   "source": [
    "#### Aufgabe 3: Länder mit durchschnittlicher Stadtbevölkerung über 1 Mio.\n",
    "**Frage:**\n",
    "Finde alle Länder, in denen die **durchschnittliche Bevölkerung der Städte** über **1.000.000 Einwohner** liegt.\n",
    "\n",
    "**Lösung:**"
   ]
  },
  {
   "cell_type": "code",
   "execution_count": null,
   "id": "14bfdd6d",
   "metadata": {
    "vscode": {
     "languageId": "sql"
    }
   },
   "outputs": [],
   "source": [
    "SELECT country, AVG(population) AS DurchschnittsEinwohner\n",
    "FROM City\n",
    "GROUP BY country\n",
    "HAVING AVG(population) > 1000000;"
   ]
  },
  {
   "cell_type": "markdown",
   "id": "19ca4306",
   "metadata": {},
   "source": [
    "#### Aufgabe 4: Kontinente mit Gesamtbevölkerung über 500 Millionen\n",
    "**Frage:**\n",
    "Gib alle Kontinente aus, deren **Gesamtbevölkerung** über **500 Millionen** liegt.\n",
    "\n",
    "**Lösung:**"
   ]
  },
  {
   "cell_type": "code",
   "execution_count": null,
   "id": "5b7cd32e",
   "metadata": {
    "vscode": {
     "languageId": "sql"
    }
   },
   "outputs": [],
   "source": [
    "SELECT continent, SUM(population) AS GesamtBevoelkerung\n",
    "FROM Country\n",
    "GROUP BY continent\n",
    "HAVING SUM(population) > 500000000;"
   ]
  },
  {
   "cell_type": "markdown",
   "id": "c3822a6a",
   "metadata": {},
   "source": [
    "## Aufgabe 5: Länder mit hoher Flussvielfalt\n",
    "**Frage:**\n",
    "Liste alle Länder auf, durch die **mehr als 5 unterschiedliche Flüsse** fließen.\n",
    "\n",
    "**Lösung:**"
   ]
  },
  {
   "cell_type": "code",
   "execution_count": null,
   "id": "977c7732",
   "metadata": {
    "vscode": {
     "languageId": "sql"
    }
   },
   "outputs": [],
   "source": [
    "SELECT gr.country, COUNT(DISTINCT gr.river) AS Flussanzahl\n",
    "FROM GeoRiver gr\n",
    "GROUP BY gr.country\n",
    "HAVING COUNT(DISTINCT gr.river) > 5"
   ]
  }
 ],
 "metadata": {
  "kernelspec": {
   "display_name": "3.13.2",
   "language": "python",
   "name": "python3"
  },
  "language_info": {
   "codemirror_mode": {
    "name": "ipython",
    "version": 3
   },
   "file_extension": ".py",
   "mimetype": "text/x-python",
   "name": "python",
   "nbconvert_exporter": "python",
   "pygments_lexer": "ipython3",
   "version": "3.13.2"
  }
 },
 "nbformat": 4,
 "nbformat_minor": 5
}
