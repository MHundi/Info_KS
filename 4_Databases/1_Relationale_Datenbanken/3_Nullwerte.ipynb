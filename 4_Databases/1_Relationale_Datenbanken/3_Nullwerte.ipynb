{
 "cells": [
  {
   "cell_type": "markdown",
   "metadata": {},
   "source": [
    "## 4. Nullwerte"
   ]
  },
  {
   "cell_type": "markdown",
   "metadata": {},
   "source": [
    "Beispiel:\n",
    "\n",
    "Gib zu jedem Land den Anteil der Industrie und der Landwirtschaft am  Bruttosozialprodukt an.\n",
    "\n",
    "Anfrage:\n",
    "```sql\n",
    "SELECT country, industry, agriculture\n",
    "FROM economy\n",
    "```\n",
    "Ergebnis:\n",
    "\n",
    " <center> \n",
    "\n",
    "| country | industry  | agriculture | \n",
    "| :-----------------: |:------:|:-------:|\n",
    "| ...             | ...   | ...   | \n",
    "| AG              | 19.3 | 3.5 | \n",
    "| AL            | NULL  | 55 |\n",
    "| AND           | NULL  | NULL |\n",
    "| ...               | ...  | ...   | \n",
    "\n",
    "\n",
    " </center>  \n",
    "\n",
    "Bedeutung:\n",
    "\n",
    "+ Wert existiert aber nicht bekannt\n",
    "+ Wert existiert erst in Zukunft\n",
    "+ Wert nicht eingetragen\n",
    "+ Wert existiert nicht\n",
    "+ Attribut nicht anwendbar"
   ]
  },
  {
   "cell_type": "markdown",
   "metadata": {},
   "source": []
  },
  {
   "cell_type": "markdown",
   "metadata": {},
   "source": [
    "Ergebnis:\n",
    "\n",
    "|country | industry | agriculture|\n",
    "|:--------:|:----------:|:------------:|\n",
    "| ...    | ... | ...|\n",
    "|\n",
    "\n",
    "\n",
    "Bedeutung des NULL-Werts\n",
    "\n",
    "\n",
    "+ Wert existiert aber nicht bekannt\n",
    "+ Wert existiert erst in Zukunft\n",
    "+ Wert nicht eingetragen\n",
    "+ Wert existiert nicht\n",
    "+ Attribut nicht anwendbar"
   ]
  }
 ],
 "metadata": {
  "kernelspec": {
   "display_name": "3.13.2",
   "language": "python",
   "name": "python3"
  },
  "language_info": {
   "name": "python",
   "version": "3.13.2"
  }
 },
 "nbformat": 4,
 "nbformat_minor": 2
}
