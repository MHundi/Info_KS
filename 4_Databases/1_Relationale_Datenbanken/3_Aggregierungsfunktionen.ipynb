{
 "cells": [
  {
   "cell_type": "markdown",
   "metadata": {},
   "source": [
    "### 3. Aggregerierungsfunktionen\n",
    "\n",
    "- Aggregierung: \n",
    "\n",
    "    Zusammenfassunger einer Menge von Werten einer Spalte einer Tabelle zu einem Wert.\n",
    "\n",
    "- Funktionen:\n",
    "\n",
    "    COUNT, MIN, MAX, SUM,AVG"
   ]
  },
  {
   "cell_type": "markdown",
   "metadata": {},
   "source": [
    "#### `COUNT`\n",
    "\n",
    "Funktion:\n",
    "\n",
    "Zählen von Werten, insbesondere auch von Zeilen einer Tabelle\n",
    "\n",
    "Beispiel:\n",
    "\n",
    "Wie viele Länder der „EU“ sind aufgeführt?\n",
    "\n",
    "Anfrage:\n",
    "```sql\n",
    "SELECT COUNT(*)\n",
    "FROM is_member \n",
    "WHERE organization = “EU“\n",
    "```\n",
    "\n",
    "Allgemeine Syntax:\n",
    "```sql\n",
    "SELECT COUNT (spalte1, spalte2, ...)\n",
    "FROM tabelle\n",
    "WHERE ...\n",
    "```\n",
    "\n",
    "Bemerkung:\n",
    "\n",
    "Zeilen mit NULL-Werten werden mitgezählt.\n"
   ]
  },
  {
   "cell_type": "markdown",
   "metadata": {},
   "source": [
    "#### `MIN` oder `MAX`\n",
    "\n",
    "Funktion:\n",
    "\n",
    "Minimalwert bzw. Maximalwert einer Spalte in einer Tabelle bestimmen.\n",
    "\n",
    "Beispiel:\n",
    "\n",
    "Wie viele Einwohner leben in der größten deutschen Stadt? \n",
    "\n",
    "Anfrage:\n",
    "```sql\n",
    "SELECT MAX(population)\n",
    "FROM city\n",
    "WHERE country = “DE“\n",
    "```\n",
    "\n",
    "Allgemeine Syntax:\n",
    "```sql\n",
    "SELECT MIN(spalte) / MAX(spalte)\n",
    "FROM tabelle\n",
    "WHERE ...\n",
    "```\n",
    "\n",
    "Bemerkung:\n",
    "\n",
    "Für die Auswertung wird die Tabelle als Ganzes betrachtet.\n",
    "In einer Anfrage mit Aggregierungsfunktion dürfen in der SELECT-Klausel nur ausschließlich Aggregierungsfunktionen stehen!\n"
   ]
  },
  {
   "cell_type": "markdown",
   "metadata": {},
   "source": [
    "#### `SUM`und `AVG`\n",
    "\n",
    "Funktion:\n",
    "\n",
    "Summe und Durchschnitt der Werte einer Spalte in einer Tabelle bestimmen.\n",
    "\n",
    "Beispiel:\n",
    "\n",
    "Wieviele Einwohner leben durchschnittlich in allen Städten?\n",
    "\n",
    "Anfrage:\n",
    "```sql\n",
    "SELECT AVG(population)\n",
    "FROM city\n",
    "```\n",
    "\n",
    "Allgemeine Syntax:\n",
    "\n",
    "```sql\n",
    "SELECT AVG(spalte), SUM(spalte)\n",
    "FROM tabelle\n",
    "WHERE ...\n",
    "```\n",
    "Bemerkung:\n",
    "\n",
    "1. Für die Auswertung wird die Tabelle als ganzes betrachtet.\n",
    "2. Eine Aggregierungsfunktion => nur Aggregierungsfunktion in der SELECT-Klausel"
   ]
  },
  {
   "cell_type": "markdown",
   "metadata": {},
   "source": [
    "#### Vorsicht \n",
    "Wie hoch sind die durchschnittlichen Einwohnerzahlen in den Städten der einzelnen Länder?\n",
    "\n",
    "Anfrage:\n",
    "```sql\n",
    "SELECT country, AVG(population)\n",
    "FROM city\n",
    "\n",
    "Ergebnis:\n",
    "\n",
    "Fehlermeldung "
   ]
  },
  {
   "cell_type": "markdown",
   "metadata": {},
   "source": [
    "### 3. Komplexe Anfragen\n",
    "\n",
    "Beispiel:\n",
    "\n",
    "Welches sind die drei höchsten Einwohnerzahlen aller Städte?\n",
    "\n",
    "Anfrage:\n",
    "```sql\n",
    "SELECT MAX(a.population), MAX(b.population), MAX(c.population)\n",
    "FROM city a, city b, city c\n",
    "WHERE (a.population > b.population) AND (b.population > c.population)\n",
    "```\n",
    "\n",
    "Idee:\n",
    "\n",
    "Zusammenfassung in Gruppen derjenigen Zeilen, die in der Spalte `country` den gleichen Eintrag haben.\n",
    "Auswertung der Teilgruppen bezüglich der Aggregierungsfunktion.\n"
   ]
  },
  {
   "cell_type": "markdown",
   "metadata": {},
   "source": []
  }
 ],
 "metadata": {
  "language_info": {
   "name": "python"
  }
 },
 "nbformat": 4,
 "nbformat_minor": 2
}
