{
 "cells": [
  {
   "cell_type": "markdown",
   "metadata": {},
   "source": [
    "## Aufgaben: Komplexe Anfragen\n",
    "\n"
   ]
  },
  {
   "cell_type": "markdown",
   "metadata": {},
   "source": [
    "\n",
    "### Aufgabe 1\n",
    "Geben Sie von jeder Organisation die Summe der Einwohner aller Mitgliedsländer absteigend geordnet an (lassen Sie die verschiedenen Arten von Mitgliedschaften unberücksichtigt).\n",
    "\n",
    "### Aufgabe 2\n",
    "Geben Sie zu jedem Land in Amerika, falls vorhanden, den höchsten Berg des Landes und dessen Höhe an. Sortieren Sie die Ausgabe der Höhe nach.\n",
    "\n",
    "### Aufgabe 3\n",
    "Geben Sie für jedes Land die Gesamtzahl der Einwohner der Nachbarländer an (es sind 195 Länder!).\n",
    "\n",
    "### Aufgabe 4\n",
    "Bestimmen Sie den Durchschnittswert der geographischen Breite/Länge aller Städte. Was hätte man erwartet? Wie deckt sich das Ergebnis mit bekannten geographischen Tatsachen?\n",
    "\n",
    "#### Aufgabe 5\n",
    "In der Datenbank werden in den Relationen `Country` und `Province` Informationen über Einwohner redundant gehalten. Ermitteln Sie mit entsprechenden Anfragen die inkonsistenten Paare. Als inkonsistent werden dabei Abweichungen größer als 10% des Absolutwertes betrachtet.\n",
    "\n",
    "#### Aufgabe 6 \n",
    "Berechnen Sie den prozentualen Anteil der Anhänger jeder Religion an der Weltbevölkerung.\n",
    "\n",
    "#### Aufgabe 7\n",
    "Bestimmen Sie die Bevölkerungsdichte der Region, die die Länder Algerien (DZ), Libyen (LAR) und sämtliche Nachbarn dieser Länder umfasst.  \n",
    "In einer zweiten Anfrage vergleichen Sie das Ergebnis mit der Bevölkerungsdichte, die man erhält, wenn man die Wüsten als unbewohnbar berücksichtigt.\n",
    "\n",
    "#### Aufgabe 8\n",
    "Geben Sie alle Paare von Ländern in Europa aus, die an die gleiche Menge von Meeren angrenzen.\n",
    "\n",
    "**Hinweis:**\n",
    "- Mengen sind gleich, wenn sie genau die gleichen Elemente enthalten.\n",
    "- Da in der derzeitigen SQL-Version direkte Mengenvergleiche noch nicht möglich sind, muss der Gleichheitsoperator durch andere vorhandene Mengenoperatoren nachgebildet werden.\n",
    "\n",
    "#### Aufgabe 9\n",
    "Bestimmen Sie alle Organisationen, die auf jedem Kontinent mindestens ein Mitgliedsland haben (diese Operation wird als relationale Division bezeichnet; lassen Sie die verschiedenen Arten von Mitgliedschaften unberücksichtigt).\n",
    "\n",
    "#### Aufgabe 10\n",
    "Geben Sie für jede Organisation die Gesamtlänge ihrer Außengrenzen an (lassen Sie die verschiedenen Arten von Mitgliedschaften unberücksichtigt).\n",
    "\n",
    "#### Aufgabe 11\n",
    "Berechnen Sie alle Paare (Kontinent, Organisation), so dass alle Länder auf diesem Kontinent Mitglieder von Organisation sind. Was fällt auf?\n",
    "\n",
    "Stellen Sie dieselbe Anfrage noch einmal, wobei nur Länder berücksichtigt werden sollen, die in mindestens einer Organisation Mitglied sind.\n",
    "\n",
    "#### Aufgabe 12\n",
    "Bestimmen Sie alle Städte, die mehr Einwohner als der Durchschnitt der Städte dieses Landes haben.\n",
    "\n",
    "#### Aufgabe 13\n",
    "Bestimmen Sie den niedrigsten Berg, der der höchste Berg des Kontinents ist, zu dem er gehört."
   ]
  },
  {
   "cell_type": "markdown",
   "metadata": {},
   "source": []
  }
 ],
 "metadata": {
  "language_info": {
   "name": "python"
  }
 },
 "nbformat": 4,
 "nbformat_minor": 2
}
