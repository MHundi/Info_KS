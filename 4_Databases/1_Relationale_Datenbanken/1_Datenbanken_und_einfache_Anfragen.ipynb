{
 "cells": [
  {
   "cell_type": "raw",
   "metadata": {
    "vscode": {
     "languageId": "raw"
    }
   },
   "source": [
    "---\n",
    "format:\n",
    "  pdf:\n",
    "    pdf-engine: xelatex\n",
    "    documentclass: scrartcl\n",
    "    papersize: a4\n",
    "    fontsize: 11pt\n",
    "    fig-align: center\n",
    "    colorlinks: true\n",
    "    code-line-numbers: true\n",
    "    keep-tex: true\n",
    "    include-in-header:\n",
    "      - text: |\n",
    "          \\usepackage[document]{ragged2e}\n",
    "\n",
    "  beamer:\n",
    "    aspectratio: 169\n",
    "    navigation: horizontal\n",
    "    theme: Singapore\n",
    "    colortheme: orchid\n",
    "    toc: false\n",
    "    code-line-numbers: true\n",
    "    echo: false\n",
    "    fontsize: 25pt\n",
    "  \n",
    "  html:\n",
    "    standalone: true\n",
    "    section-divs: true\n",
    "    html-math-method: mathjax\n",
    "    wrap: none\n",
    "    default-image-extension: png\n",
    "\n",
    "execute: \n",
    "  enabled: true\n",
    "  echo: false\n",
    "Jupyter: python3\n",
    "\n",
    "mainfont: Avenir Next\n",
    "---"
   ]
  },
  {
   "cell_type": "markdown",
   "metadata": {},
   "source": [
    "## I. Datenbanken\n",
    "\n"
   ]
  },
  {
   "cell_type": "markdown",
   "metadata": {},
   "source": [
    "### 1. Relationale Datenbanken\n",
    "\n",
    "- Tabellarische Darstellungen sind die Grundstrukturen relationaler Datenbanken.\n",
    "\n",
    "- Begriffe der Theorie: Relation, Relationsbezeichner, Attribut, Tupel, Schlüssel,\n",
    "Primärschlüssel.\n",
    "\n",
    "- Analoge Begriffe in konkreten Datenbanken: Tabelle, Tabellenbezeichner, Spalte, Zeile.\n",
    "\n",
    "- Ein Schlüssel einer Relation ist eine minimale Teilmenge der Attribute der\n",
    "Relation, mittels der die einzelnen Tupel der Relation unterschieden werden\n",
    "können.\n",
    "\n",
    "- Der Primärschlüssel ist ein ausgewählter Schlüssel - er wird durch Unterstreichen gekennzeichnet.\n",
    "\n",
    "$$ \\text{Student} $$\n",
    "\n",
    "|<u>Student-ID</u> | Name | Vorname | Klassen | Adresse |\n",
    "|--- |--- |--- |--- |--- |\n",
    "|212 | Frei | Emil | KS 2 |Hansastraße 20|\n",
    "|134 | Tittel | Dominik | KS 2 | Yorkstraße 23a|\n",
    "|423 | Klum | Leni | KS 2 | Turnaustraße 43|"
   ]
  },
  {
   "cell_type": "markdown",
   "metadata": {},
   "source": [
    "### 2. Struktur und Inhalt einer Relation\n",
    "\n",
    "Die abstrakte Struktur einer Relation soll von ihrem Inhalt getrennt werden. Das wird bewerkstelligt mit dem Relationsschema. \n",
    "\n",
    "- Struktur der Relation Student:\n",
    "\n",
    "    Student(ID, Name, Vorname, Klasse, Adresse)\n",
    "\n",
    "\n",
    "\n",
    "- Der Inhalt/Zustand der Relation mit Schema Student ist die Relationsinstanz:\n",
    "\n",
    "$$ \\text{Student} $$\n",
    "\n",
    "<u>Student-ID</u> | Name | Vorname | Klasse | Adresse\n",
    "---|-----|---------|---------|----------\n",
    "212 | Frei | Emil | KS 2 |Hansastraße 20\n",
    "134 | Tittel | Dominik | KS 2 | Yorkstraße 23a\n",
    "423 | Klum | Leni | KS 2 | Turnaustraße 43\n",
    "\n",
    "- Die identifizierende Eigenschaft des Primärschlüssels muss für jede Instanz der Relation gewährleistet sein."
   ]
  },
  {
   "cell_type": "markdown",
   "metadata": {},
   "source": [
    "### 3. Beispiel einer Miniwelt\n",
    "\n",
    "Student(Student-ID, Name, Vorname, Klasse, Adresse)\n",
    "\n",
    "Lehrer(Teacher-ID, Vorname, Nachname, Titel)\n",
    "\n",
    "Fach(Kurzzeichen, Art, Stundenzahl)\n",
    "\n",
    "$$ \\text{Student} $$\n",
    "\n",
    "<u>Student-ID</u> | Name | Vorname | Klassen | Adresse\n",
    "---|-----|---------|---------|----------\n",
    "212 | Frei | Emil | KS 2 |Hansastraße 20\n",
    "134 | Tittel | Dominik | KS 2 | Yorkstraße 23a\n",
    "423 | Klum | Leni | KS 2 | Turnaustraße 43\n",
    "\n",
    "$$ \\text{Lehrer} $$\n",
    "\n",
    "<u>Lehrer-ID</u> | Vorname | Nachname |  Titel\n",
    "---|-----|---------|---------\n",
    "001 | Gerhard | Gauß | Dr \n",
    "002 | Felix| Otto | StD \n",
    "003 | Milena | Tabert | Frau \n",
    "\n",
    "$$ \\text{Fach} $$\n",
    "\n",
    "<u>Kurzzeichen</u> | Art | Stundenzahl\n",
    "---|-----|---------\n",
    "M | Hauptfach |  5\n",
    "Inf | Nebenfach |  2\n",
    "Bio | Nebenfach | 2\n"
   ]
  },
  {
   "cell_type": "markdown",
   "metadata": {},
   "source": [
    "### 4. Datenbankschema und Datenbankinstanz\n",
    "\n",
    "- Die Menge der Relationsschemata einer Miniwelt ergibt das (relationale) Datenbankschema der Miniwelt.\n",
    "- Eine Menge von Instanzen der Relationen eines Datenbankschemas nennen wir Datenbankinstanz.\n",
    "\n",
    "Die Elemente einer Datenbankinstanz müssen sich auf denselben Zustand der betreffenden Miniwelt beziehen."
   ]
  },
  {
   "cell_type": "markdown",
   "metadata": {},
   "source": [
    "### 5. Modellierung einer Miniwelt\n",
    "\n",
    "#### Objekte und Beziehungen\n",
    "\n",
    "- Objekte bilden die elementare Grundlage unserer Betrachtung. Objekte werden durch Tupel in Relationen repräsentiert und können somit durch Schlüsselwerte identifiziert werden.\n",
    "  \n",
    "- Beziehungen sind über Objekten oder anderen Beziehungen definiert; sie entstehen somit durch\n",
    "  In-Bezug-Setzen von Objekten.\n",
    "\n",
    "  Objektreferenzen in Beziehungen: Fremdschlüssel.\n",
    "\n",
    "- Menge der als relevant betrachteten Objekte und Beziehungen: Miniwelt.\n",
    "\n",
    "- Objekte und Beziehungen werden getypt.\n",
    "Die Menge der Objekt- und Beziehungstypen einer Miniwelt ergibt das\n",
    "konzeptuelle Schema der Miniwelt.\n",
    "\n",
    "#### Beispiel:\n",
    "Beziehung Teilnahme zwischen Subject und Student\n",
    "\n",
    "Schlüssel der Relation Participation sind die Primärschlüssel aus den Relationen Subject und Student:\n",
    "- Student-ID\n",
    "- Kurzzeichen\n",
    "Dieser Schlüssel wird als Fremdschlüssel bezeichent.\n",
    "\n",
    "$$ \\text{Teilnahme} $$\n",
    "\n",
    "<u>Student-ID</u> | <u> Kurzzeichen </u> | Schuljahr\n",
    "---|-----|---------\n",
    "212| M |  2024/2025\n",
    "212 | Inf |  2024/2025\n",
    "134 | Bio | 2024/20252\n"
   ]
  },
  {
   "cell_type": "markdown",
   "metadata": {},
   "source": [
    "### 6. Arbeiten mit einer Datenbank\n",
    "\n",
    "- Anwendungsprogramme kommunizieren mit einer Datenbank, indem sie Anfragen über den gespeicherten Zustand der Miniwelt stellen, bzw. diesen Zustand durch Ändern, Einfügen oder Löschen von Daten verändern. Besonders von Interesse sind Anfragen (engl. queries) an eine Datenbank.\n",
    "  \n",
    "- Ausdrücke einer Datenbankanfragesprache haben eine mengenwertige, deklarative Semantik. \n",
    "  - Das Ergebnis einer Anfrage ist eine Menge von Tupeln. \n",
    "  - Die Anfrage definiert, was für Zusammenhänge  aus den Daten der Datenbank gebildet werden sollen, ohne dass die algorithmische Vorgehensweise hierzu spezifiziert werden muss."
   ]
  },
  {
   "cell_type": "markdown",
   "metadata": {},
   "source": [
    "### 7. Anfragesprache für Datenbanken SQL\n",
    "\n",
    "- Structured Query Language\n",
    "- gesprochen \"siekwel\" oder \"esskuell\"\n",
    "```sql\n",
    "SElECT Atrribute\n",
    "FROM Relation \n",
    "WHERE Bedingung\n",
    "```\n",
    "\n",
    "- Beispiel: Welche Lehrer hat ein Doktortitel?\n",
    "\n",
    "```sql\n",
    "SELECT Name\n",
    "FROM  Teacher\n",
    "WHERE Titel =\"Dr\"\n",
    "```\n"
   ]
  },
  {
   "cell_type": "markdown",
   "metadata": {},
   "source": [
    "### 8. Transaktionen\n",
    "Eine Ausführung (Prozess) eines Anwendungsprogramms, bzw. einer Anfrage\n",
    "über einer Datenbank wird als Transaktion bezeichnet.\n",
    "Enthalten Transaktionen Änderungs-, Einfügungs- oder auch Löschoperationen,\n",
    "so transformieren sie einen gegebenen Datenbankzustand in einen neuen\n",
    "Datenbankzustand.\n",
    "\n"
   ]
  },
  {
   "cell_type": "markdown",
   "metadata": {},
   "source": [
    "### 9. Datenbanksystem\n",
    "\n",
    "+ Datenbank\n",
    "+ Datenbankmanagementsystem\n",
    "\n",
    "![](datenbanksystem.png){width=400px}\n"
   ]
  },
  {
   "cell_type": "markdown",
   "metadata": {},
   "source": [
    "### 10. Vorteile eines DBS\n",
    "\n",
    "- Mehrfachnutzung der Daten. \n",
    "  Dateninseln, in denen einzelne Benutzer ihre Daten isoliert verwalten werden vermieden. Somit kann Redundanz der Daten ausgeschlossen werden und eine Standardisierung der Datenformate erreicht werden.\n",
    "\n",
    "- Unabhängigkeit von Programmen und Daten. \n",
    "  Programme kommunizieren mit der DB über vom DBMS angebotene Interfaces; Änderungen in den Strukturen der DB können vor den Programmen weitgehend verborgen werden.\n",
    "\n",
    "- Gewährleistete Datenintegrität. \n",
    "  Das DBMS hat das Wissen über die  Zustände der DB und kann Verletzungen der Integrität ausschließen.\n",
    "\n",
    "- Kontrollierter Mehrbenutzerbetrieb. \n",
    "  Zeitlich überlappender Zugriff unterschiedlicher Programme zu gemeinsamen Daten kann durch das DBMS\n",
    "  kontrolliert werden.\n",
    "\n",
    "- Datenpersistenz. \n",
    "  Hardware- und Softwarefehler im laufenden Betrieb können repariert werden; das DBMS verwaltet selbst die hierzu erforderlichen Informationen.\n",
    "\n",
    "- Datensichten.\n",
    "  Unterschiedliche Benutzergruppen benötigen auf ihre Bedürfnisse abgestimmte Sichten auf das zentrale konzeptuelle Schema. Das DBMS kann die erforderlichen Abbildungen zur Verfügung stellen.\n",
    "\n",
    "- Autorisierter Datenzugriff. \n",
    "  Zugriff zu den Daten ist nur über das DBMS möglich. Damit kann nicht autorisierter Zugriff vermieden werden.\n",
    "\n",
    "- Komplexität. \n",
    "  Die effiziente und sichere Nutzung im Rahmen kritischer praktischer Anwendungen erfordert speziell ausgebildetes Personal und verursacht erhebliche Hardware- und Software-Kosten. eingeschränkte Effizienz. DBS sind universelle Softwaresysteme, die für unterschiedlichste Arten von Anwendungen die geforderte Leistung zur Verfügung stellen wollen. Für spezielle Anwendungen kann ihre Leistungsfähigkeit deutlich geringer sein im Vergleich zu für diese Anwendungen spezialisierte Systeme.\n",
    "  Aktuell kann man Diskussionen hierzu unter dem Stichwort \"NoSQL\"verfolgen."
   ]
  },
  {
   "cell_type": "markdown",
   "metadata": {},
   "source": []
  }
 ],
 "metadata": {
  "kernelspec": {
   "display_name": "3.13.2",
   "language": "python",
   "name": "python3"
  },
  "language_info": {
   "codemirror_mode": {
    "name": "ipython",
    "version": 3
   },
   "file_extension": ".py",
   "mimetype": "text/x-python",
   "name": "python",
   "nbconvert_exporter": "python",
   "pygments_lexer": "ipython3",
   "version": "3.13.2"
  }
 },
 "nbformat": 4,
 "nbformat_minor": 2
}
