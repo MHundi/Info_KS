{
 "cells": [
  {
   "cell_type": "markdown",
   "metadata": {},
   "source": [
    "### 2 SQL-Übungsaufgaben - Joins und Pattern Matching"
   ]
  },
  {
   "cell_type": "markdown",
   "metadata": {},
   "source": [
    "#### Aufgabe 1: \n",
    "**Frage:**  \n",
    "Schreiben Sie eine SQL-Abfrage, die alle Länder aus der Tabelle country anzeigt, deren Name mit dem Buchstaben „A“ beginnt.\n",
    "\n",
    "**Lösung**"
   ]
  },
  {
   "cell_type": "code",
   "execution_count": null,
   "metadata": {
    "vscode": {
     "languageId": "sql"
    }
   },
   "outputs": [],
   "source": [
    "SELECT name \n",
    "FROM country \n",
    "WHERE name LIKE 'A%';"
   ]
  },
  {
   "cell_type": "markdown",
   "metadata": {},
   "source": [
    "#### Aufgabe 2: \n",
    "**Frage:**  \n",
    "Finden Sie alle Hauptstädte (city.name), die in ihrem Namen die Zeichenfolge „burg“ enthalten. Nutzen Sie dabei einen Join mit der country-Tabelle.\n",
    "\n",
    "**Lösung**"
   ]
  },
  {
   "cell_type": "code",
   "execution_count": null,
   "metadata": {
    "vscode": {
     "languageId": "sql"
    }
   },
   "outputs": [],
   "source": [
    "SELECT city.name FROM city \n",
    "JOIN country ON city.id = country.capital \n",
    "WHERE city.name LIKE '%burg%';"
   ]
  },
  {
   "cell_type": "markdown",
   "metadata": {},
   "source": [
    "#### Aufgabe 3: \n",
    "**Frage:**  \n",
    "Aufgabe: Ermitteln Sie alle Flüsse (river.name), deren Name auf „-er“ endet.\n",
    "\n",
    "**Lösung**"
   ]
  },
  {
   "cell_type": "code",
   "execution_count": null,
   "metadata": {
    "vscode": {
     "languageId": "sql"
    }
   },
   "outputs": [],
   "source": [
    "SELECT name \n",
    "FROM river \n",
    "WHERE name LIKE '%er';"
   ]
  },
  {
   "cell_type": "markdown",
   "metadata": {},
   "source": [
    "#### Aufgabe 4: \n",
    "**Frage:**  \n",
    "Geben Sie alle Länder aus, die „land“ im Namen enthalten, zusammen mit ihrer Bevölkerung (population).\n",
    "\n",
    "**Lösung**"
   ]
  },
  {
   "cell_type": "code",
   "execution_count": null,
   "metadata": {
    "vscode": {
     "languageId": "sql"
    }
   },
   "outputs": [],
   "source": [
    "SELECT name, population \n",
    "FROM country \n",
    "WHERE name LIKE '%land%';"
   ]
  },
  {
   "cell_type": "markdown",
   "metadata": {},
   "source": [
    "#### Aufgabe 5: \n",
    "**Frage:**  \n",
    "Suchen Sie alle Seen (lake.name), deren Name genau vier Zeichen lang ist.\n",
    "\n",
    "**Lösung**"
   ]
  },
  {
   "cell_type": "code",
   "execution_count": null,
   "metadata": {
    "vscode": {
     "languageId": "sql"
    }
   },
   "outputs": [],
   "source": [
    "SELECT name \n",
    "FROM lake \n",
    "WHERE name LIKE '____';"
   ]
  },
  {
   "cell_type": "markdown",
   "metadata": {},
   "source": [
    "#### Aufgabe 6: \n",
    "**Frage:**  \n",
    "Finden Sie alle Berge (mountain.name), die „Mount“ im Namen enthalten, zusammen mit ihrer Höhe (elevation).\n",
    "\n",
    "**Lösung**"
   ]
  },
  {
   "cell_type": "code",
   "execution_count": null,
   "metadata": {
    "vscode": {
     "languageId": "sql"
    }
   },
   "outputs": [],
   "source": [
    "SELECT name, elevation \n",
    "FROM mountain \n",
    "WHERE name LIKE '%Mount%';"
   ]
  },
  {
   "cell_type": "markdown",
   "metadata": {},
   "source": [
    "#### Aufgabe 7: \n",
    "**Frage:**  \n",
    "Aufgabe: Listen Sie alle Städte (city.name) auf, die „ville“ im Namen enthalten, und geben Sie die jeweilige Einwohnerzahl (population) aus.\n",
    "\n",
    "**Lösung**"
   ]
  },
  {
   "cell_type": "code",
   "execution_count": null,
   "metadata": {
    "vscode": {
     "languageId": "sql"
    }
   },
   "outputs": [],
   "source": [
    "SELECT name, population \n",
    "FROM city \n",
    "WHERE name LIKE '%ville%';"
   ]
  },
  {
   "cell_type": "markdown",
   "metadata": {},
   "source": [
    "#### Aufgabe 8: \n",
    "**Frage:**  \n",
    "Erstellen Sie eine Abfrage, die alle Hauptstädte mit „new“ im Namen und das zugehörige Land (country.name) anzeigt.\n",
    "\n",
    "**Lösung**"
   ]
  },
  {
   "cell_type": "code",
   "execution_count": null,
   "metadata": {
    "vscode": {
     "languageId": "sql"
    }
   },
   "outputs": [],
   "source": [
    "SELECT city.name, country.name FROM city \n",
    "JOIN country ON city.id = country.capital \n",
    "WHERE city.name LIKE '%new%';"
   ]
  },
  {
   "cell_type": "markdown",
   "metadata": {},
   "source": [
    "\n",
    "#### Aufgabe 9: \n",
    "**Frage:**  \n",
    "Finden Sie alle Länder (country.name), in deren Namen zwei aufeinanderfolgende Vokale (z. B. „aa“, „ee“, „oo“) vorkommen.\n",
    "\n",
    "**Lösung**"
   ]
  },
  {
   "cell_type": "code",
   "execution_count": null,
   "metadata": {
    "vscode": {
     "languageId": "sql"
    }
   },
   "outputs": [],
   "source": [
    "SELECT name \n",
    "FROM country \n",
    "WHERE name ~* '[aeiou]{2}';"
   ]
  },
  {
   "cell_type": "markdown",
   "metadata": {},
   "source": [
    "#### Aufgabe 10: \n",
    "**Frage:**  \n",
    "Aufgabe: Geben Sie alle Flüsse (river.name) aus, deren Name mit „A“ beginnt und die durch mindestens zwei verschiedene Länder fließen. Nutzen Sie hierfür einen Join mit der geography-Tabelle.\n",
    "\n",
    "**Lösung**"
   ]
  },
  {
   "cell_type": "code",
   "execution_count": null,
   "metadata": {
    "vscode": {
     "languageId": "sql"
    }
   },
   "outputs": [],
   "source": [
    "SELECT river.name FROM river \n",
    "JOIN geography ON river.id = geography.river \n",
    "GROUP BY river.name \n",
    "HAVING COUNT(DISTINCT geography.country) >= 2 \n",
    "AND river.name LIKE 'A%';"
   ]
  },
  {
   "cell_type": "markdown",
   "metadata": {},
   "source": []
  }
 ],
 "metadata": {
  "language_info": {
   "name": "python"
  }
 },
 "nbformat": 4,
 "nbformat_minor": 2
}
