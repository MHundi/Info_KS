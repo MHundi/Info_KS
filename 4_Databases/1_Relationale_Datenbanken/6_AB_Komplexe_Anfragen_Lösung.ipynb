{
 "cells": [
  {
   "cell_type": "markdown",
   "metadata": {},
   "source": [
    "## SQL-Lösungen zu Aufgaben - Komplexe Anfragen\n",
    "\n",
    "### Aufgabe 1"
   ]
  },
  {
   "cell_type": "code",
   "execution_count": 1,
   "metadata": {
    "vscode": {
     "languageId": "sql"
    }
   },
   "outputs": [
    {
     "ename": "IndentationError",
     "evalue": "unexpected indent (3502430189.py, line 2)",
     "output_type": "error",
     "traceback": [
      "\u001b[0;36m  Cell \u001b[0;32mIn[1], line 2\u001b[0;36m\u001b[0m\n\u001b[0;31m    organization.name,\u001b[0m\n\u001b[0m    ^\u001b[0m\n\u001b[0;31mIndentationError\u001b[0m\u001b[0;31m:\u001b[0m unexpected indent\n"
     ]
    }
   ],
   "source": [
    "SELECT\n",
    "    organization.name,\n",
    "    SUM(country.population) AS total_population\n",
    "FROM\n",
    "    ismember\n",
    "JOIN country ON ismember.country = country.code\n",
    "JOIN organization ON ismember.organization = organization.abbreviation\n",
    "GROUP BY organization.name\n",
    "ORDER BY total_population DESC;"
   ]
  },
  {
   "cell_type": "markdown",
   "metadata": {},
   "source": [
    "### Aufgabe 2"
   ]
  },
  {
   "cell_type": "code",
   "execution_count": null,
   "metadata": {
    "vscode": {
     "languageId": "sql"
    }
   },
   "outputs": [],
   "source": [
    "SELECT\n",
    "    country.name AS country,\n",
    "    geo_mountain.name AS mountain,\n",
    "    geo_mountain.elevation\n",
    "FROM\n",
    "    country\n",
    "JOIN geo_mountain ON geo_mountain.country = country.code\n",
    "WHERE\n",
    "    country.continent = 'America' AND geo_mountain.elevation IS NOT NULL\n",
    "AND (geo_mountain.name, geo_mountain.elevation) IN (\n",
    "    SELECT name, MAX(elevation)\n",
    "    FROM geo_mountain\n",
    "    GROUP BY country\n",
    ")\n",
    "ORDER BY geo_mountain.elevation DESC;"
   ]
  },
  {
   "cell_type": "markdown",
   "metadata": {},
   "source": [
    "### Aufgabe 3"
   ]
  },
  {
   "cell_type": "code",
   "execution_count": null,
   "metadata": {
    "vscode": {
     "languageId": "sql"
    }
   },
   "outputs": [],
   "source": [
    "SELECT\n",
    "    c1.name AS country,\n",
    "    SUM(c2.population) AS neighbor_population\n",
    "FROM\n",
    "    country c1\n",
    "JOIN borders b ON c1.code = b.country1\n",
    "JOIN country c2 ON b.country2 = c2.code\n",
    "GROUP BY c1.name;"
   ]
  },
  {
   "cell_type": "markdown",
   "metadata": {},
   "source": [
    "### Aufgabe 4"
   ]
  },
  {
   "cell_type": "code",
   "execution_count": null,
   "metadata": {
    "vscode": {
     "languageId": "sql"
    }
   },
   "outputs": [],
   "source": [
    "SELECT\n",
    "    AVG(latitude) AS avg_latitude,\n",
    "    AVG(longitude) AS avg_longitude\n",
    "FROM city;"
   ]
  },
  {
   "cell_type": "markdown",
   "metadata": {},
   "source": [
    "\n",
    "### Aufgabe 5"
   ]
  },
  {
   "cell_type": "code",
   "execution_count": null,
   "metadata": {
    "vscode": {
     "languageId": "sql"
    }
   },
   "outputs": [],
   "source": [
    "SELECT\n",
    "    country.name AS country,\n",
    "    province.name AS province,\n",
    "    province.population AS province_population,\n",
    "    country.population AS country_population\n",
    "FROM\n",
    "    country\n",
    "JOIN province ON province.country = country.code\n",
    "WHERE\n",
    "    ABS(province.population - country.population) > 0.1 * country.population;"
   ]
  },
  {
   "cell_type": "markdown",
   "metadata": {},
   "source": [
    "\n",
    "### Aufgabe 6"
   ]
  },
  {
   "cell_type": "code",
   "execution_count": null,
   "metadata": {
    "vscode": {
     "languageId": "sql"
    }
   },
   "outputs": [],
   "source": [
    "SELECT\n",
    "    religion.religion,\n",
    "    ROUND(SUM(religion.percent * country.population / 100) * 100.0 / \n",
    "        (SELECT SUM(population) FROM country), 2) AS world_percent\n",
    "FROM\n",
    "    religion\n",
    "JOIN country ON religion.country = country.code\n",
    "GROUP BY religion.religion\n",
    "ORDER BY world_percent DESC;"
   ]
  },
  {
   "cell_type": "markdown",
   "metadata": {},
   "source": [
    "### Aufgabe 7 – Teil 1"
   ]
  },
  {
   "cell_type": "code",
   "execution_count": null,
   "metadata": {
    "vscode": {
     "languageId": "sql"
    }
   },
   "outputs": [],
   "source": [
    "WITH region AS (\n",
    "    SELECT code FROM country\n",
    "    WHERE code IN ('DZ', 'LAR')\n",
    "    UNION\n",
    "    SELECT country2 FROM borders WHERE country1 IN ('DZ', 'LAR')\n",
    "    UNION\n",
    "    SELECT country1 FROM borders WHERE country2 IN ('DZ', 'LAR')\n",
    ")\n",
    "SELECT\n",
    "    SUM(country.population) / SUM(country.area) AS density\n",
    "FROM country\n",
    "WHERE code IN (SELECT code FROM region);"
   ]
  },
  {
   "cell_type": "markdown",
   "metadata": {},
   "source": [
    "### Aufgabe 7 – Teil 2 (ohne Wüsten)\n"
   ]
  },
  {
   "cell_type": "code",
   "execution_count": null,
   "metadata": {
    "vscode": {
     "languageId": "sql"
    }
   },
   "outputs": [],
   "source": [
    "WITH region AS (\n",
    "    SELECT code FROM country\n",
    "    WHERE code IN ('DZ', 'LAR')\n",
    "    UNION\n",
    "    SELECT country2 FROM borders WHERE country1 IN ('DZ', 'LAR')\n",
    "    UNION\n",
    "    SELECT country1 FROM borders WHERE country2 IN ('DZ', 'LAR')\n",
    ")\n",
    "SELECT\n",
    "    SUM(country.population) / SUM(country.area - COALESCE(desert.area, 0)) AS adjusted_density\n",
    "FROM country\n",
    "LEFT JOIN desert ON country.code = desert.country\n",
    "WHERE country.code IN (SELECT code FROM region);"
   ]
  },
  {
   "cell_type": "markdown",
   "metadata": {},
   "source": [
    "### Aufgabe 8"
   ]
  },
  {
   "cell_type": "code",
   "execution_count": null,
   "metadata": {
    "vscode": {
     "languageId": "sql"
    }
   },
   "outputs": [],
   "source": [
    "SELECT c1.name AS country1, c2.name AS country2\n",
    "FROM country c1\n",
    "JOIN country c2 ON c1.code < c2.code\n",
    "WHERE c1.continent = 'Europe' AND c2.continent = 'Europe'\n",
    "AND NOT EXISTS (\n",
    "    SELECT * FROM (\n",
    "        SELECT sea FROM country_sea WHERE country = c1.code\n",
    "        EXCEPT\n",
    "        SELECT sea FROM country_sea WHERE country = c2.code\n",
    "    ) AS diff1\n",
    ")\n",
    "AND NOT EXISTS (\n",
    "    SELECT * FROM (\n",
    "        SELECT sea FROM country_sea WHERE country = c2.code\n",
    "        EXCEPT\n",
    "        SELECT sea FROM country_sea WHERE country = c1.code\n",
    "    ) AS diff2\n",
    ");"
   ]
  },
  {
   "cell_type": "markdown",
   "metadata": {},
   "source": [
    "### Aufgabe 9"
   ]
  },
  {
   "cell_type": "code",
   "execution_count": null,
   "metadata": {
    "vscode": {
     "languageId": "sql"
    }
   },
   "outputs": [],
   "source": [
    "SELECT o.name\n",
    "FROM organization o\n",
    "WHERE NOT EXISTS (\n",
    "    SELECT DISTINCT continent FROM country\n",
    "    EXCEPT\n",
    "    SELECT DISTINCT c.continent\n",
    "    FROM ismember m\n",
    "    JOIN country c ON m.country = c.code\n",
    "    WHERE m.organization = o.abbreviation\n",
    ");"
   ]
  },
  {
   "cell_type": "markdown",
   "metadata": {},
   "source": [
    "### Aufgabe 10"
   ]
  },
  {
   "cell_type": "code",
   "execution_count": null,
   "metadata": {
    "vscode": {
     "languageId": "sql"
    }
   },
   "outputs": [],
   "source": [
    "SELECT o.name, SUM(b.length) AS total_border_length\n",
    "FROM organization o\n",
    "JOIN ismember m ON o.abbreviation = m.organization\n",
    "JOIN borders b ON m.country = b.country1\n",
    "WHERE b.country2 NOT IN (\n",
    "    SELECT country FROM ismember m2 WHERE m2.organization = o.abbreviation\n",
    ")\n",
    "GROUP BY o.name;"
   ]
  },
  {
   "cell_type": "markdown",
   "metadata": {},
   "source": [
    "### Aufgabe 11 – Teil 1"
   ]
  },
  {
   "cell_type": "code",
   "execution_count": null,
   "metadata": {
    "vscode": {
     "languageId": "sql"
    }
   },
   "outputs": [],
   "source": [
    "SELECT c.continent, o.name\n",
    "FROM continent c\n",
    "JOIN country co ON co.continent = c.continent\n",
    "JOIN organization o\n",
    "WHERE NOT EXISTS (\n",
    "    SELECT * FROM country c1\n",
    "    WHERE c1.continent = c.continent\n",
    "    EXCEPT\n",
    "    SELECT country FROM ismember WHERE organization = o.abbreviation\n",
    ")\n",
    "GROUP BY c.continent, o.name;"
   ]
  },
  {
   "cell_type": "markdown",
   "metadata": {},
   "source": [
    "### Aufgabe 11 – Teil 2 (nur Länder mit Organisation)"
   ]
  },
  {
   "cell_type": "code",
   "execution_count": null,
   "metadata": {
    "vscode": {
     "languageId": "sql"
    }
   },
   "outputs": [],
   "source": [
    "SELECT c.continent, o.name\n",
    "FROM continent c\n",
    "JOIN country co ON co.continent = c.continent\n",
    "JOIN organization o\n",
    "WHERE NOT EXISTS (\n",
    "    SELECT * FROM country c1\n",
    "    WHERE c1.continent = c.continent AND c1.code IN (\n",
    "        SELECT country FROM ismember\n",
    "    )\n",
    "    EXCEPT\n",
    "    SELECT country FROM ismember WHERE organization = o.abbreviation\n",
    ")\n",
    "GROUP BY c.continent, o.name;"
   ]
  },
  {
   "cell_type": "markdown",
   "metadata": {},
   "source": [
    "### Aufgabe 12"
   ]
  },
  {
   "cell_type": "code",
   "execution_count": null,
   "metadata": {
    "vscode": {
     "languageId": "sql"
    }
   },
   "outputs": [],
   "source": [
    "SELECT city.name, city.population, city.country\n",
    "FROM city\n",
    "JOIN (\n",
    "    SELECT country, AVG(population) AS avg_pop\n",
    "    FROM city\n",
    "    GROUP BY country\n",
    ") avg_cities ON city.country = avg_cities.country\n",
    "WHERE city.population > avg_cities.avg_pop;"
   ]
  },
  {
   "cell_type": "markdown",
   "metadata": {},
   "source": [
    "### Aufgabe 13"
   ]
  },
  {
   "cell_type": "code",
   "execution_count": null,
   "metadata": {
    "vscode": {
     "languageId": "sql"
    }
   },
   "outputs": [],
   "source": [
    "WITH highest_per_continent AS (\n",
    "    SELECT continent, MAX(m.elevation) AS max_elevation\n",
    "    FROM geo_mountain m\n",
    "    JOIN country c ON m.country = c.code\n",
    "    GROUP BY continent\n",
    ")\n",
    "SELECT m.name, m.elevation, c.continent\n",
    "FROM geo_mountain m\n",
    "JOIN country c ON m.country = c.code\n",
    "JOIN highest_per_continent h ON c.continent = h.continent AND m.elevation = h.max_elevation\n",
    "ORDER BY m.elevation ASC\n",
    "LIMIT 1;"
   ]
  }
 ],
 "metadata": {
  "kernelspec": {
   "display_name": "3.13.2",
   "language": "python",
   "name": "python3"
  },
  "language_info": {
   "codemirror_mode": {
    "name": "ipython",
    "version": 3
   },
   "file_extension": ".py",
   "mimetype": "text/x-python",
   "name": "python",
   "nbconvert_exporter": "python",
   "pygments_lexer": "ipython3",
   "version": "3.13.2"
  }
 },
 "nbformat": 4,
 "nbformat_minor": 2
}
