{
 "cells": [
  {
   "cell_type": "markdown",
   "metadata": {},
   "source": [
    "### 5. Komplexe Anfragen\n",
    "\n",
    "Beispiel:\n",
    "\n",
    "Welches sind die drei höchsten Einwohnerzahlen aller Städte?\n",
    "\n",
    "Anfrage:\n",
    "```sql\n",
    "SELECT MAX(a.population), MAX(b.population), MAX(c.population)\n",
    "FROM city a, city b, city c\n",
    "WHERE (a.population > b.population) AND (b.population > c.population)\n",
    "```\n",
    "\n",
    "Idee:\n",
    "\n",
    "Zusammenfassung in Gruppen derjenigen Zeilen, die in der Spalte `country` den gleichen Eintrag haben.\n",
    "Auswertung der Teilgruppen bezüglich der Aggregierungsfunktion.\n"
   ]
  },
  {
   "cell_type": "markdown",
   "metadata": {},
   "source": []
  }
 ],
 "metadata": {
  "language_info": {
   "name": "python"
  }
 },
 "nbformat": 4,
 "nbformat_minor": 2
}
