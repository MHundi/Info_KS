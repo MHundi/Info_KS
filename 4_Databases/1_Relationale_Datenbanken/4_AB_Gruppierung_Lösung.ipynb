{
 "cells": [
  {
   "cell_type": "markdown",
   "metadata": {},
   "source": [
    "### 4 SQL-Aufgaben - Gruppierung"
   ]
  },
  {
   "cell_type": "markdown",
   "metadata": {},
   "source": [
    "#### Aufgabe 1: Kontinente mit mehr als 10 Ländern  \n",
    "**Frage:**  \n",
    "Gib alle Kontinente aus, die **mehr als 10 Länder** umfassen.\n",
    "\n",
    "**Lösung:**  \n"
   ]
  },
  {
   "cell_type": "code",
   "execution_count": null,
   "metadata": {
    "vscode": {
     "languageId": "sql"
    }
   },
   "outputs": [],
   "source": [
    "\n",
    "SELECT continent, COUNT(*) AS LaenderAnzahl\n",
    "FROM Country\n",
    "GROUP BY continent\n",
    "HAVING COUNT(*) > 10;\n"
   ]
  },
  {
   "cell_type": "markdown",
   "metadata": {},
   "source": [
    "#### Aufgabe 2: Länder mit mehr als 3 Städten\n",
    "**Frage:**\n",
    "Gib alle Länder aus, die **mehr als 3 Städte** in der Datenbank enthalten.\n",
    "\n",
    "**Lösung:**"
   ]
  },
  {
   "cell_type": "code",
   "execution_count": null,
   "metadata": {
    "vscode": {
     "languageId": "sql"
    }
   },
   "outputs": [],
   "source": [
    "SELECT country, COUNT(*) AS Stadtanzahl\n",
    "FROM City\n",
    "GROUP BY country\n",
    "HAVING COUNT(*) > 3;"
   ]
  },
  {
   "cell_type": "markdown",
   "metadata": {},
   "source": [
    "#### Aufgabe 3: Länder mit durchschnittlicher Stadtbevölkerung über 1 Mio.\n",
    "**Frage:**\n",
    "Finde alle Länder, in denen die **durchschnittliche Bevölkerung der Städte** über **1.000.000 Einwohner** liegt.\n",
    "\n",
    "**Lösung:**"
   ]
  },
  {
   "cell_type": "code",
   "execution_count": null,
   "metadata": {
    "vscode": {
     "languageId": "sql"
    }
   },
   "outputs": [],
   "source": [
    "SELECT country, AVG(population) AS DurchschnittsEinwohner\n",
    "FROM City\n",
    "GROUP BY country\n",
    "HAVING AVG(population) > 1000000;"
   ]
  },
  {
   "cell_type": "markdown",
   "metadata": {},
   "source": [
    "#### Aufgabe 4: Kontinente mit Gesamtbevölkerung über 500 Millionen\n",
    "**Frage:**\n",
    "Gib alle Kontinente aus, deren **Gesamtbevölkerung** über **500 Millionen** liegt.\n",
    "\n",
    "**Lösung:**"
   ]
  },
  {
   "cell_type": "code",
   "execution_count": null,
   "metadata": {
    "vscode": {
     "languageId": "sql"
    }
   },
   "outputs": [],
   "source": [
    "SELECT continent, SUM(population) AS GesamtBevoelkerung\n",
    "FROM Country\n",
    "GROUP BY continent\n",
    "HAVING SUM(population) > 500000000;"
   ]
  },
  {
   "cell_type": "markdown",
   "metadata": {},
   "source": [
    "#### Aufgabe 5: Länder mit hoher Flussvielfalt\n",
    "**Frage:**\n",
    "Liste alle Länder auf, durch die **mehr als 5 unterschiedliche Flüsse** fließen.\n",
    "\n",
    "**Lösung:**"
   ]
  },
  {
   "cell_type": "code",
   "execution_count": null,
   "metadata": {
    "vscode": {
     "languageId": "sql"
    }
   },
   "outputs": [],
   "source": [
    "SELECT gr.country, COUNT(DISTINCT gr.river) AS Flussanzahl\n",
    "FROM GeoRiver gr\n",
    "GROUP BY gr.country\n",
    "HAVING COUNT(DISTINCT gr.river) > 5"
   ]
  }
 ],
 "metadata": {
  "kernelspec": {
   "display_name": "3.13.2",
   "language": "python",
   "name": "python3"
  },
  "language_info": {
   "codemirror_mode": {
    "name": "ipython",
    "version": 3
   },
   "file_extension": ".py",
   "mimetype": "text/x-python",
   "name": "python",
   "nbconvert_exporter": "python",
   "pygments_lexer": "ipython3",
   "version": "3.13.2"
  }
 },
 "nbformat": 4,
 "nbformat_minor": 2
}
