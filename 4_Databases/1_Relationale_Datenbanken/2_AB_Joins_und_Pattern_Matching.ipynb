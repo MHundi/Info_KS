{
 "cells": [
  {
   "cell_type": "markdown",
   "id": "554d3564",
   "metadata": {},
   "source": [
    "## 2 SQL-Übungsaufgaben – Joins und Pattern Matching"
   ]
  },
  {
   "cell_type": "markdown",
   "id": "da863473",
   "metadata": {},
   "source": [
    "### Aufgabe 1: \n",
    "Gib alle Länder aus, deren Name mit dem Buchstaben „A“ beginnt."
   ]
  },
  {
   "cell_type": "markdown",
   "id": "838d6cb8",
   "metadata": {},
   "source": [
    "### Aufgabe 2:\n",
    "Gib alle Städte aus, deren Name auf „burg“ endet."
   ]
  },
  {
   "cell_type": "markdown",
   "id": "c4dfafca",
   "metadata": {},
   "source": [
    "### Aufgabe 3:\n",
    "Gib alle Länder aus, die entweder in Europa oder in Asien liegen."
   ]
  },
  {
   "cell_type": "markdown",
   "id": "8d3355f4",
   "metadata": {},
   "source": [
    "### Aufgabe 4:\n",
    "Finde alle Flüsse, deren Name den Buchstaben „a“ enthält."
   ]
  },
  {
   "cell_type": "markdown",
   "id": "8b16ed64",
   "metadata": {},
   "source": [
    "### Aufgabe 5: \n",
    "Gib alle Länder aus, deren BIP größer als 1000 und deren Bevölkerung größer als 50 Millionen ist."
   ]
  },
  {
   "cell_type": "markdown",
   "id": "90898402",
   "metadata": {},
   "source": [
    "### Aufgabe 6: \n",
    "Gib alle Länder zusammen mit dem Namen ihrer Hauptstadt aus."
   ]
  },
  {
   "cell_type": "markdown",
   "id": "3e4e6bc5",
   "metadata": {},
   "source": [
    "### Aufgabe 7:\n",
    "Gib alle Flüsse mit dem Namen der Länder aus, durch die sie fließen."
   ]
  },
  {
   "cell_type": "markdown",
   "id": "4ac92c6c",
   "metadata": {},
   "source": [
    "### Aufgabe 8: \n",
    "Gib alle Städte mit dem Namen des Kontinents des jeweiligen Landes aus."
   ]
  },
  {
   "cell_type": "markdown",
   "id": "ff20b7b9",
   "metadata": {},
   "source": [
    "### Aufgabe 9:\n",
    "Gib alle Länder und die Namen der Organisationen aus, in denen sie Mitglied sind."
   ]
  },
  {
   "cell_type": "markdown",
   "id": "45364aea",
   "metadata": {},
   "source": [
    "### Aufgabe 10:\n",
    "Gib den Namen jedes Flusses und die Hauptstadt jedes Landes aus, das dieser Fluss durchquert."
   ]
  },
  {
   "cell_type": "markdown",
   "id": "431190e1",
   "metadata": {},
   "source": [
    "### Aufgabe 11:\n",
    "Gib alle Seen aus, deren Fläche größer als 10.000 ist."
   ]
  },
  {
   "cell_type": "markdown",
   "id": "77d29935",
   "metadata": {},
   "source": [
    "### Aufgabe 12:\n",
    "Gib alle Länder aus, in denen Englisch als Sprache gesprochen wird."
   ]
  },
  {
   "cell_type": "markdown",
   "id": "387e5f52",
   "metadata": {},
   "source": [
    "### Aufgabe 13: \n",
    "Gib die Religionen und die zugehörigen Länder in Afrika aus."
   ]
  },
  {
   "cell_type": "markdown",
   "id": "9714d473",
   "metadata": {},
   "source": [
    "### Aufgabe 14:\n",
    "Gib alle Wüsten und die Länder aus, in denen sie vorkommen."
   ]
  }
 ],
 "metadata": {
  "language_info": {
   "name": "python"
  }
 },
 "nbformat": 4,
 "nbformat_minor": 5
}
