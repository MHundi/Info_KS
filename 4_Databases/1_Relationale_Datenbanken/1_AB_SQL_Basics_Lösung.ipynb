{
 "cells": [
  {
   "cell_type": "markdown",
   "id": "6369e94f",
   "metadata": {},
   "source": [
    "## 1 SQL-Übungsaufgaben – SQL Basics"
   ]
  },
  {
   "cell_type": "markdown",
   "id": "14f3975f",
   "metadata": {},
   "source": [
    "### Aufgabe 1: \n",
    "**Frage:** \n",
    "\n",
    "Gib alle Länder aus, deren Name mit dem Buchstaben „A“ beginnt.\n",
    "\n",
    "**Lösung:**\n"
   ]
  },
  {
   "cell_type": "code",
   "execution_count": 3,
   "id": "bc26fef1",
   "metadata": {
    "vscode": {
     "languageId": "sql"
    }
   },
   "outputs": [
    {
     "ename": "SyntaxError",
     "evalue": "invalid syntax (1202339456.py, line 1)",
     "output_type": "error",
     "traceback": [
      "\u001b[0;36m  Cell \u001b[0;32mIn[3], line 1\u001b[0;36m\u001b[0m\n\u001b[0;31m    SELECT name\u001b[0m\n\u001b[0m           ^\u001b[0m\n\u001b[0;31mSyntaxError\u001b[0m\u001b[0;31m:\u001b[0m invalid syntax\n"
     ]
    }
   ],
   "source": [
    "SELECT name\n",
    "FROM Country\n",
    "WHERE name LIKE 'A%';"
   ]
  },
  {
   "cell_type": "markdown",
   "id": "3a17100a",
   "metadata": {},
   "source": [
    "### Aufgabe 2:\n",
    "\n",
    "**Frage:** G\n",
    "\n",
    "ib alle Städte aus, deren Name auf „burg“ endet.\n",
    "\n",
    "**Lösung:**"
   ]
  },
  {
   "cell_type": "code",
   "execution_count": null,
   "id": "1675f4dd",
   "metadata": {
    "vscode": {
     "languageId": "sql"
    }
   },
   "outputs": [],
   "source": [
    "SELECT name\n",
    "FROM City\n",
    "WHERE name LIKE '%burg';"
   ]
  },
  {
   "cell_type": "markdown",
   "id": "5ec3a99f",
   "metadata": {},
   "source": [
    "### Aufgabe 3:\n",
    "\n",
    "**Frage:** \n",
    "\n",
    "Gib alle Länder aus, die entweder in Europa oder in Asien liegen.\n",
    "\n",
    "**Lösung:**"
   ]
  },
  {
   "cell_type": "code",
   "execution_count": null,
   "id": "fffc138c",
   "metadata": {
    "vscode": {
     "languageId": "sql"
    }
   },
   "outputs": [],
   "source": [
    "SELECT name\n",
    "FROM Country\n",
    "WHERE continent = 'Europe' OR continent = 'Asia';"
   ]
  },
  {
   "cell_type": "markdown",
   "id": "7b676c13",
   "metadata": {},
   "source": [
    "### Aufgabe 4:\n",
    "\n",
    "**Frage:** \n",
    "\n",
    "Finde alle Flüsse, deren Name den Buchstaben „a“ enthält.\n",
    "\n",
    "**Lösung:**"
   ]
  },
  {
   "cell_type": "code",
   "execution_count": null,
   "id": "c9f0209d",
   "metadata": {
    "vscode": {
     "languageId": "sql"
    }
   },
   "outputs": [],
   "source": [
    "SELECT name\n",
    "FROM River\n",
    "WHERE name LIKE '%a%';"
   ]
  },
  {
   "cell_type": "markdown",
   "id": "803ed4b5",
   "metadata": {},
   "source": [
    "### Aufgabe 5:\n",
    "\n",
    "**Frage:** \n",
    "\n",
    "Gib alle Länder aus, deren BIP größer als 1000 und deren Bevölkerung größer als 50 Millionen ist.\n",
    "\n",
    "**Lösung:**"
   ]
  },
  {
   "cell_type": "code",
   "execution_count": null,
   "id": "199e06b6",
   "metadata": {
    "vscode": {
     "languageId": "sql"
    }
   },
   "outputs": [],
   "source": [
    "SELECT name, gdp, population\n",
    "FROM Country\n",
    "WHERE gdp > 1000 AND population > 50000000;"
   ]
  },
  {
   "cell_type": "markdown",
   "id": "3c8f982e",
   "metadata": {},
   "source": [
    "### Aufgabe 6:\n",
    "**Frage:**\n",
    "\n",
    " Gib alle Länder zusammen mit dem Namen ihrer Hauptstadt aus.\n",
    "\n",
    " **Lösung:**"
   ]
  },
  {
   "cell_type": "code",
   "execution_count": null,
   "id": "05566663",
   "metadata": {
    "vscode": {
     "languageId": "sql"
    }
   },
   "outputs": [],
   "source": [
    "SELECT c.name AS Land, ci.name AS Hauptstadt\n",
    "FROM Country c, City ci\n",
    "WHERE c.capital = ci.id;"
   ]
  },
  {
   "cell_type": "markdown",
   "id": "949979b5",
   "metadata": {},
   "source": [
    "### Aufgabe 7: Flüsse und durchflossene Länder\n",
    "\n",
    "**Frage:** \n",
    "\n",
    "Gib alle Flüsse mit dem Namen der Länder aus, durch die sie fließen.\n",
    "\n",
    "**Lösung:**"
   ]
  },
  {
   "cell_type": "code",
   "execution_count": null,
   "id": "3b2462a2",
   "metadata": {
    "vscode": {
     "languageId": "sql"
    }
   },
   "outputs": [],
   "source": [
    "SELECT r.name AS Fluss, c.name AS Land\n",
    "FROM River r, GeoRiver gr, Country c\n",
    "WHERE r.name = gr.river AND gr.country = c.code;"
   ]
  },
  {
   "cell_type": "markdown",
   "id": "2d28faf0",
   "metadata": {},
   "source": [
    "### Aufgabe 8:\n",
    "\n",
    "**Frage:** \n",
    "\n",
    "Gib alle Städte mit dem Namen des Kontinents des jeweiligen Landes aus.\n",
    "\n",
    "**Lösung:**"
   ]
  },
  {
   "cell_type": "code",
   "execution_count": null,
   "id": "337e7ecd",
   "metadata": {
    "vscode": {
     "languageId": "sql"
    }
   },
   "outputs": [],
   "source": [
    "SELECT ci.name AS Stadt, co.continent\n",
    "FROM City ci, Country co\n",
    "WHERE ci.country = co.code;"
   ]
  },
  {
   "cell_type": "markdown",
   "id": "f2fb8fd3",
   "metadata": {},
   "source": [
    "### Aufgabe 9:\n",
    "\n",
    "**Frage:** \n",
    "\n",
    "Gib alle Länder und die Namen der Organisationen aus, in denen sie Mitglied sind.\n",
    "\n",
    "**Lösung:**"
   ]
  },
  {
   "cell_type": "code",
   "execution_count": null,
   "id": "0ed2983c",
   "metadata": {
    "vscode": {
     "languageId": "sql"
    }
   },
   "outputs": [],
   "source": [
    "SELECT c.name AS Land, o.name AS Organisation\n",
    "FROM Country c, isMember m, Organization o\n",
    "WHERE c.code = m.country AND m.organization = o.abbreviation;"
   ]
  },
  {
   "cell_type": "markdown",
   "id": "dec60e3a",
   "metadata": {},
   "source": [
    "### Aufgabe 10: Flüsse mit Hauptstadt der Länder, durch die sie fließen\n",
    "\n",
    "**Frage:** \n",
    "\n",
    "Gib den Namen jedes Flusses und die Hauptstadt jedes Landes aus, das dieser Fluss durchquert.\n",
    "\n",
    "**Lösung:**"
   ]
  },
  {
   "cell_type": "code",
   "execution_count": null,
   "id": "63207852",
   "metadata": {
    "vscode": {
     "languageId": "sql"
    }
   },
   "outputs": [],
   "source": [
    "SELECT r.name AS Fluss, ci.name AS Hauptstadt\n",
    "FROM River r, GeoRiver gr, Country c, City ci\n",
    "WHERE r.name = gr.river AND gr.country = c.code AND c.capital = ci.id;"
   ]
  },
  {
   "cell_type": "markdown",
   "id": "32ac146d",
   "metadata": {},
   "source": [
    "### Aufgabe 11: \n",
    "\n",
    "**Frage:** \n",
    "\n",
    "Gib alle Seen aus, deren Fläche größer als 10.000 ist.\n",
    "\n",
    "**Lösung:**"
   ]
  },
  {
   "cell_type": "code",
   "execution_count": null,
   "id": "6cadf8fe",
   "metadata": {
    "vscode": {
     "languageId": "sql"
    }
   },
   "outputs": [],
   "source": [
    "SELECT name, area\n",
    "FROM Lake\n",
    "WHERE area > 10000;"
   ]
  },
  {
   "cell_type": "markdown",
   "id": "d9937e31",
   "metadata": {},
   "source": [
    "### Aufgabe 12:\n",
    "\n",
    "**Frage:** \n",
    "\n",
    "Gib alle Länder aus, in denen Englisch als Sprache gesprochen wird.\n",
    "\n",
    "**Lösung:**"
   ]
  },
  {
   "cell_type": "code",
   "execution_count": null,
   "id": "a7321ff9",
   "metadata": {
    "vscode": {
     "languageId": "sql"
    }
   },
   "outputs": [],
   "source": [
    "SELECT DISTINCT c.name\n",
    "FROM Country c, speaks s\n",
    "WHERE c.code = s.country AND s.language = 'English';"
   ]
  },
  {
   "cell_type": "markdown",
   "id": "0b636ba6",
   "metadata": {},
   "source": [
    "### Aufgabe 13:\n",
    "\n",
    "**Frage:** \n",
    "\n",
    "Gib die Religionen und die zugehörigen Länder in Afrika aus.\n",
    "\n",
    "**Lösung:**"
   ]
  },
  {
   "cell_type": "code",
   "execution_count": null,
   "id": "676d63d0",
   "metadata": {
    "vscode": {
     "languageId": "sql"
    }
   },
   "outputs": [],
   "source": [
    "SELECT DISTINCT r.religion, c.name AS Land\n",
    "FROM Country c, religion r\n",
    "WHERE c.code = r.country AND c.continent = 'Africa';"
   ]
  },
  {
   "cell_type": "markdown",
   "id": "93731f8e",
   "metadata": {},
   "source": [
    "### Aufgabe 14:\n",
    "\n",
    "**Frage:** \n",
    "\n",
    "Gib alle Wüsten und die Länder aus, in denen sie vorkommen.\n",
    "\n",
    "**Lösung:**"
   ]
  },
  {
   "cell_type": "code",
   "execution_count": null,
   "id": "50a32082",
   "metadata": {
    "vscode": {
     "languageId": "sql"
    }
   },
   "outputs": [],
   "source": [
    "SELECT d.name AS Wueste, c.name AS Land\n",
    "FROM Desert d, geoDesert gd, Country c\n",
    "WHERE d.name = gd.desert AND gd.country = c.code;"
   ]
  }
 ],
 "metadata": {
  "kernelspec": {
   "display_name": "3.13.2",
   "language": "python",
   "name": "python3"
  },
  "language_info": {
   "codemirror_mode": {
    "name": "ipython",
    "version": 3
   },
   "file_extension": ".py",
   "mimetype": "text/x-python",
   "name": "python",
   "nbconvert_exporter": "python",
   "pygments_lexer": "ipython3",
   "version": "3.13.2"
  }
 },
 "nbformat": 4,
 "nbformat_minor": 5
}
