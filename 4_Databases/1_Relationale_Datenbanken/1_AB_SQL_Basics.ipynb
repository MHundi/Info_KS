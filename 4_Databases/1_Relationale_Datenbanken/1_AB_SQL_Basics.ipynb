{
 "cells": [
  {
   "cell_type": "markdown",
   "id": "b3940aa5",
   "metadata": {},
   "source": [
    "## 1 SQL-Übungsaufgaben - SQL-Basics"
   ]
  },
  {
   "cell_type": "markdown",
   "id": "0f59caa2",
   "metadata": {},
   "source": [
    "### Aufgabe 1\n",
    "Verbinden Sie sich mit dem Datenbank Server. Die Credentials dafür sind:\n",
    "- host: \n",
    "- Port: 5432\n",
    "- database: mondial\n",
    "- user: student\n",
    "- password: Inf20ormatik\n",
    "- driver: postgres"
   ]
  },
  {
   "cell_type": "markdown",
   "id": "dcf3ba2f",
   "metadata": {},
   "source": [
    "### Aufgabe 2: \n",
    "Wie viele Zeilen hat die Relation `country`?"
   ]
  },
  {
   "cell_type": "markdown",
   "id": "5e7cec3a",
   "metadata": {},
   "source": [
    "### Aufgabe 3:\n",
    "Geben Sie die Zahl der Länder an, die in der Relation `country` eingetragen sind."
   ]
  },
  {
   "cell_type": "markdown",
   "id": "8fb687b0",
   "metadata": {},
   "source": [
    "### Aufgabe 4: \n",
    "Gib alle Länder aus, die mehr als 100 Millionen Einwohner haben. Zeige den Ländernamen und die Einwohnerzahl an."
   ]
  },
  {
   "cell_type": "markdown",
   "id": "6dd6f17f",
   "metadata": {},
   "source": [
    "### Aufgabe 5:\n",
    "Gib die Namen aller Länder in Europa aus."
   ]
  },
  {
   "cell_type": "markdown",
   "id": "5f2be7c1",
   "metadata": {},
   "source": [
    "### Aufgabe 6: \n",
    "Gib die zehn Länder mit der höchsten Bevölkerung aus."
   ]
  },
  {
   "cell_type": "markdown",
   "id": "1ce3f2fb",
   "metadata": {},
   "source": [
    "### Aufgabe 7: \n",
    "Gib alle Städte in Deutschland und in einer weiteren Anfrage die Anzahl der Städte aus."
   ]
  },
  {
   "cell_type": "markdown",
   "id": "47cc86a1",
   "metadata": {},
   "source": [
    "### Aufgabe 8: \n",
    "Gib alle Länder aus, die Mitglied der UNO sind."
   ]
  },
  {
   "cell_type": "markdown",
   "id": "3b20c447",
   "metadata": {},
   "source": [
    "### Aufgabe 9: \n",
    "Schreibe eine SQL-Abfrage, die alle Länder abruft, deren Name mit dem Buchstaben 'A' beginnt."
   ]
  },
  {
   "cell_type": "markdown",
   "id": "c783f2fe",
   "metadata": {},
   "source": [
    "### Aufgabe 10:\n",
    "Schreibe eine SQL-Abfrage, die die Namen aller Länder abruft, die in Südamerika liegen, und sortiere sie nach ihrer Fläche in aufsteigender Reihenfolge."
   ]
  },
  {
   "cell_type": "markdown",
   "id": "baedc70f",
   "metadata": {},
   "source": [
    "### Aufgabe 11: \n",
    "Schreibe eine SQL-Abfrage, die den Namen und die Regierungsform aller Länder abruft, die eine Republik sind."
   ]
  }
 ],
 "metadata": {
  "language_info": {
   "name": "python"
  }
 },
 "nbformat": 4,
 "nbformat_minor": 5
}
