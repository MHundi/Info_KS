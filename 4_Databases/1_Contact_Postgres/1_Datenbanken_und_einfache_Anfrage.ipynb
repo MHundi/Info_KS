{
 "cells": [
  {
   "cell_type": "raw",
   "metadata": {
    "vscode": {
     "languageId": "raw"
    }
   },
   "source": [
    "---\n",
    "format:\n",
    "  pdf:\n",
    "    pdf-engine: xelatex\n",
    "    documentclass: scrartcl\n",
    "    papersize: a4\n",
    "    fontsize: 11pt\n",
    "    fig-align: center\n",
    "    colorlinks: true\n",
    "    code-line-numbers: true\n",
    "    keep-tex: true\n",
    "    include-in-header:\n",
    "      - text: |\n",
    "          \\usepackage[document]{ragged2e}\n",
    "\n",
    "  beamer:\n",
    "    aspectratio: 169\n",
    "    navigation: horizontal\n",
    "    theme: Singapore\n",
    "    colortheme: orchid\n",
    "    toc: false\n",
    "    code-line-numbers: true\n",
    "    echo: false\n",
    "    fontsize: 25pt\n",
    "  \n",
    "  html:\n",
    "    standalone: true\n",
    "    section-divs: true\n",
    "    html-math-method: mathjax\n",
    "    wrap: none\n",
    "    default-image-extension: png\n",
    "\n",
    "execute: \n",
    "  enabled: true\n",
    "  echo: false\n",
    "Jupyter: python3\n",
    "\n",
    "mainfont: Avenir Next\n",
    "---"
   ]
  },
  {
   "cell_type": "markdown",
   "metadata": {},
   "source": [
    "## Datenbanken\n",
    "\n"
   ]
  }
 ],
 "metadata": {
  "language_info": {
   "name": "python"
  }
 },
 "nbformat": 4,
 "nbformat_minor": 2
}
