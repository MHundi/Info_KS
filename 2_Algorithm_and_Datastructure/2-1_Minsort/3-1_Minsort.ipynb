{
 "cells": [
  {
   "cell_type": "raw",
   "metadata": {},
   "source": [
    "---\n",
    "title: \"\"\n",
    "format:\n",
    "  pdf:\n",
    "    papersize: a4\n",
    "\n",
    "  beamer:\n",
    "    aspectratio: 169\n",
    "    navigation: horizontal\n",
    "    theme: Singapore\n",
    "    colortheme: orchid\n",
    "    toc: false\n",
    "    code-line-numbers: true\n",
    "    echo: true\n",
    "  \n",
    "  html:\n",
    "    standalone: true\n",
    "    section-divs: true\n",
    "    html-math-method: mathjax\n",
    "    wrap: none\n",
    "    default-image-extension: png\n",
    "---"
   ]
  },
  {
   "cell_type": "markdown",
   "metadata": {
    "slideshow": {
     "slide_type": "slide"
    }
   },
   "source": [
    "# III Algorithmen und Datenstrukturen"
   ]
  },
  {
   "cell_type": "markdown",
   "metadata": {
    "slideshow": {
     "slide_type": "slide"
    }
   },
   "source": [
    "### docstring-Kommentare\n",
    "\n",
    "- #-Kommentare sind für den Leser des Programmcodes\n",
    "- `docstring`-Komentare geben dem Programmieren / Anwender informationen\n",
    "- Ist der erste Ausdruck in einer Funktion f oder einem Programm ein String, so wird dieser mit `help(f)` ausgegeben\n",
    "- *Konvention:* Verwende den mit drei \"-Zeichen eingefassten String, der über mehrere Zeilen gehen darf.\n",
    "- docstring und #-Kommentare werden in Englisch geschreiben.\n",
    "\n"
   ]
  },
  {
   "cell_type": "markdown",
   "metadata": {
    "slideshow": {
     "slide_type": "slide"
    }
   },
   "source": [
    "#### Beipiel: Fibonacci-Zahlen bestimmen"
   ]
  },
  {
   "cell_type": "code",
   "execution_count": 2,
   "metadata": {
    "slideshow": {
     "slide_type": "fragment"
    }
   },
   "outputs": [],
   "source": [
    "def fibo(n):\n",
    "    \"\"\" \n",
    "    Function to calculate the first n Fibonacci-Numbers \n",
    "    and print them in a list.\n",
    "    \"\"\"\n",
    "    \n",
    "    result = [1, 1]\n",
    "    for i in range(2, n-1):\n",
    "        # append the result of the values with index \n",
    "        # i-2 and i-1 to the result list\n",
    "        result.append(result[i-2]+result[i-1])\n",
    "    return result"
   ]
  },
  {
   "cell_type": "code",
   "execution_count": 3,
   "metadata": {
    "slideshow": {
     "slide_type": "slide"
    }
   },
   "outputs": [
    {
     "name": "stdout",
     "output_type": "stream",
     "text": [
      "Help on function fibo in module __main__:\n",
      "\n",
      "fibo(n)\n",
      "    Function to calculate the first n Fibonacci-Numbers\n",
      "    and print them in a list.\n",
      "    Sehr gut Jakob!\n",
      "\n"
     ]
    }
   ],
   "source": [
    "help(fibo)"
   ]
  },
  {
   "cell_type": "code",
   "execution_count": 5,
   "metadata": {
    "slideshow": {
     "slide_type": "fragment"
    }
   },
   "outputs": [
    {
     "data": {
      "text/plain": [
       "[1, 1, 2, 3, 5, 8, 13, 21, 34, 55, 89, 144, 233, 377]"
      ]
     },
     "execution_count": 5,
     "metadata": {},
     "output_type": "execute_result"
    }
   ],
   "source": [
    "fibo(15)"
   ]
  },
  {
   "cell_type": "markdown",
   "metadata": {
    "slideshow": {
     "slide_type": "slide"
    }
   },
   "source": [
    "### Doctest\n",
    "\n",
    "- Dokumentation und Code sind gleich wichtig.\n",
    "- Da auf jeden Fall der Code mit Dokumentationen versehen werden muss, ist es hilfreich auch die Test auf Korrektheit des Codes mit einzubauen.\n",
    "- `doctest` = Dokumentation und Test des Programms in einem\n",
    "- Syntax:\n",
    "    ```python\n",
    "    \"\"\"\n",
    "    Insert Docstring Dokumentation here. \n",
    "\n",
    "    Now follows the doctest  \n",
    "    >>> function_to_test(examples)\n",
    "    expectet result\n",
    "    \"\"\"\n",
    "    ```"
   ]
  },
  {
   "cell_type": "markdown",
   "metadata": {
    "slideshow": {
     "slide_type": "slide"
    }
   },
   "source": [
    "#### Beispiel: Quersumme berechnen"
   ]
  },
  {
   "cell_type": "code",
   "execution_count": 12,
   "metadata": {
    "slideshow": {
     "slide_type": "slide"
    }
   },
   "outputs": [],
   "source": [
    "def cross_sum(number):\n",
    "    \"\"\"\n",
    "    Function to calculate the cross sum of a given number.\n",
    "    \n",
    "    >>> cross_sum(112)\n",
    "    4\n",
    "    >>> cross_sum(0)\n",
    "    0\n",
    "    >>> cross_sum(99)\n",
    "    18\n",
    "    \"\"\"\n",
    "    #convert number with type int in a string\n",
    "    s_number=str(number)\n",
    "    \n",
    "    result = 0\n",
    "    \n",
    "    # create digits out of a number\n",
    "    for digit in s_number:\n",
    "        result = result + int(digit)\n",
    "    return result"
   ]
  },
  {
   "cell_type": "markdown",
   "metadata": {
    "slideshow": {
     "slide_type": "slide"
    }
   },
   "source": [
    "##### Doctest in Juypter:"
   ]
  },
  {
   "cell_type": "code",
   "execution_count": 1,
   "metadata": {
    "slideshow": {
     "slide_type": "fragment"
    }
   },
   "outputs": [
    {
     "name": "stdout",
     "output_type": "stream",
     "text": [
      "1 items had no tests:\n",
      "    __main__\n",
      "0 tests in 1 items.\n",
      "0 passed and 0 failed.\n",
      "Test passed.\n"
     ]
    },
    {
     "data": {
      "text/plain": [
       "TestResults(failed=0, attempted=0)"
      ]
     },
     "execution_count": 1,
     "metadata": {},
     "output_type": "execute_result"
    }
   ],
   "source": [
    "import doctest\n",
    "\n",
    "doctest.testmod(verbose=True)"
   ]
  },
  {
   "cell_type": "markdown",
   "metadata": {
    "slideshow": {
     "slide_type": "slide"
    }
   },
   "source": [
    "##### Doctest im Terminal"
   ]
  },
  {
   "cell_type": "code",
   "execution_count": 11,
   "metadata": {
    "slideshow": {
     "slide_type": "subslide"
    }
   },
   "outputs": [
    {
     "name": "stdout",
     "output_type": "stream",
     "text": [
      "**********************************************************************\n",
      "File \"/Users/martin/Workspace/Jupyter_Notebooks/Info_KS/3_Algorithm_and_Datastructure/3-1_Minsort/cross_number.py\", line 9, in cross_number.cross_sum\n",
      "Failed example:\n",
      "    cross_sum(112)\n",
      "Expected:\n",
      "    5\n",
      "Got:\n",
      "    4\n",
      "**********************************************************************\n",
      "1 items had failures:\n",
      "   1 of   3 in cross_number.cross_sum\n",
      "***Test Failed*** 1 failures.\n"
     ]
    }
   ],
   "source": [
    "!python3 -m doctest cross_number.py"
   ]
  },
  {
   "cell_type": "markdown",
   "metadata": {
    "slideshow": {
     "slide_type": "slide"
    }
   },
   "source": [
    "## Sortierverfahren\n",
    "\n",
    "##### einfache Vertreter:\n",
    "    - Minsort\n",
    "    - Quicksort\n",
    "    - Mergesort\n",
    "    - Bubblesort    \n",
    "\n"
   ]
  },
  {
   "cell_type": "markdown",
   "metadata": {
    "slideshow": {
     "slide_type": "slide"
    }
   },
   "source": [
    "##### Problemdefinition:\n",
    "    \n",
    "Eingabe:\n",
    "\n",
    "- Folge von n Elementen $x_1, ... x_n$\n",
    "- transitiver Operator $\\leq$ auf diesen Elementen\n",
    "- Transitiv bedeutet: $x\\leq y$ und $y \\leq z \\Rightarrow x \\leq z$\n",
    "\n",
    "Ausgabe:\n",
    "\n",
    "- Folge von den n Elementen in -gemäß dem eingegebenen Operator- sortierter Reihenfolge.\n"
   ]
  },
  {
   "cell_type": "markdown",
   "metadata": {
    "slideshow": {
     "slide_type": "slide"
    }
   },
   "source": [
    "##### Beispiel\n",
    "\n",
    "Eingabe: 35, 14, 65, 19, 44, 8, 23, 19\n",
    "\n",
    "Ausgabe: 8, 14, 19, 19, 23, 35, 44,65"
   ]
  },
  {
   "cell_type": "code",
   "execution_count": null,
   "metadata": {},
   "outputs": [],
   "source": []
  },
  {
   "cell_type": "markdown",
   "metadata": {},
   "source": []
  }
 ],
 "metadata": {
  "kernelspec": {
   "display_name": "Python 3",
   "language": "python",
   "name": "python3"
  },
  "language_info": {
   "codemirror_mode": {
    "name": "ipython",
    "version": 3
   },
   "file_extension": ".py",
   "mimetype": "text/x-python",
   "name": "python",
   "nbconvert_exporter": "python",
   "pygments_lexer": "ipython3",
   "version": "3.12.4"
  }
 },
 "nbformat": 4,
 "nbformat_minor": 2
}
