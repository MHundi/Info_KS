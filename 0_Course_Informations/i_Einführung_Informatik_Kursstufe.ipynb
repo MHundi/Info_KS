{
 "cells": [
  {
   "cell_type": "markdown",
   "metadata": {},
   "source": [
    "## i. Informatik in der Kursstufe \n"
   ]
  },
  {
   "cell_type": "markdown",
   "metadata": {},
   "source": [
    "### i.1 Bewertungsgrundlagen\n",
    "- 1 Klausuren pro Semester\n",
    "- GFS: \n",
    "- schriftliche Leistungen: 60%\n",
    "- unterrichtspraktische Leistungen = mündliche Leistungen + Programmierleistung + Mitarbeit 50% "
   ]
  },
  {
   "cell_type": "markdown",
   "metadata": {},
   "source": [
    "#### i.1.1 Klausuren\n",
    "- Korrekturzeichen\n",
    "\n",
    "<img src=\"../images/Korrekturzeichen.png\"\n",
    "    style=\"padding-left: 2.5em\"\n",
    "/>\n",
    "\n",
    "- sprachliche Korrekturzeichen\n",
    "\n",
    "<img src=\"../images/sprachliche_Korrekturzeichen.png\"\n",
    "     style=\"padding-left: 2.5em\"\n",
    "/>\n",
    "\n",
    "- Notentabelle\n",
    "\n",
    "<img src=\"../images/BE-NP-Notentabelle.png\"\n",
    "     style=\"padding-left: 2.5em\"\n",
    "/>\n",
    "\n",
    "\n",
    "#### i.1.2 GFS\n",
    "- Anmeldung immer zu Semesterbeginn\n",
    "- 10 - 15 Minuten Vortrag zu einer mathematischen Fragestellung\n",
    "- 10 Minuten Kolloquium\n",
    "- Nur eine GFS pro Person pro Fach\n",
    "- Maximal 4 GFS-Anmeldungen pro Semester\n",
    "- Mögliche Themen:\n",
    "     - Beweis des Fundamentalsatzes der Algebra\n",
    "\n",
    "#### i.1.3 Unterrichtspraktische Leistungen\n",
    "- Fragen\n",
    "- Antworten\n",
    "- Aufgabenkontrolle\n",
    "- Mitarbeit\n"
   ]
  },
  {
   "cell_type": "markdown",
   "metadata": {},
   "source": [
    "### i.2 Obligatorische Materialien\n",
    "- Heft oder Ordner kariert\n",
    "- iPad"
   ]
  },
  {
   "cell_type": "markdown",
   "metadata": {},
   "source": [
    "### i.3 Grobe Planung\n",
    "1. Semester: Analysis\n",
    "2. Semester: Analysis und Geometrie\n",
    "3. Semester: Geometrie und Stochastik\n",
    "4. Semester: Übungen mit Abituraufgaben\n",
    "    - schriftliche Abiturprüfung\n",
    "    - Vorbereitung auf eventuelle mündliche Abituprüfungen\n",
    "    - Ausblick auf das Studium"
   ]
  },
  {
   "cell_type": "markdown",
   "metadata": {},
   "source": [
    "### i.4 Dokumente auf GitHub\n",
    "\n",
    "Die Skripte sind zu finden unter\n",
    "\n",
    "https://github.com/MHundi/Informatik_KS.git"
   ]
  },
  {
   "cell_type": "markdown",
   "metadata": {},
   "source": [
    "### i.5 Herzlich willkommen \n",
    "```python\n",
    "# Wir übergeben den String, Hello World, an die print-Anweisung\n",
    "print(\"Hello World\")\n",
    " ```"
   ]
  },
  {
   "cell_type": "markdown",
   "metadata": {},
   "source": []
  }
 ],
 "metadata": {
  "kernelspec": {
   "display_name": "Python 3",
   "language": "python",
   "name": "python3"
  },
  "language_info": {
   "codemirror_mode": {
    "name": "ipython",
    "version": 3
   },
   "file_extension": ".py",
   "mimetype": "text/x-python",
   "name": "python",
   "nbconvert_exporter": "python",
   "pygments_lexer": "ipython3",
   "version": "3.11.4"
  },
  "orig_nbformat": 4
 },
 "nbformat": 4,
 "nbformat_minor": 2
}
