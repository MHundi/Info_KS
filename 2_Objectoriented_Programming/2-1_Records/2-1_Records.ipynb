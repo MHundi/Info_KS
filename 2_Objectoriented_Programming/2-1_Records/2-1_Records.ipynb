{
 "cells": [
  {
   "cell_type": "raw",
   "metadata": {},
   "source": [
    "---\n",
    "format:\n",
    "  pdf:\n",
    "    pdf-engine: xelatex\n",
    "    documentclass: scrartcl\n",
    "    papersize: a4\n",
    "    fontsize: 11pt\n",
    "    fig-align: center\n",
    "    colorlinks: true\n",
    "    code-line-numbers: true\n",
    "    keep-tex: true\n",
    "    include-in-header:\n",
    "      - text: |\n",
    "          \\usepackage[document]{ragged2e}\n",
    "\n",
    "  beamer:\n",
    "    aspectratio: 169\n",
    "    navigation: horizontal\n",
    "    theme: Singapore\n",
    "    colortheme: orchid\n",
    "    toc: false\n",
    "    code-line-numbers: true\n",
    "    echo: true\n",
    "    fontzsize: 25pt\n",
    "  \n",
    "  html:\n",
    "    standalone: true\n",
    "    section-divs: true\n",
    "    html-math-method: mathjax\n",
    "    wrap: none\n",
    "    default-image-extension: png\n",
    "\n",
    "execute: \n",
    "  enabled: true\n",
    "  echo: true\n",
    "Jupyter: python3\n",
    "\n",
    "mainfont: Avenir Next\n",
    "---"
   ]
  },
  {
   "cell_type": "markdown",
   "metadata": {},
   "source": [
    "# II Objektorientierte Programmierung"
   ]
  },
  {
   "cell_type": "raw",
   "metadata": {},
   "source": []
  },
  {
   "cell_type": "markdown",
   "metadata": {},
   "source": [
    "## 1. Programmierpradigmen\n",
    "\n",
    "- bisher: Imperative Programmierung\n",
    "    - Art und Weise der Programmierung\n",
    "    - Zerlegung des Problems ind Datenstrukturen und Funktionen.\n",
    "    - Zustand spiegelt sich global in den Datenstrukturen wieder. \n",
    "    - Funktionen operieren auf dem globalen Zustand.\n",
    "\n",
    "- neu: Objektorientierte Programmierung\n",
    "    - Beschreibung des Problemsn anhand kooperierender Objekte\n",
    "    - Jedes Objekt hat seinen Zustand.\n",
    "    - Objekt = Zustand + Operationen darauf. \n",
    "    - Art der Modellierung orientiert sich am realen Leben. \n",
    "    - Objekte kommunizieren untereinander"
   ]
  },
  {
   "cell_type": "markdown",
   "metadata": {},
   "source": [
    "\n",
    "\n",
    "## 2. Objekte und Attribute\n",
    "\n",
    "- Alle Werte in Python sind in Wirklichkeit Objekte\n",
    "- Objekte bestehen aus Attributen (= Eigenschaften der Objekte) und Methoden(= Funktionen für die Objekte)\n",
    "- Objekt = Instanz\n",
    "\n",
    "#### 1.1 Objekte anlegen\n",
    "- Jedes Objekt besitzt eine eigene Identität.\n",
    "- Beim Anlegen eines Objekts wird Speicherplatz im Speicher reseviert. Der Name des Objekts ist ein Zeiger auf diesen Speicherbereich.\n",
    "\n"
   ]
  },
  {
   "cell_type": "code",
   "execution_count": 1,
   "metadata": {},
   "outputs": [
    {
     "name": "stdout",
     "output_type": "stream",
     "text": [
      "['ei', 'speck', 'toast']\n",
      "['Suppe', 'Salat', 'Bohnen']\n",
      "['Suppe', 'Salat', 'Bohnen']\n"
     ]
    }
   ],
   "source": [
    "bf, lunch = [\"ei\", \"speck\", \"toast\"],[\"Suppe\", \"Salat\", \"Bohnen\"]\n",
    "secondbf = lunch\n",
    "print(bf)\n",
    "print(lunch)\n",
    "print(secondbf)"
   ]
  },
  {
   "cell_type": "markdown",
   "metadata": {},
   "source": [
    "![](/Users/martin/Workspace/Jupyter_Notebooks/Info_KS/2_Objectoriented_Programming/2-1_Records/images/pointer.jpg){width=400px}\n",
    "\n"
   ]
  },
  {
   "cell_type": "markdown",
   "metadata": {},
   "source": [
    "#### 2.1 Objekte auf Gleichheit überprüfen\n",
    "\n",
    "- Operatoren `is` und `is not` überprüfen auf Identität.\n",
    "- `lunch is bf` liefert `True`, wenn `lunch` und `bf`dasselbe (Anmerkung: nicht das Gleiche) Objekt sind, ansonsten `False`\n",
    "- `is not` liefert umgekehrte Ergebnisse.\n",
    " "
   ]
  },
  {
   "cell_type": "code",
   "execution_count": 2,
   "metadata": {},
   "outputs": [
    {
     "name": "stdout",
     "output_type": "stream",
     "text": [
      "False\n",
      "False\n",
      "True\n"
     ]
    }
   ],
   "source": [
    "print(lunch is bf)\n",
    "print(bf is secondbf)\n",
    "print(lunch is secondbf)\n"
   ]
  },
  {
   "cell_type": "markdown",
   "metadata": {},
   "source": [
    "**Wichtig:**  \n",
    "- Test auf Identität erfolgt mit `is` und `is not`. Getestet wird, ob es sich um dasselbe Objekt handelt.\n",
    "- Test auf Gleichheit erfolgt mit `==` Operator. Getestet wird, ob es sich um den gleichen Typ handelt, ob sie gleich lang sind und ob ise die gleichen Werte haben.\n",
    "\n",
    "**Faustregel:**  \n",
    "Verwende den Gleichheitstest.\n"
   ]
  },
  {
   "cell_type": "code",
   "execution_count": 3,
   "metadata": {},
   "outputs": [
    {
     "name": "stdout",
     "output_type": "stream",
     "text": [
      "False\n",
      "False\n",
      "True\n"
     ]
    }
   ],
   "source": [
    "print(lunch == bf)\n",
    "print(bf == secondbf)\n",
    "print(lunch == secondbf)"
   ]
  },
  {
   "cell_type": "markdown",
   "metadata": {},
   "source": [
    "**`None-Type`**\n",
    "- Der `NoneType` hat nur den einzigen Wert `None`\n",
    "- Vergleiche können daher mit Gleicheit oder Identität erfolgen.\n",
    "- Aber: Vergleiche sollten mit `is None` oder mit `is not None` erfolgen.\n",
    "\n",
    "\n"
   ]
  },
  {
   "cell_type": "markdown",
   "metadata": {},
   "source": [
    "#### 1.3 Vorsicht Nebeneffekte\n",
    "\n",
    "- Veränderbare Objekten (insbesondere Listen)\n",
    "    - Attribute können modifiziert werden können\n",
    "    - Bei einer Zuweisung x = y beeinflussen Operationen auf x auch y und umgekehrt.\n",
    "- Nichtveränderbare Objekte (Zahlen(int, float, complex), Strings und Tupel)\n",
    "    - Objekt kann durch die Zuweisung x = y nicht verändert werden.\n",
    "\n"
   ]
  },
  {
   "cell_type": "markdown",
   "metadata": {},
   "source": [
    "\n",
    "\n",
    "#### 1.4 Attribute  \n",
    "- Eigenschaften von Objekte heißen Attribute.\n",
    "- Auf die Attribute von Objekten kann man mit der Punktnotation zugreifen.\n",
    "- Syntax:\n",
    "\n",
    "    ```\n",
    "    expression.attribut\n",
    "    ```\n",
    "- Beispiel:  \n",
    "        - Komplexe Zahlen haben einen Realteil und einen Imaginärteil.   \n",
    "        - $2+3i, \\quad 5+0i, \\quad 0 -3i$  \n",
    "        - Komplexe Zahlen die nur einen Realteil besitzen, entsprechen den reellen Zahlen.  \n",
    "        - $5+0i = 5$\n",
    "        - Komplexe Zahlen gibt es als Datentyp auch in Python. Der Imaginärteil wird in Python mit j bezeichnet.  \n",
    "        - Attribute heißen `real` und `imag`  \n",
    "        - Zugriff auf die einzelne Teil einer komplexen Zahl, d.h. auf die Attribute der Komplexen Zahl wie folgt möglich\n"
   ]
  },
  {
   "cell_type": "code",
   "execution_count": 4,
   "metadata": {},
   "outputs": [
    {
     "name": "stdout",
     "output_type": "stream",
     "text": [
      "(3+4j)\n",
      "Der Realteit ist: 3.0\n",
      "Der Imaginärteil ist: 4.0\n"
     ]
    }
   ],
   "source": [
    "c = 3+4j\n",
    "print(c)\n",
    "print(\"Der Realteit ist:\", c.real)\n",
    "print(\"Der Imaginärteil ist:\", c.imag)"
   ]
  },
  {
   "cell_type": "markdown",
   "metadata": {},
   "source": [
    "####  1.5 Records und Klassen\n",
    "\n",
    "- bisher kamen nur vorgefertigte Objekte zum Einsatz\n",
    "- eigene sollen entworfen werden.\n",
    "- benötigt wird ein Bauplan, eine **Klasse**\n",
    "\n",
    "##### 1.5.1 Definieren von Klassen \n",
    "\n",
    "- Syntax:\n",
    "    ```python\n",
    "        class ClassName:\n",
    "            attributes\n",
    "    ```\n",
    "- die Klassendefintion muss mindestens einmal aufgerufen werden.\n",
    "\n",
    "**Definition:**\n",
    "- Ein Record ist ein Objekt, das mehrer untergeordnete Objekte, die sogenannten Atttribute enthält.\n",
    "- Ein Klasse definiert (zunächst nur), welche Attribute vorhanden sein sollen.\n",
    "- Objekte heißen auch Instanzen.\n",
    "\n",
    "**Beispiel:**\n",
    "\n",
    "In einem Rollenspiel werden die Gamecharacter durch Attribute beschrieben.  \n",
    "\n",
    "[!]{images/dndchar.jpg}\n",
    "<img src=\"images/dndchar.jpg\"\n",
    "    style=\"padding-left: 2.5em\"\n",
    "    width=\"800\"\n",
    "/>\n",
    "\n",
    "Dafür gibt es character sheets, welche die Eigenschaften des Pbjekts beshreiben.\n",
    "\n",
    "<img src=\"../../images/dndcs.png\"\n",
    "    style=\"padding-left: 2.5em\"\n",
    "    width=\"800\"\n",
    "/>\n",
    "\n",
    "Vereinfachung:\n",
    "\n",
    "`name : str`  Name des Charakters     \n",
    "`intelligence : int` IQ des Charakters  \n",
    "`strength : int` Die Stärke des Charackters $\\geq 0$ \n",
    "\n",
    "Die Klasse GameCharacter soll erzeugt werden."
   ]
  },
  {
   "cell_type": "code",
   "execution_count": 5,
   "metadata": {},
   "outputs": [],
   "source": [
    "class GameCharacter:\n",
    "    pass"
   ]
  },
  {
   "cell_type": "markdown",
   "metadata": {},
   "source": [
    "##### Konvention:  \n",
    "\n",
    "Neue Klassennamen werden mit Großbuchstaben begonnen und in CamelCase geschrieben. \n",
    "In Funktionennamen werden mit Kleinbuchstaben gegonnen und gegebenenfalls \"_\" verwendet \n",
    "\n",
    "\n"
   ]
  },
  {
   "cell_type": "markdown",
   "metadata": {},
   "source": [
    "##### 1.5.2 Erzeugen von Instanzen\n",
    "\n",
    "- Der Klassenname ist gleichzeitig auch ein Funktion (Konstruktor) der Klasse\n",
    "- mit Aufruf der Klasse als Funktion wird eine neue Instanz angelegt.\n",
    "- Beispiel:"
   ]
  },
  {
   "cell_type": "code",
   "execution_count": 6,
   "metadata": {},
   "outputs": [
    {
     "name": "stdout",
     "output_type": "stream",
     "text": [
      "<__main__.GameCharacter object at 0x1070ae000>\n",
      "<__main__.GameCharacter object at 0x1074f90a0>\n",
      "False\n",
      "False\n",
      "True\n",
      "False\n"
     ]
    }
   ],
   "source": [
    "orgor = GameCharacter()\n",
    "leelah = GameCharacter()\n",
    "print(orgor)\n",
    "print(leelah)\n",
    "print(orgor is leelah)\n",
    "print(orgor == leelah)\n",
    "print(isinstance(orgor, GameCharacter))\n",
    "print(isinstance(0, float))"
   ]
  },
  {
   "cell_type": "code",
   "execution_count": 7,
   "metadata": {},
   "outputs": [],
   "source": [
    "orgor.name = \"Orgor van Hauten\"\n",
    "orgor.strength = 20\n",
    "\n",
    "leelah.name = \"Leehlah Butterblume\"\n",
    "leelah.strength = 14\n",
    "\n"
   ]
  },
  {
   "cell_type": "markdown",
   "metadata": {},
   "source": [
    "**Problem:**  \n",
    "- Es können weitere Attribute zu jedem Objekt ergänzt werden. Damit kann es Objekte geben mit unterschiedlichen Atrributen.\n",
    "- Instanzen sind dynamische Objekte, die sich nicht nur in den Werten der Atrribute sondern in der Zusammensetzung der Attribute unterscheidet.\n"
   ]
  },
  {
   "cell_type": "code",
   "execution_count": 8,
   "metadata": {},
   "outputs": [
    {
     "name": "stdout",
     "output_type": "stream",
     "text": [
      "4\n",
      "12\n",
      "20\n"
     ]
    }
   ],
   "source": [
    "orgor.intelligence = 4\n",
    "print(orgor.intelligence)\n",
    "leelah.intelligence = 12\n",
    "print(leelah.intelligence)\n",
    "leelah.appereance = 20\n",
    "print(leelah.appereance)\n"
   ]
  },
  {
   "cell_type": "markdown",
   "metadata": {},
   "source": [
    "#### 1.6 Dataclasses\n",
    "\n",
    "- import der Bibliothek Dataclasses\n",
    "- Syntax:\n",
    "    ```python\n",
    "    from dataclasses import dataclass\n",
    "    @dataclass\n",
    "    class DnDCharacter:\n",
    "        name: str\n",
    "        intelligence: int\n",
    "        strength : int\n",
    "\n",
    "- Bei Aufruf der Klasse als Funktion (Konstruktor) erzeugt eine Instanz mit garantiert den drei Atrributen.\n",
    "- Instanzen der Klasse sind gleich, wenn die Attributwerte übereinstimmen.\n"
   ]
  },
  {
   "cell_type": "code",
   "execution_count": 9,
   "metadata": {},
   "outputs": [
    {
     "data": {
      "text/plain": [
       "DnDCharacter(name='Sigmund', intelligence=15, strength=21)"
      ]
     },
     "execution_count": 9,
     "metadata": {},
     "output_type": "execute_result"
    }
   ],
   "source": [
    "from dataclasses import dataclass\n",
    "@dataclass\n",
    "\n",
    "class DnDCharacter:\n",
    "    name : str\n",
    "    intelligence : int\n",
    "    strength : int\n",
    "    \n",
    "sigmund = DnDCharacter(\"Sigmund\", 15, 21)\n",
    "sigmund"
   ]
  },
  {
   "cell_type": "code",
   "execution_count": 10,
   "metadata": {},
   "outputs": [
    {
     "name": "stdout",
     "output_type": "stream",
     "text": [
      "DnDCharacter(name='Sigmund', intelligence=15, strength=21)\n"
     ]
    }
   ],
   "source": [
    "sigmund.ttt = 2\n",
    "print(sigmund)\n"
   ]
  },
  {
   "cell_type": "markdown",
   "metadata": {},
   "source": [
    "#### 1.6 Funktionen auf Records anwenden\n",
    "\n",
    "\n"
   ]
  },
  {
   "cell_type": "markdown",
   "metadata": {},
   "source": [
    "Die Charaktäre der Klasse DnDCharacter sollen hochgestuft werden. Sie erhalten zhen Prozent mehr auf Ihre Attributwerte.\n",
    "Dazu wird eine Funktion benötigt.\n",
    "\n",
    "1. Bezeichner und Datentypen\n",
    "\n",
    "- level_up ist der Funktionsname\n",
    "- Paramter sind  \n",
    "     `dndcharacter : DnDCharacter` der D&D-Charakter  \n",
    "     `percent : int`Prozentsatz, der den Atrributen zugerechnet werden soll.\n",
    "\n",
    "2. Funktionsgerüst\n",
    "```Python\n",
    "    def levelup(\n",
    "        dndcharacter : DnDCharacter,\n",
    "        percent : int\n",
    "    ):\n",
    "    # to fill with code\n",
    "```\n",
    "\n",
    "3. Funktionsdefinition\n",
    "```Python\n",
    "    def levelup(\n",
    "            dndcharacter : DnDCharacter,\n",
    "            percent : int\n",
    "         ):\n",
    "        dndcharacter.strength*(1+percent/100),\n",
    "        dndcharacter.intelligence*(1+percent/100)]\n",
    "```\n",
    "\n",
    "\n",
    "\n"
   ]
  },
  {
   "cell_type": "code",
   "execution_count": 11,
   "metadata": {},
   "outputs": [
    {
     "name": "stdout",
     "output_type": "stream",
     "text": [
      "DnDCharacter(name='Thera', intelligence=10, strength=22)\n",
      "DnDCharacter(name='Thera', intelligence=11, strength=24)\n"
     ]
    }
   ],
   "source": [
    "def levelup(\n",
    "            dndcharacter : DnDCharacter,\n",
    "            percent : int\n",
    "         ):\n",
    "        dndcharacter.strength= int(dndcharacter.strength*(1+(percent/100)))\n",
    "        dndcharacter.intelligence= int(dndcharacter.intelligence*(1+(percent/100)))\n",
    "     \n",
    "Terha = DnDCharacter(\"Thera\", 10, 22)\n",
    "Mbala = DnDCharacter(\"M'Bala\", 20,20)\n",
    "Gerosh = DnDCharacter(\"Gerosh d'Oorc\", 17,18)\n",
    "\n",
    "print(Terha)\n",
    "levelup(Terha, 10)\n",
    "print(Terha)"
   ]
  }
 ],
 "metadata": {
  "kernelspec": {
   "display_name": "Python 3",
   "language": "python",
   "name": "python3"
  },
  "language_info": {
   "codemirror_mode": {
    "name": "ipython",
    "version": 3
   },
   "file_extension": ".py",
   "mimetype": "text/x-python",
   "name": "python",
   "nbconvert_exporter": "python",
   "pygments_lexer": "ipython3",
   "version": "3.12.1"
  }
 },
 "nbformat": 4,
 "nbformat_minor": 2
}
