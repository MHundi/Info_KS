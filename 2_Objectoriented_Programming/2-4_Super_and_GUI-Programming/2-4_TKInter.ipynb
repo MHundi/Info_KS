{
 "cells": [
  {
   "cell_type": "markdown",
   "metadata": {},
   "source": [
    "TKInter"
   ]
  },
  {
   "cell_type": "markdown",
   "metadata": {},
   "source": [
    "- Es gibt APIs = Application Programming Interface\n",
    "- für GUIs = Graphical Use Interface\n",
    "- in Python gibt es tkinter (relativ einfach)\n",
    "- alternativ aber komplizierter sind PyGtk, PyQT, ...\n",
    "- unser Ziel: Visualisierung unserer geometrischen Objekte.\n",
    "\n"
   ]
  },
  {
   "cell_type": "markdown",
   "metadata": {},
   "source": [
    "### Fenster"
   ]
  },
  {
   "cell_type": "markdown",
   "metadata": {},
   "source": [
    "1. tkinter wird importiert"
   ]
  },
  {
   "cell_type": "code",
   "execution_count": 7,
   "metadata": {},
   "outputs": [],
   "source": [
    "import tkinter as tk"
   ]
  },
  {
   "cell_type": "markdown",
   "metadata": {},
   "source": [
    "2. mit Hife des Tk()-Konstruktors wird ein Wurzelobjekt erzeugt.\n",
    "\n",
    "- Diese Wurzelobjekt ist ein Fenster.\n",
    "- Zu diesem Objekt können weitere Bestandteile zugefügt werden."
   ]
  },
  {
   "cell_type": "code",
   "execution_count": 8,
   "metadata": {},
   "outputs": [],
   "source": [
    "root = tk.Tk()"
   ]
  },
  {
   "cell_type": "markdown",
   "metadata": {},
   "source": [
    "3. `lab` repräsentiert ein Label-Widget.\n",
    "\n",
    "- Das Label wird dem Wurzelelement hinzugefügt.\n",
    "- Widget = rechteckige Fläche auf dem Bildschirm mit einer Funktionalität\n",
    "- Label-Widget kann nur Text anzeigen.\n"
   ]
  },
  {
   "cell_type": "code",
   "execution_count": 9,
   "metadata": {},
   "outputs": [],
   "source": [
    "lab = tk.Label(root, text=\"Hello World\")"
   ]
  },
  {
   "cell_type": "markdown",
   "metadata": {},
   "source": [
    "4. Anordnung des Widgets im Fenster \n",
    "\n",
    "- Vorgefertigte "
   ]
  },
  {
   "cell_type": "code",
   "execution_count": 10,
   "metadata": {},
   "outputs": [],
   "source": [
    "lab.pack()"
   ]
  },
  {
   "cell_type": "markdown",
   "metadata": {},
   "source": [
    "### Canvas\n",
    "\n",
    "1. Canvas dem Fenster\n",
    "\n",
    "- Canvas ist ein Widget\n",
    "- Canvas = Leinwand\n",
    "- Auf Canvas können geometrische Figuren gemalt werden.\n",
    "- Der Konstruktor `tk.Canvas()` übernimmt als Parameter Breite und Höhe in Pixeln"
   ]
  },
  {
   "cell_type": "code",
   "execution_count": 11,
   "metadata": {},
   "outputs": [],
   "source": [
    "import tkinter as tk\n",
    "\n",
    "root = tk.Tk()\n",
    "cv = tk.Canvas(root, height = 600, width = 400)\n",
    "cv.pack()"
   ]
  },
  {
   "cell_type": "markdown",
   "metadata": {},
   "source": [
    "2. Auf dem Canvas malen"
   ]
  },
  {
   "cell_type": "code",
   "execution_count": 12,
   "metadata": {},
   "outputs": [],
   "source": [
    "r = cv.create_rectangle(100,100,200,150, fill = \"green\")\n",
    "o = cv.create_oval(400,400,500,500, fill=\"red\", width = 3)"
   ]
  },
  {
   "cell_type": "markdown",
   "metadata": {},
   "source": [
    "### Graphikkoordinaten"
   ]
  },
  {
   "cell_type": "markdown",
   "metadata": {},
   "source": [
    "### Canvas Methoden\n",
    "- Linie von (x1, y1) nach (x2, y2)  \n",
    "`canvas.create_line(x1, y1, x2, y2, **options)`\n",
    "\n",
    "- Rechteck von obere linke Ecke (x1, y1) nach untere rechte Ecke (x2, y2)  \n",
    "`canvas.create_rectangle(x1, y1, x2, y2, **options)`\n",
    "\n",
    "- Oval innerhalb des Rechtecks  gebildet durch obere linke Ecke (x1, y1) und untere rechte Ecke (x2, y2)  \n",
    "`canvas.create_oval(x1, y1, x2, y2, **options)`\n",
    "\n",
    "=> Alle `create`-Methoden liefern den Index des erzeugten Objekts  \n",
    "= Eindeutige Referenz auf das Objekt.\n",
    "- Damit kann das Objekt noch nachträglich geändert werden.\n",
    "\n",
    "\n"
   ]
  },
  {
   "cell_type": "markdown",
   "metadata": {},
   "source": []
  },
  {
   "cell_type": "markdown",
   "metadata": {},
   "source": []
  }
 ],
 "metadata": {
  "kernelspec": {
   "display_name": "Python 3",
   "language": "python",
   "name": "python3"
  },
  "language_info": {
   "codemirror_mode": {
    "name": "ipython",
    "version": 3
   },
   "file_extension": ".py",
   "mimetype": "text/x-python",
   "name": "python",
   "nbconvert_exporter": "python",
   "pygments_lexer": "ipython3",
   "version": "3.12.1"
  }
 },
 "nbformat": 4,
 "nbformat_minor": 2
}
