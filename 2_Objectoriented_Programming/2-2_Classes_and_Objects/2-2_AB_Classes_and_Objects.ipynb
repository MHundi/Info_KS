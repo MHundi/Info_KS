{
 "cells": [
  {
   "cell_type": "markdown",
   "metadata": {},
   "source": [
    "## Aufgabenblatt 5: Klassen und Objekte\n"
   ]
  },
  {
   "cell_type": "markdown",
   "metadata": {},
   "source": [
    "### Aufgabe 1:\n",
    "\n",
    "Ein Kreis wird beschrieben durch seine Mittelpunkt und seine Radius\n",
    "\n",
    "a) Implementieren Sie eine dataclass `Circle`.\n",
    "\n",
    "Methoden sind Operationen, die auf einer Kreisinstanz angewendet werden. \n",
    "\n",
    "b) Erweitern Sie die Klassendefinition um eine Methode `area`, welche die Fläche des Kreises berechnet.\n",
    "\n",
    "c) Erzeugen Sie den Einheitskreis als Instanz der Klasse `Circle`.\n",
    "\n",
    "d) Berechnen Sie den Flächeninhalt des Einheitskreises mit Hilfe der Methode `area`\n",
    "\n",
    "e) Erweitern Sie die Klasse `Circle` um eine Methode namens `size_change`, welche die Größe eines Kreises um einen angegebenen  Prozentsatz verändert.\n",
    "\n",
    "f) Erwetiern Sie die Klassen `Circle`um eine Methode `move, welche den Kreis auf der fiktiven 2dmin Ebene verschiebt.\n",
    "\n",
    "\n"
   ]
  },
  {
   "cell_type": "markdown",
   "metadata": {},
   "source": [
    "### Aufgabe 2:\n",
    "\n",
    "Implementieren Sie eine Klasse `Rectangle`für Rechtecke mit Methoden zur Berechnung des Flächeninhalts, der Änderung der Prozentualen Größe und zum Verschieben."
   ]
  },
  {
   "cell_type": "code",
   "execution_count": null,
   "metadata": {},
   "outputs": [],
   "source": []
  }
 ],
 "metadata": {
  "kernelspec": {
   "display_name": "Python 3",
   "language": "python",
   "name": "python3"
  },
  "language_info": {
   "codemirror_mode": {
    "name": "ipython",
    "version": 3
   },
   "file_extension": ".py",
   "mimetype": "text/x-python",
   "name": "python",
   "nbconvert_exporter": "python",
   "pygments_lexer": "ipython3",
   "version": "3.11.4"
  }
 },
 "nbformat": 4,
 "nbformat_minor": 2
}
