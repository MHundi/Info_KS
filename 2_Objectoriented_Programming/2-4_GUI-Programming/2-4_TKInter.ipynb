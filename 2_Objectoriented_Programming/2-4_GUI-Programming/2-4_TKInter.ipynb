{
 "cells": [
  {
   "cell_type": "markdown",
   "metadata": {},
   "source": [
    "# TKInter"
   ]
  },
  {
   "cell_type": "markdown",
   "metadata": {},
   "source": [
    "- Es gibt APIs = Application Programming Interface\n",
    "- für GUIs = Graphical Use Interface\n",
    "- in Python gibt es tkinter (relativ einfach)\n",
    "- alternativ aber komplizierter sind PyGtk, PyQT, ...\n",
    "- unser Ziel: Visualisierung unserer geometrischen Objekte.\n",
    "\n"
   ]
  },
  {
   "cell_type": "markdown",
   "metadata": {},
   "source": [
    "### Fenster"
   ]
  },
  {
   "cell_type": "markdown",
   "metadata": {},
   "source": [
    "1. tkinter wird importiert"
   ]
  },
  {
   "cell_type": "code",
   "execution_count": 17,
   "metadata": {},
   "outputs": [],
   "source": [
    "import tkinter as tk"
   ]
  },
  {
   "cell_type": "markdown",
   "metadata": {},
   "source": [
    "2. mit Hife des Tk()-Konstruktors wird ein Wurzelobjekt erzeugt.\n",
    "\n",
    "- Diese Wurzelobjekt ist ein Fenster.\n",
    "- Zu diesem Objekt können weitere Bestandteile zugefügt werden."
   ]
  },
  {
   "cell_type": "code",
   "execution_count": 18,
   "metadata": {},
   "outputs": [],
   "source": [
    "root = tk.Tk()"
   ]
  },
  {
   "cell_type": "markdown",
   "metadata": {},
   "source": [
    "3. `lab` repräsentiert ein Label-Widget.\n",
    "\n",
    "- Das Label wird dem Wurzelelement hinzugefügt.\n",
    "- Widget = rechteckige Fläche auf dem Bildschirm mit einer Funktionalität\n",
    "- Label-Widget kann nur Text anzeigen.\n"
   ]
  },
  {
   "cell_type": "code",
   "execution_count": 19,
   "metadata": {},
   "outputs": [],
   "source": [
    "lab = tk.Label(root, text=\"Hello World\")"
   ]
  },
  {
   "cell_type": "markdown",
   "metadata": {},
   "source": [
    "4. Anordnung des Widgets im Fenster \n",
    "\n",
    "- Vorgefertigte "
   ]
  },
  {
   "cell_type": "code",
   "execution_count": 20,
   "metadata": {},
   "outputs": [],
   "source": [
    "lab.pack()"
   ]
  },
  {
   "cell_type": "markdown",
   "metadata": {},
   "source": [
    "### Canvas\n",
    "\n",
    "1. Canvas dem Fenster\n",
    "\n",
    "- Canvas ist ein Widget\n",
    "- Canvas = Leinwand\n",
    "- Auf Canvas können geometrische Figuren gemalt werden.\n",
    "- Der Konstruktor `tk.Canvas()` übernimmt als Parameter Breite und Höhe in Pixeln"
   ]
  },
  {
   "cell_type": "code",
   "execution_count": 21,
   "metadata": {},
   "outputs": [],
   "source": [
    "import tkinter as tk\n",
    "\n",
    "root = tk.Tk()\n",
    "cv = tk.Canvas(root, height = 600, width = 400)\n",
    "cv.pack()"
   ]
  },
  {
   "cell_type": "markdown",
   "metadata": {},
   "source": [
    "2. Auf dem Canvas malen"
   ]
  },
  {
   "cell_type": "code",
   "execution_count": 22,
   "metadata": {},
   "outputs": [],
   "source": [
    "sr = cv.create_rectangle(100,100,200,150, fill = \"green\")\n",
    "o = cv.create_oval(400,400,500,500, fill=\"red\", width = 3)"
   ]
  },
  {
   "cell_type": "markdown",
   "metadata": {},
   "source": [
    "### Graphikkoordinaten"
   ]
  },
  {
   "cell_type": "code",
   "execution_count": 23,
   "metadata": {},
   "outputs": [
    {
     "data": {
      "image/png": "[encoded data removed]",
      "text/plain": [
       "<Figure size 400x400 with 1 Axes>"
      ]
     },
     "metadata": {},
     "output_type": "display_data"
    }
   ],
   "source": [
    "import numpy as np\n",
    "import matplotlib.pyplot as plt\n",
    "from matplotlib.ticker import AutoMinorLocator, MultipleLocator, FuncFormatter\n",
    "\n",
    "# Defintionsmenge und Funktion\n",
    "# ----------------------------\n",
    "a= -0.1 # untere x-Intervallgrenze \n",
    "b= 5.1 # obere x-Intervallgrenze\n",
    "c = -5.1# untere y-Intervallgrenze\n",
    "d = 0.1 # obere y-Intervallgrenze\n",
    "#x = np.linspace(a, b,1000)\n",
    "#y1= x**3-x**2-x+1\n",
    "# ----------------------------\n",
    "\n",
    "# Einstellung des Graphen\n",
    "fig=plt.figure(figsize=(4,4))\n",
    "ax= fig.add_subplot(1,1,1, aspect =1)\n",
    "\n",
    "# Definiton der Haupteinheiten, reele Zahlen ohne die 0 \n",
    "def major_tick(x, pos):\n",
    "    if x==0:\n",
    "        return \"\"\n",
    "    return int(x)\n",
    "\n",
    "# Achsenskalierung\n",
    "ax.xaxis.set_major_locator(MultipleLocator(10))\n",
    "ax.xaxis.set_minor_locator(AutoMinorLocator(20))\n",
    "ax.yaxis.set_major_locator(MultipleLocator(10))\n",
    "ax.yaxis.set_minor_locator(AutoMinorLocator(20))\n",
    "ax.xaxis.set_major_formatter(FuncFormatter(major_tick))\n",
    "ax.yaxis.set_major_formatter(FuncFormatter(major_tick))\n",
    "\n",
    "# Position der Achsen im Schaubild\n",
    "ax.spines[['top','right']].set_visible(False)\n",
    "ax.spines[['bottom','left']].set_position('zero')\n",
    "\n",
    "# Pfeile für die Achsen\n",
    "ax.plot((1),(0), ls=\"\", marker= \">\", ms=7, color=\"k\", transform=ax.get_yaxis_transform(), clip_on=False)\n",
    "ax.plot((0),(0), ls=\"\", marker= \"v\", ms=7, color=\"k\", transform=ax.get_xaxis_transform(), clip_on=False)\n",
    "\n",
    "# Achsenlänge und Beschriftung\n",
    "ax.set_xlim(a,b)\n",
    "ax.set_ylim(c, d)\n",
    "#ax.set_xlabel(\"x\", loc=\"right\")\n",
    "#ax.set_ylabel(\"y\", loc=\"bottom\", rotation=0)\n",
    "\n",
    "# Kästchen\n",
    "ax.grid(linestyle=\"-\", which=\"major\",linewidth=0.7, zorder=-10)\n",
    "ax.grid(linestyle=\"-\", which=\"minor\",linewidth=0.5, zorder=-10)\n",
    "\n",
    "plt.text(1, 0.1, \"1\", fontdict=None,horizontalalignment='center', fontsize = 12)\n",
    "plt.text(2, 0.1, \"2\", fontdict=None,horizontalalignment='center',fontsize = 12)\n",
    "plt.text(3, 0.1, \"3\", fontdict=None,horizontalalignment='center',fontsize = 12)\n",
    "plt.text(4, 0.1, \"4\", fontdict=None,horizontalalignment='center',fontsize = 12)\n",
    "plt.text(5, 0.1, \"x\", fontdict=None,horizontalalignment='center',fontsize = 12)\n",
    "\n",
    "\n",
    "plt.text(-0.4, -1, \"1\", fontdict=None,verticalalignment='center',fontsize = 12)\n",
    "plt.text(-0.4, -2, \"2\", fontdict=None,verticalalignment='center',fontsize = 12)\n",
    "plt.text(-0.4, -3, \"3\", fontdict=None,verticalalignment='center',fontsize = 12)\n",
    "plt.text(-0.4, -4, \"4\", fontdict=None,verticalalignment='center',fontsize = 12)\n",
    "plt.text(-0.4, -5, \"y\", fontdict=None,verticalalignment='center',fontsize = 12)\n",
    "\n",
    "# Plot der Funktion\n",
    "#ax.plot(x,y1, zorder=10)\n",
    "#ax.plot(np.e, 1/np.e, \"bo\") #Punkt einzeichnen\n",
    "plt.show()"
   ]
  },
  {
   "cell_type": "markdown",
   "metadata": {},
   "source": [
    "### Canvas Methoden\n",
    "- Linie von (x1, y1) nach (x2, y2)  \n",
    "`canvas.create_line(x1, y1, x2, y2, **options)`\n",
    "\n",
    "- Rechteck von obere linke Ecke (x1, y1) nach untere rechte Ecke (x2, y2)  \n",
    "`canvas.create_rectangle(x1, y1, x2, y2, **options)`\n",
    "\n",
    "- Oval innerhalb des Rechtecks  gebildet durch obere linke Ecke (x1, y1) und untere rechte Ecke (x2, y2)  \n",
    "`canvas.create_oval(x1, y1, x2, y2, **options)`\n",
    "\n",
    "=> Alle `create`-Methoden liefern den Index des erzeugten Objekts  \n",
    "= Eindeutige Referenz auf das Objekt.\n",
    "- Damit kann das Objekt noch nachträglich geändert werden.\n",
    "\n",
    "\n"
   ]
  },
  {
   "cell_type": "code",
   "execution_count": 24,
   "metadata": {},
   "outputs": [
    {
     "ename": "NameError",
     "evalue": "name 'oval1' is not defined",
     "output_type": "error",
     "traceback": [
      "\u001b[0;31m---------------------------------------------------------------------------\u001b[0m",
      "\u001b[0;31mNameError\u001b[0m                                 Traceback (most recent call last)",
      "Cell \u001b[0;32mIn[24], line 1\u001b[0m\n\u001b[0;32m----> 1\u001b[0m \u001b[43moval1\u001b[49m\u001b[38;5;241m.\u001b[39mx1\u001b[38;5;241m=\u001b[39m\u001b[38;5;241m100\u001b[39m\n",
      "\u001b[0;31mNameError\u001b[0m: name 'oval1' is not defined"
     ]
    }
   ],
   "source": []
  },
  {
   "cell_type": "markdown",
   "metadata": {},
   "source": []
  }
 ],
 "metadata": {
  "kernelspec": {
   "display_name": "Python 3",
   "language": "python",
   "name": "python3"
  },
  "language_info": {
   "codemirror_mode": {
    "name": "ipython",
    "version": 3
   },
   "file_extension": ".py",
   "mimetype": "text/x-python",
   "name": "python",
   "nbconvert_exporter": "python",
   "pygments_lexer": "ipython3",
   "version": "3.12.1"
  }
 },
 "nbformat": 4,
 "nbformat_minor": 2
}
