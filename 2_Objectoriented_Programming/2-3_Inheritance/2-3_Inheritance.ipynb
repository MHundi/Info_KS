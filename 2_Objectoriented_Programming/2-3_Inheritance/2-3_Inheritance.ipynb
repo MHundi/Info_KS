{
 "cells": [
  {
   "cell_type": "raw",
   "metadata": {
    "vscode": {
     "languageId": "raw"
    }
   },
   "source": [
    "---\n",
    "format:\n",
    "  pdf:\n",
    "    pdf-engine: xelatex\n",
    "    documentclass: scrartcl\n",
    "    papersize: a4\n",
    "    fontsize: 11pt\n",
    "    fig-align: center\n",
    "    colorlinks: true\n",
    "    code-line-numbers: true\n",
    "    keep-tex: true\n",
    "    include-in-header:\n",
    "      - text: |\n",
    "          \\usepackage[document]{ragged2e}\n",
    "\n",
    "  beamer:\n",
    "    aspectratio: 169\n",
    "    navigation: horizontal\n",
    "    theme: Singapore\n",
    "    colortheme: orchid\n",
    "    toc: false\n",
    "    code-line-numbers: true\n",
    "    echo: true\n",
    "    fontzsize: 25pt\n",
    "  \n",
    "  html:\n",
    "    standalone: true\n",
    "    section-divs: true\n",
    "    html-math-method: mathjax\n",
    "    wrap: none\n",
    "    default-image-extension: png\n",
    "\n",
    "execute: \n",
    "  enabled: true\n",
    "  echo: false\n",
    "Jupyter: python3\n",
    "\n",
    "mainfont: Avenir Next\n",
    "---"
   ]
  },
  {
   "cell_type": "markdown",
   "metadata": {
    "slideshow": {
     "slide_type": "slide"
    }
   },
   "source": [
    "# Vererbung"
   ]
  },
  {
   "cell_type": "markdown",
   "metadata": {
    "slideshow": {
     "slide_type": "slide"
    }
   },
   "source": [
    "![](/Users/martin/Workspace/Jupyter_Notebooks/Info_KS/2_Objectoriented_Programming/2-3_Inheritance/images/paladin.jpg){width=400px}\n",
    "\n"
   ]
  },
  {
   "cell_type": "markdown",
   "metadata": {
    "slideshow": {
     "slide_type": "subslide"
    }
   },
   "source": [
    "![](/Users/martin/Workspace/Jupyter_Notebooks/Info_KS/2_Objectoriented_Programming/2-3_Inheritance/images/dragon.jpg){width=400px}"
   ]
  },
  {
   "cell_type": "markdown",
   "metadata": {
    "slideshow": {
     "slide_type": "slide"
    },
    "vscode": {
     "languageId": "plaintext"
    }
   },
   "source": [
    "- Es gibt Player Character und Non Player Character.\n",
    "- Beides sind spezielle Charaktäre, welche gleiche Attribute und gleiche Methoden besitzen, \n",
    "- aber auch unterschiedliche Attribute und Methoden aufweisen können\n"
   ]
  },
  {
   "cell_type": "markdown",
   "metadata": {
    "slideshow": {
     "slide_type": "subslide"
    }
   },
   "source": [
    "- Generalisierungshierarchie:\n",
    "\n",
    "![](/Users/martin/Workspace/Jupyter_Notebooks/Info_KS/2_Objectoriented_Programming/2-3_Inheritance/images/classhierarchy.png){width=600px}\n",
    "\n",
    "- Terminologie:\n",
    "    - Oberklasse, Superklasse, Elternklasse, Basisklasse\n",
    "    - Unterklasse, Subklasse, Kindklasse, abgeleitete Klasse.\n",
    "- Unterklassen erben Atrribute und Methoden der Superklasse\n",
    "\n",
    "\n"
   ]
  },
  {
   "cell_type": "markdown",
   "metadata": {
    "slideshow": {
     "slide_type": "slide"
    }
   },
   "source": [
    "![](/Users/martin/Workspace/Jupyter_Notebooks/Info_KS/2_Objectoriented_Programming/2-3_Inheritance/images/uml1.png){width=600px}"
   ]
  },
  {
   "cell_type": "markdown",
   "metadata": {
    "slideshow": {
     "slide_type": "slide"
    }
   },
   "source": [
    ":::{.callout-warning}\n",
    "## Beobachtung\n",
    "\n",
    "- gleicher Programmcode wird bei unterschiedlichen Klassen benötigt.\n",
    "- neues Abstraktionsverfahren wird benötigt: Vererbung\n",
    "- Code wird an einer Stelle geschreiben, an einer anderen wieder verwendet\n",
    "\n",
    "=> Fehlervermeidung\n",
    "\n",
    ":::"
   ]
  },
  {
   "cell_type": "code",
   "execution_count": 1,
   "metadata": {
    "slideshow": {
     "slide_type": "slide"
    }
   },
   "outputs": [],
   "source": [
    "from dataclasses import dataclass\n",
    "@dataclass\n",
    "class GameCharacter:\n",
    "    name: str\n",
    "    species: str\n",
    "    hitpoints : int\n",
    "\n",
    "    def dec_hp(self, damage : int):\n",
    "        self.hitpoints = self.hitpoints - damage \n",
    "\n",
    "    "
   ]
  },
  {
   "cell_type": "code",
   "execution_count": 2,
   "metadata": {
    "slideshow": {
     "slide_type": "slide"
    }
   },
   "outputs": [],
   "source": [
    "@dataclass\n",
    "class NonPlayerCharacter(GameCharacter):\n",
    "    alignement : str\n",
    "\n",
    "def dec_hp(self, damage : int = 2):\n",
    "        self.hitpoints = self.hitpoints - damage \n"
   ]
  },
  {
   "cell_type": "code",
   "execution_count": 3,
   "metadata": {
    "slideshow": {
     "slide_type": "slide"
    }
   },
   "outputs": [],
   "source": [
    "@dataclass\n",
    "class PlayerCharacter(GameCharacter):\n",
    "    strength : int\n",
    "    \n",
    "    def levelup(self, percent : int):\n",
    "        self.strength*(1+percent/100)\n",
    "    \n",
    "    def heal(self, healpoints):\n",
    "        self.hitpoints = self.hitpoints + healpoints"
   ]
  },
  {
   "cell_type": "markdown",
   "metadata": {
    "slideshow": {
     "slide_type": "slide"
    }
   },
   "source": [
    "- Durch die Vererbung kommen neue Attribute und Methoden hinzu.\n",
    "- geerbte Methoden können dadurch überschrieben werden `dc_hp`, indem sie in der Subklasse neu definiert werden.\n",
    "- Beim überschreiben der Methode müssen die Parameter der Methode übereinstimmen mit der Methode der Superklasse, kann aber mit weiteren Parametern ergänzt werden. \n",
    "- es wird immer die Methode der Subklassen aufgerufen, wenn sie vorhanden ist.\n",
    "- Beim Methodenaufruf können default-Werte angegeben werden. (`percent: int = 2`)"
   ]
  }
 ],
 "metadata": {
  "kernelspec": {
   "display_name": "Python 3",
   "language": "python",
   "name": "python3"
  },
  "language_info": {
   "codemirror_mode": {
    "name": "ipython",
    "version": 3
   },
   "file_extension": ".py",
   "mimetype": "text/x-python",
   "name": "python",
   "nbconvert_exporter": "python",
   "pygments_lexer": "ipython3",
   "version": "3.12.1"
  }
 },
 "nbformat": 4,
 "nbformat_minor": 2
}
