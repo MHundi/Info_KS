{
 "cells": [
  {
   "cell_type": "raw",
   "metadata": {
    "vscode": {
     "languageId": "raw"
    }
   },
   "source": [
    "---\n",
    "format:\n",
    "  pdf:\n",
    "    pdf-engine: xelatex\n",
    "    documentclass: scrartcl\n",
    "    papersize: a4\n",
    "    fontsize: 11pt\n",
    "    fig-align: center\n",
    "    colorlinks: true\n",
    "    code-line-numbers: true\n",
    "    keep-tex: true\n",
    "    include-in-header:\n",
    "      - text: |\n",
    "          \\usepackage[document]{ragged2e}\n",
    "\n",
    "  beamer:\n",
    "    aspectratio: 169\n",
    "    navigation: horizontal\n",
    "    theme: Singapore\n",
    "    colortheme: orchid\n",
    "    toc: false\n",
    "    code-line-numbers: true\n",
    "    echo: false\n",
    "    fontzsize: 25pt\n",
    "  \n",
    "  html:\n",
    "    standalone: true\n",
    "    section-divs: true\n",
    "    html-math-method: mathjax\n",
    "    wrap: none\n",
    "    default-image-extension: png\n",
    "\n",
    "execute: \n",
    "  enabled: true\n",
    "  echo: false\n",
    "Jupyter: python3\n",
    "\n",
    "mainfont: Avenir Next\n",
    "---"
   ]
  },
  {
   "cell_type": "markdown",
   "metadata": {},
   "source": [
    "## Aufgabenblatt 6: Vererbung (Inheritance)\n"
   ]
  },
  {
   "cell_type": "markdown",
   "metadata": {},
   "source": [
    "### Aufgabe 1:\n",
    "\n",
    "Geometrische Objekte gehören zu einer Superklasse TwoDObject. Grundlegend gemeinsam haben die geometischen 2d-Objekte, dass Sie einen Bezugspunkte (z.B. beim Kreis der Mittelpunkt) haben und durch weitere Eingeschaften (z.B. beim Kreis der Radius) entstehen.\n",
    "\n",
    "a) Implementieren Sie die Klasse TwoDObject.\n",
    "\n",
    "b) Ergänzen Sie die Klasse TwoDObjekt mit der Klasse `Circle`und `Rectangle`. Beide Klassen sollen Methoden zur \n",
    "- Flächenberechnung, \n",
    "- Zur Verschiebung des Objekts in einer fiktiven 2dimensionalen Zeichenebene\n",
    "- Zur Prozentualen Vergrößerung/ Verkleinerung \n",
    "besitzen. \n",
    "\n",
    "### Aufgabe 2:\n",
    "![](/Users/martin/Workspace/Jupyter_Notebooks/Info_KS/2_Objectoriented_Programming/2-3_Inheritance/images/hausdervierecke.jpg){widht=600px}\n",
    "\n",
    "\n",
    "a) Implementieren Sie das Haus der Vierecke. Benutzen Sie die Abstraktion Vererbung. \n",
    "b) Ergänzen Sie das Haus der Vierecke mit geeigneten Methoden. Überladen Sie wo möglich die Methoden. \n",
    "\n",
    "\n",
    "\n",
    "\n",
    "\n"
   ]
  }
 ],
 "metadata": {
  "kernelspec": {
   "display_name": "Python 3",
   "language": "python",
   "name": "python3"
  },
  "language_info": {
   "codemirror_mode": {
    "name": "ipython",
    "version": 3
   },
   "file_extension": ".py",
   "mimetype": "text/x-python",
   "name": "python",
   "nbconvert_exporter": "python",
   "pygments_lexer": "ipython3",
   "version": "3.12.1"
  }
 },
 "nbformat": 4,
 "nbformat_minor": 2
}
