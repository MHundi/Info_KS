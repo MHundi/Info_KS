{
 "cells": [
  {
   "cell_type": "markdown",
   "metadata": {},
   "source": [
    "## Die Programmiersprache Python - Eine Geschichte\n",
    "\n",
    "\n"
   ]
  },
  {
   "cell_type": "markdown",
   "metadata": {},
   "source": [
    "\n",
    "### Der Ursprung von Python\n",
    "\n",
    "- Python wurde von Guido van Rossum entwickelt, einem niederländischen Informatiker.\n",
    "- Die Entwicklung begann Ende der 1980er Jahre, als van Rossum an einem Hobbyprojekt arbeitete, um eine einfach zu erlernende Programmiersprache zu schaffen.\n",
    "\n",
    "\n",
    "\n",
    "### Warum \"Python\"?\n",
    "\n",
    "<div>\n",
    "    <img src=\"images/nosnake.jpg\" width=\"240\" height=\"200\" alt=\"\" style=\"margin:5px\" align=\"left\">\n",
    "    <img src=\"images/montypython.jpg\" width=\"240\" height=\"200\" alt=\"\" style=\"margin:5px\" align=\"left\">\n",
    "</div>\n"
   ]
  },
  {
   "cell_type": "markdown",
   "metadata": {},
   "source": [
    "- Der Name sollte kurz, einprägsam und etwas unkonventionell sein, um die Philosophie von Python widerzuspiegeln.\n",
    "- Der Name \"Python\" wurde von van Rossum inspiriert, der ein großer Fan der britischen Comedy-Show \"Monty Python's Flying Circus\" war.\n",
    "\n",
    "### Python-Designphilosophie\n",
    "\n",
    "- Lesbarkeit des Codes: Python legt Wert auf eine klare und verständliche Syntax, die den Code leicht lesbar macht.\n",
    "- Einfachheit und Eleganz: Python bevorzugt einfache und elegante Lösungen, um komplexe Probleme zu lösen.\n",
    "- Gemeinschaftlichkeit und Kooperation: Python fördert die Zusammenarbeit und den Beitrag von Entwicklern zur Python-Community.\n",
    "- Guido van Rossum entwarf Python so, dass der Code wie \"Pseudocode\" aussieht, was Entwicklern das Schreiben und Lesen von Python-Code erleichtert.\n",
    "\n",
    "\n",
    "### Meilensteine in der Entwicklung von Python\n",
    "\n",
    "**Python 0.9.0 (1991)**\n",
    "Die erste Version, Python 0.9.0, wurde im Februar 1991 veröffentlicht.\n",
    "\n",
    "**Python 1.0 (1994):**\n",
    "Die erste offizielle Version von Python wurde veröffentlicht und legte den Grundstein für die weitere Entwicklung der Sprache.\n",
    "\n",
    "**Python 2.0 (2000):**\n",
    "List Comprehensions wurden eingeführt, um das Erstellen von Listen auf eine elegante und kompakte Weise zu ermöglichen.\n",
    "\n",
    "\n",
    "**Gründung der Python Software Foundation (PSF) (2001):**\n",
    "Die PSF wurde gegründet, um die Weiterentwicklung und Verbreitung von Python zu unterstützen. Sie spielt eine wichtige Rolle in der Förderung und Verwaltung der Python-Community.\n",
    "\n",
    "**Python 3.x (2008):**\n",
    "Python 3.0 wurde veröffentlicht und führte tiefgreifende Veränderungen in der Sprache ein, um einige Probleme und Unklarheiten in Python 2.x zu beheben. Diese Versionen existierten eine Zeit lang nebeneinander, was zu Diskussionen in der Community führte.\n"
   ]
  },
  {
   "cell_type": "markdown",
   "metadata": {},
   "source": []
  }
 ],
 "metadata": {
  "language_info": {
   "name": "python"
  },
  "orig_nbformat": 4
 },
 "nbformat": 4,
 "nbformat_minor": 2
}
