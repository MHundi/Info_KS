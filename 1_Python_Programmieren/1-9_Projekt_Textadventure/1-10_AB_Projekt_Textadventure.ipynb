{
 "cells": [
  {
   "cell_type": "markdown",
   "metadata": {},
   "source": [
    "## Projekt Textadventure\n"
   ]
  },
  {
   "cell_type": "markdown",
   "metadata": {},
   "source": [
    "**Aufgabe:** \n",
    "\n",
    "Schreiben Sie ein kleines Textadventure. Verwenden Sie dazu `print`- unf `input`-Anweisungen  und emhrere `if-else`-Verzweigungen. \n",
    "\n",
    "Wenn der gleiche Handlungspfad auf mehrere Weisen ausgelöst werden können soll, empfiehlt es sich diesen in eine Funktion zu schreiben und diese Funktion dann mehrmals aufzurufen, anstatt Kopien des gesamten Hanldungspfads zu erstellen. \n",
    "\n",
    "Variablenzuweisungen können hilfreich sein, wenn Sie sich Eingaben merken möchten, die dann zu einem späteren Zeitpunkt erst relevant werden sollen.\n",
    "\n",
    "Gestalten Sie Ihr Spiel so, dass man es spielen kann ohne den Pythoncode kennen zu müssen. Das Spiel sollte also dem Benutzer per print mitteilen welche gültigen Eingaben es gibt\n",
    "\n",
    "Beispiel für ein simples Text-Adventure:\n",
    "\n",
    "Du stehst im Wald an einer Weggabelung.\n",
    "Was möchtest du tun? [ links / rechts / umdrehen ]\n",
    "> links\n",
    "\n",
    "Du läufst nach links und nach ein paar Minuten stehst du vor einem alten Haus.\n",
    "Was möchtest du tun? [ klopfen / türe öffnen ]\n",
    "> türe öffnen\n",
    "\n",
    "Du öffnest die Türe und läufst durch den Flur in den nächsten Raum.\n",
    "Der Raum hat eine auffällig moderne Einrichtung.\n",
    "Auf einem Tisch steht ein Laptop.\n"
   ]
  },
  {
   "cell_type": "markdown",
   "metadata": {},
   "source": [
    "Tipp: Zufallszahlen lassen sich mit `random` erzeugen lassen:\n",
    "\n",
    "```import random()\n",
    "    random.randint(1,6)\n",
    "    #Ezeugt eine Integer Zufallszahl zwischen 1 und 6\n",
    "    "
   ]
  },
  {
   "cell_type": "code",
   "execution_count": 4,
   "metadata": {},
   "outputs": [
    {
     "name": "stdout",
     "output_type": "stream",
     "text": [
      "4\n"
     ]
    }
   ],
   "source": [
    "import random\n",
    "print(random.randint(1,6))"
   ]
  },
  {
   "cell_type": "code",
   "execution_count": null,
   "metadata": {},
   "outputs": [],
   "source": []
  }
 ],
 "metadata": {
  "kernelspec": {
   "display_name": "Python 3",
   "language": "python",
   "name": "python3"
  },
  "language_info": {
   "codemirror_mode": {
    "name": "ipython",
    "version": 3
   },
   "file_extension": ".py",
   "mimetype": "text/x-python",
   "name": "python",
   "nbconvert_exporter": "python",
   "pygments_lexer": "ipython3",
   "version": "3.11.4"
  }
 },
 "nbformat": 4,
 "nbformat_minor": 2
}
