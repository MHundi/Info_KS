{
 "cells": [
  {
   "cell_type": "markdown",
   "metadata": {},
   "source": [
    "## Aufgabenblatt 7: Hangman"
   ]
  },
  {
   "cell_type": "markdown",
   "metadata": {},
   "source": [
    "In dieser Aufgabe sollen Sie das Spiel Hangman (zu Deutsch: Galgenmännchen) implementieren.\n",
    "Ziel des Spiels ist es ein geheimes, aus einer Liste zufällig ausgewähltes Wort zu erraten und dabei nur eine begrenzte Anzahl an Fehlversuchen zu machen. \n",
    "Zu Beginn werden alle Buchstaben des Wortes durch Platzhalter _ ersetzt. \n",
    "\n",
    "**Beispiel:**    \n",
    " \\_ \\_ \\_ \\_ für 'baum'\n",
    "\n",
    "Es kann nun ein Buchstabe geraten werden. Ist der Buchstabe im Wort enthalten, werden alle Vorkommen des Buchstabens im Wort aufgedeckt. Wird beispielsweise a geraten, so ist nun Folgendes sichtbar:\n",
    "\n",
    "\\_ a \\_ \\_\n",
    "\n",
    "Wird ein Buchstabe geraten, der nicht im Wort enthalten ist, so zählt dies als Fehlversuch. Ist eine bestimmte Anzahl an Fehlversuchen überschritten, so ist das Spiel verloren. Bei jedem Fehlversuch kann auch eine Grafik erzeugt werden, die sich zu einem Galgen zusammenfügt. \n",
    "\n",
    "Hinweis:\n",
    "\n",
    "Schreiben Sie eine Funktion shape, die das geheime Wort 'word' und einen String der bisher erratenen Zeichen 'guesses' als Argumente nimmt, alle Zeichen in word durch '_' ersetzt, die nicht in guesses enthalten sind, und den resultierenden String zurückgibt.\n",
    "\n",
    "Beispiele:\n",
    "\n",
    "shape('baum', '')\n",
    "'\\_ \\_ \\_ \\_ '\n",
    "    \n",
    "shape('weather', 'a')\n",
    "'\\_ a \\_ \\_'\n",
    "\n",
    "\n",
    "Importieren des Moduls für das Generieren von Zufallszahlen, um aus einer Liste von  vorgegebnenen, zu erratenen Wörtern, eines auszuwählen.\n",
    "\n",
    "```python\n",
    "    import random\n",
    "\n",
    "    if __name__ == '__main__':\n",
    "        ...\n",
    "        words = [ 'apfel', 'baum', 'traum', 'sieben', 'leben' ]\n",
    "        ...\n",
    "        word = random.choice(words)  # Wähle ein zufälliges Wort aus.\n",
    "    ...        \n",
    "```"
   ]
  }
 ],
 "metadata": {
  "language_info": {
   "name": "python"
  }
 },
 "nbformat": 4,
 "nbformat_minor": 2
}
