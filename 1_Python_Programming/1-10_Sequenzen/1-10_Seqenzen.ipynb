{
 "cells": [
  {
   "cell_type": "markdown",
   "metadata": {},
   "source": [
    "## 11. Sequenzen "
   ]
  },
  {
   "cell_type": "markdown",
   "metadata": {},
   "source": [
    "**Sequenztypen:**  \n",
    "\n",
    "bekannt:  \n",
    "-Strings: `str` Aneinanderreihung von Character `char`  \n",
    "\n",
    "neu:  \n",
    "- Tupel: `tuple`\n",
    "- Listen: `list`"
   ]
  },
  {
   "cell_type": "markdown",
   "metadata": {},
   "source": [
    "#### 11.1 Tupel\n",
    "\n",
    "- Sequenz von Objekten\n",
    "- es können beliegibe Objekte sein, auch andere Tupel und Listen\n",
    "- unveränderlich: Ein Tupel ändert sich nie, es enthält immer dieselben Objekte in der selben Reihenfolge.\n",
    "- aber: die Enthaltendne Objekte können sich ändern."
   ]
  },
  {
   "cell_type": "markdown",
   "metadata": {},
   "source": [
    "**Syntax:**  \n",
    "\n",
    "```Variablenname = (Obkjekt 0, Objekt 1, ... , Objekt n-1)```\n",
    "\n",
    "oder wenn keine Mehrdutigkeiten entstehen auch ohne Klammern:\n",
    "\n",
    "```Variablennema = Objekt 0, Objekt 1, ..., Objekt n-1)```\n",
    "\n",
    "**Beispiel 1**:"
   ]
  },
  {
   "cell_type": "code",
   "execution_count": 21,
   "metadata": {},
   "outputs": [
    {
     "name": "stdout",
     "output_type": "stream",
     "text": [
      "(2, 3, 5, 7, 11)\n"
     ]
    }
   ],
   "source": [
    "myfirsttuple = (2,3,5,7,11)\n",
    "print (myfirsttuple)"
   ]
  },
  {
   "cell_type": "markdown",
   "metadata": {},
   "source": [
    "**Beispiel 2:**"
   ]
  },
  {
   "cell_type": "code",
   "execution_count": 22,
   "metadata": {},
   "outputs": [
    {
     "name": "stdout",
     "output_type": "stream",
     "text": [
      "(2, 4, 6, 8, 10)\n"
     ]
    }
   ],
   "source": [
    "mysecondtuple = 2,4,6,8,10\n",
    "print(mysecondtuple)"
   ]
  },
  {
   "cell_type": "markdown",
   "metadata": {},
   "source": [
    "**Beispiel 3:**"
   ]
  },
  {
   "cell_type": "code",
   "execution_count": 23,
   "metadata": {},
   "outputs": [
    {
     "name": "stdout",
     "output_type": "stream",
     "text": [
      "((1, 6), (2, 4), (3, 4))\n"
     ]
    }
   ],
   "source": [
    "thirdtuple = ((1,6),(2,4),(3,4))\n",
    "print(thirdtuple)"
   ]
  },
  {
   "cell_type": "markdown",
   "metadata": {},
   "source": [
    "**Beipsiel 4:** Einelementiges Tupel"
   ]
  },
  {
   "cell_type": "code",
   "execution_count": 24,
   "metadata": {},
   "outputs": [
    {
     "name": "stdout",
     "output_type": "stream",
     "text": [
      "(14,)\n"
     ]
    }
   ],
   "source": [
    "onetuple = (14,)\n",
    "print(onetuple)"
   ]
  },
  {
   "cell_type": "markdown",
   "metadata": {},
   "source": [
    "### 11.2 Listen"
   ]
  },
  {
   "cell_type": "markdown",
   "metadata": {},
   "source": [
    "- eine Sequenz von Objekten\n",
    "- es können beliegibe Objekte sein, auch andere Tupel und Listen\n",
    "- Elemente können angehängt, eingefügt oder entfernt werden."
   ]
  },
  {
   "cell_type": "markdown",
   "metadata": {},
   "source": [
    "**Syntax:**  \n",
    "\n",
    "```Variablenname = [Objekt 0, Objekt 1, ... , Objekt n-1]```\n",
    "\n",
    "**Beispiel 5**:"
   ]
  },
  {
   "cell_type": "code",
   "execution_count": 25,
   "metadata": {},
   "outputs": [
    {
     "name": "stdout",
     "output_type": "stream",
     "text": [
      "[3, 5, 7, 9]\n"
     ]
    }
   ],
   "source": [
    "myfirstlist = [3, 5, 7, 9]\n",
    "print(myfirstlist) "
   ]
  },
  {
   "cell_type": "markdown",
   "metadata": {},
   "source": [
    "### 11.3 Tuple Unpacking \n",
    "\n",
    "- entspricht komponentenweise Zuweisung von Tupeln\n",
    "- kleine Form von Pattern Matching\n",
    "- funktioniert mit Listen und Strings etc.\n",
    "\n",
    "**Beispiel 6:**\n"
   ]
  },
  {
   "cell_type": "code",
   "execution_count": 26,
   "metadata": {},
   "outputs": [
    {
     "name": "stdout",
     "output_type": "stream",
     "text": [
      "2\n",
      "3\n"
     ]
    }
   ],
   "source": [
    "a, b = 2, 3\n",
    "print(a)\n",
    "print(b)\n"
   ]
  },
  {
   "cell_type": "code",
   "execution_count": 27,
   "metadata": {},
   "outputs": [
    {
     "name": "stdout",
     "output_type": "stream",
     "text": [
      "3\n",
      "5\n",
      "8\n"
     ]
    }
   ],
   "source": [
    "a,b,c =[3,5,8]\n",
    "print(a)\n",
    "print(b)\n",
    "print(c)"
   ]
  },
  {
   "cell_type": "markdown",
   "metadata": {},
   "source": [
    "Gleichwertig zu "
   ]
  },
  {
   "cell_type": "code",
   "execution_count": 28,
   "metadata": {},
   "outputs": [],
   "source": [
    "a=2\n",
    "b = 3"
   ]
  },
  {
   "cell_type": "markdown",
   "metadata": {},
   "source": [
    "Aber Vorteil bei der Mehrfachzuweisung ist: Die Zuweisung erfolgt **gleichzeitig**. Damit kann man vertauschen:"
   ]
  },
  {
   "cell_type": "code",
   "execution_count": 29,
   "metadata": {},
   "outputs": [
    {
     "name": "stdout",
     "output_type": "stream",
     "text": [
      "a ist  3 b ist  2\n"
     ]
    }
   ],
   "source": [
    "a,b=2,3\n",
    "a, b = b,a\n",
    "print (\"a ist \", a, \"b ist \", b)"
   ]
  },
  {
   "cell_type": "markdown",
   "metadata": {},
   "source": [
    "**Beispiel 7:**"
   ]
  },
  {
   "cell_type": "code",
   "execution_count": 30,
   "metadata": {},
   "outputs": [
    {
     "name": "stdout",
     "output_type": "stream",
     "text": [
      "42  |  6  |  9  |  d  |  o  |  [1, 2, 3]\n"
     ]
    }
   ],
   "source": [
    "[a, (b,c), (d,e),f]= (42, (6,9), \"do\", [1,2,3])\n",
    "\n",
    "print(a , \" | \", b, \" | \", c ,\" | \", d, \" | \", e, \" | \",f )"
   ]
  },
  {
   "cell_type": "markdown",
   "metadata": {},
   "source": [
    "### 11.4 Gemeinsamkeiten von String, Listen und Tupel\n",
    "\n",
    "\n",
    "- enthalten untergeordnente Objekte\n",
    "- bestimmte Reihenfolge der Objekte\n",
    "- Typen mit dieser Eigenschaft heißen Sequenztypen\n",
    "- allgmeiner Containertypen."
   ]
  },
  {
   "cell_type": "markdown",
   "metadata": {},
   "source": [
    "### 11.5 Operationen auf Sequenzen \n",
    "\n",
    "**Verkettung:** `\"Hallo \" + \"Kurs\" == \"\"Hallo Kurs\"`\n",
    "\n",
    "**Wiederholung:** `2*\"Hallo \" == \"Hallo Hallo \"`\n",
    "\n",
    "**Indizierung:** `\"Python\"[1] == \"y\"`\n",
    "\n",
    "**Mitgliedschaftstest:** `11 in [2,3,5,7,11,13,17]`\n",
    "\n",
    "**Slicing:** `\"Friedrich Gymnasium\"[10:18] == \"Gymnasium\"`\n",
    "\n",
    "**Typkonvertierung** `list(\"Hallo\")=[\"H\", \"a\", \"l\", \"l\", \"o\"]`\n",
    "\n",
    "**Iteration:** `for x in \"python\"`\n"
   ]
  },
  {
   "cell_type": "markdown",
   "metadata": {},
   "source": [
    "#### 11.5.1 Verkettung\n",
    "\n",
    "- `+`-Operator\n",
    "\n",
    "**Beispiel 8:**"
   ]
  },
  {
   "cell_type": "code",
   "execution_count": 31,
   "metadata": {},
   "outputs": [
    {
     "name": "stdout",
     "output_type": "stream",
     "text": [
      "['hallo', 'hallo', 'welt']\n",
      "(2, 5, 7, 9, 2, 5, 7, 9)\n",
      "[2, 5, 7, 9, 'hallo', 'welt']\n"
     ]
    }
   ],
   "source": [
    "mylist = [\"hallo\", \"welt\"]\n",
    "yourtuple = (2,5,7,9) #Tupel\n",
    "print([\"hallo\"]+mylist)\n",
    "\n",
    "print(yourtuple + yourtuple)#Tupel verkettet\n",
    "\n",
    "#print(yourlist + mylist) #Tupel mit Liste verketten geht nicht\n",
    "\n",
    "print(list(yourtuple)+ mylist)"
   ]
  },
  {
   "cell_type": "markdown",
   "metadata": {},
   "source": [
    "#### 11.5.2 Wiederholung\n",
    "\n",
    "- `*`-Operator\n",
    "- Strings, Tupel oder Listen werden wiederholt\n",
    "- Typ bleibt jeweils erhalten\n",
    "\n",
    "**Beispiel 9:**\n"
   ]
  },
  {
   "cell_type": "code",
   "execution_count": 32,
   "metadata": {},
   "outputs": [
    {
     "name": "stdout",
     "output_type": "stream",
     "text": [
      "********************\n",
      "[None, 2, 3, None, 2, 3, None, 2, 3]\n",
      "('Marcus', ['in', ' colloseum', 'est'], 'Marcus', ['in', ' colloseum', 'est'])\n",
      "\n"
     ]
    }
   ],
   "source": [
    "print(\"*\" * 20) # * wird 20 mal wiederholt\n",
    "\n",
    "print([None, 2,3]*3)# Die Liste wird 2 mal wiederholt\n",
    "\n",
    "print(2*(\"Marcus\", [\"in\" , \" colloseum\", \"est\"]))\n",
    "\n",
    "print(\"!\" * (-2))"
   ]
  },
  {
   "cell_type": "markdown",
   "metadata": {},
   "source": [
    "#### 11.5.3 Indizierung\n",
    "\n",
    "- `[ ]`-Schreibweise\n",
    "- Zugriff auf die Position der Elemente einer Sequenz möglich über einen Index\n",
    "- Sequenzen können von vorne oder von hinten indiziert werden\n",
    "- die Indizierung von vorne beginnt mit dem Index 0 !\n",
    "- zur Indizierung von hinten dienen negative Indizes. Das hinterste Element hat den Index -1\n",
    "\n",
    "**Beispiel 10:**"
   ]
  },
  {
   "cell_type": "code",
   "execution_count": 33,
   "metadata": {},
   "outputs": [
    {
     "name": "stdout",
     "output_type": "stream",
     "text": [
      "3\n",
      "13\n"
     ]
    },
    {
     "ename": "IndexError",
     "evalue": "string index out of range",
     "output_type": "error",
     "traceback": [
      "\u001b[0;31m---------------------------------------------------------------------------\u001b[0m",
      "\u001b[0;31mIndexError\u001b[0m                                Traceback (most recent call last)",
      "Cell \u001b[0;32mIn[33], line 8\u001b[0m\n\u001b[1;32m      6\u001b[0m text\u001b[38;5;241m=\u001b[39m\u001b[38;5;124m\"\u001b[39m\u001b[38;5;124mEs tut mir in der Seele weh\u001b[39m\u001b[38;5;124m\"\u001b[39m\n\u001b[1;32m      7\u001b[0m text[\u001b[38;5;241m-\u001b[39m\u001b[38;5;241m2\u001b[39m] \u001b[38;5;66;03m# das e\u001b[39;00m\n\u001b[0;32m----> 8\u001b[0m \u001b[43mtext\u001b[49m\u001b[43m[\u001b[49m\u001b[38;5;241;43m30\u001b[39;49m\u001b[43m]\u001b[49m \u001b[38;5;66;03m#String nicht so lang, folgich Fehlermeldung\u001b[39;00m\n",
      "\u001b[0;31mIndexError\u001b[0m: string index out of range"
     ]
    }
   ],
   "source": [
    "primes = (2,3,5,7,11,13)\n",
    "print (primes [1]) #das zweite Element\n",
    "\n",
    "print (primes[-1])#das letzte Element, die 13\n",
    "\n",
    "text=\"Es tut mir in der Seele weh\"\n",
    "text[-2] # das e\n",
    "text[30] #String nicht so lang, folgich Fehlermeldung\n"
   ]
  },
  {
   "cell_type": "markdown",
   "metadata": {},
   "source": [
    "#### 11.5.4 Test auf Mitgliedschaft\n",
    "\n",
    "- `in`-Operator  \n",
    "- Syntax: `item in seq`\n",
    "- True, wenn `seq` das Element `item` enthält\n",
    "- `seq` muss Tupel oder Liste sien, sonst such man einen substring\n",
    "- Syntax: `substring in string`\n",
    "\n",
    "**Beispiel 11:**"
   ]
  },
  {
   "cell_type": "code",
   "execution_count": null,
   "metadata": {},
   "outputs": [
    {
     "name": "stdout",
     "output_type": "stream",
     "text": [
      "True\n"
     ]
    }
   ],
   "source": [
    "print(2 in [1,2,4])\n",
    "\n",
    "if \"pizza\" in (\"Ei\", \"Omlette\", \"Croissant\"):\n",
    "    print(\"lecker\")"
   ]
  },
  {
   "cell_type": "code",
   "execution_count": null,
   "metadata": {},
   "outputs": [
    {
     "name": "stdout",
     "output_type": "stream",
     "text": [
      "True False True\n"
     ]
    }
   ],
   "source": [
    "print(\"i\" in \"pizza\", \"pozz\" in \"pizza\", \"izza\" in \"pizza\")"
   ]
  },
  {
   "cell_type": "markdown",
   "metadata": {},
   "source": [
    "#### 11.5.5 Slicing\n",
    "\n",
    "- Teile ausschneiden\n",
    "- Syntax: `seq[start:end]`\n",
    "\n",
    "**Beispiel 12:**"
   ]
  },
  {
   "cell_type": "code",
   "execution_count": null,
   "metadata": {},
   "outputs": [
    {
     "name": "stdout",
     "output_type": "stream",
     "text": [
      "(3, 5, 7)\n",
      "(2, 3)\n",
      "(13, 17, 19)\n",
      "(2, 3, 5, 7, 11, 13, 17, 19)\n"
     ]
    }
   ],
   "source": [
    "primes = (2,3,5,7,11,13, 17, 19)\n",
    "\n",
    "print(primes[1:4])#beginnt an der 2 Position (Position 1) und hört vor Position 4 auf\n",
    "\n",
    "print(primes[:2])#beginnt am Anfang und geht bist vor die Position 2 \n",
    "\n",
    "print(primes[-3:])# drittletzte Position bis Ende\n",
    "\n",
    "print(primes[:])#von Anfang bis Ende"
   ]
  },
  {
   "cell_type": "markdown",
   "metadata": {},
   "source": [
    "**Bemerkung:**\n",
    "\n",
    "- Beim Slicing gibt es keine Indexfehler\n",
    "- Bereiche außerhalb sind einfach leer.\n",
    "\n",
    "### 11.5.6 Typkonvertierung:\n",
    "\n",
    "- `tuple`-Operator wandelt eine Liste in ein Tupel um \n",
    "- `list`-Operator wandelt ein Tupel in eine Liste um\n",
    "- `str`-Operator wandelt in eine \"Druckversion\"\n"
   ]
  },
  {
   "cell_type": "code",
   "execution_count": null,
   "metadata": {},
   "outputs": [
    {
     "data": {
      "text/plain": [
       "(2, 4, 6)"
      ]
     },
     "execution_count": 7,
     "metadata": {},
     "output_type": "execute_result"
    }
   ],
   "source": [
    "# Liste in Tupel umwandeln\n",
    "tuple([2,4,6])"
   ]
  },
  {
   "cell_type": "code",
   "execution_count": null,
   "metadata": {},
   "outputs": [
    {
     "data": {
      "text/plain": [
       "[3, 5, 7]"
      ]
     },
     "execution_count": 8,
     "metadata": {},
     "output_type": "execute_result"
    }
   ],
   "source": [
    "#Tupel in eine Liste umwandeln\n",
    "list((3,5,7))"
   ]
  },
  {
   "cell_type": "code",
   "execution_count": null,
   "metadata": {},
   "outputs": [],
   "source": [
    "#gibt einen ausgedrucket Repräsenation zurück\n",
    "str([\"a\", \"b\", \"c\"])"
   ]
  },
  {
   "cell_type": "code",
   "execution_count": null,
   "metadata": {},
   "outputs": [
    {
     "data": {
      "text/plain": [
       "['H', 'a', 'p', 'p', 'y', ' ', 'N', 'e', 'w', ' ', 'Y', 'e', 'a', 'r']"
      ]
     },
     "execution_count": 20,
     "metadata": {},
     "output_type": "execute_result"
    }
   ],
   "source": [
    "list(\"Happy New Year\")"
   ]
  },
  {
   "cell_type": "markdown",
   "metadata": {},
   "source": [
    "#### 11.5.7 Liste zu einem String zusammenfügen\n",
    "\n",
    "- `join`-Operator\n",
    "- Anwendung auf einen leeren String\n",
    "- einzelne Elemente einer Sequenz werden zu einem String zusammenfeführt\n",
    "\n",
    "**Beispiel 13:**"
   ]
  },
  {
   "cell_type": "code",
   "execution_count": null,
   "metadata": {},
   "outputs": [
    {
     "data": {
      "text/plain": [
       "'hello'"
      ]
     },
     "execution_count": 5,
     "metadata": {},
     "output_type": "execute_result"
    }
   ],
   "source": [
    "#Liste von Strings wieder in einen String überführen\n",
    "\"\".join([\"h\", \"e\", \"l\",\"l\", \"o\"])"
   ]
  },
  {
   "cell_type": "code",
   "execution_count": null,
   "metadata": {},
   "outputs": [
    {
     "data": {
      "text/plain": [
       "'t*o*p'"
      ]
     },
     "execution_count": 6,
     "metadata": {},
     "output_type": "execute_result"
    }
   ],
   "source": [
    "#Tupel von Strings in einem String zusammenführen, angewandt auf ein nicht leeren String\n",
    "\"*\".join((\"t\",\"o\",\"p\"))"
   ]
  },
  {
   "cell_type": "markdown",
   "metadata": {},
   "source": [
    "#### 11.5.8 Summe berechnen\n",
    "\n",
    "- `sum`-Operator\n",
    "- einzelne Elemente einer Sequenz werden zusammengerechnet\n",
    "\n",
    "**Beispiel 14:**"
   ]
  },
  {
   "cell_type": "code",
   "execution_count": null,
   "metadata": {},
   "outputs": [
    {
     "data": {
      "text/plain": [
       "28"
      ]
     },
     "execution_count": 24,
     "metadata": {},
     "output_type": "execute_result"
    }
   ],
   "source": [
    "sum((2,3,5,7,11))"
   ]
  },
  {
   "cell_type": "markdown",
   "metadata": {},
   "source": [
    "#### 11.5.9 Minimum bzw. Maximum einer Sequenz berechnen\n",
    "\n",
    "- `min`-Operator, oder `max`-Operator\n",
    "- gibt das Minimum oder Maximum einer Sequenz an.\n",
    "- besteht die Liste selbst aus Sequenzen, dann wird die lexikographische Ordnung verwendet.\n",
    "- nicht vergleichbare Typen führen zu einer Fehlermeldung\n",
    "\n",
    "**Beispiel:**"
   ]
  },
  {
   "cell_type": "code",
   "execution_count": null,
   "metadata": {},
   "outputs": [
    {
     "data": {
      "text/plain": [
       "-2"
      ]
     },
     "execution_count": 25,
     "metadata": {},
     "output_type": "execute_result"
    }
   ],
   "source": [
    "min([6,13,65,2,34,-2])"
   ]
  },
  {
   "cell_type": "code",
   "execution_count": null,
   "metadata": {},
   "outputs": [
    {
     "data": {
      "text/plain": [
       "65"
      ]
     },
     "execution_count": 26,
     "metadata": {},
     "output_type": "execute_result"
    }
   ],
   "source": [
    "max([6,13,65,2,34,-2])"
   ]
  },
  {
   "cell_type": "code",
   "execution_count": null,
   "metadata": {},
   "outputs": [
    {
     "data": {
      "text/plain": [
       "'ah'"
      ]
     },
     "execution_count": 27,
     "metadata": {},
     "output_type": "execute_result"
    }
   ],
   "source": [
    "min((\"ah\", \"beh\", \"ce\", \"de\"))"
   ]
  },
  {
   "cell_type": "markdown",
   "metadata": {},
   "source": [
    "#### 11.5.10 Länge der Sequenz\n",
    "\n",
    "- `len`-Operator\n",
    "\n",
    "**Beispiel 15:**"
   ]
  },
  {
   "cell_type": "code",
   "execution_count": null,
   "metadata": {},
   "outputs": [
    {
     "data": {
      "text/plain": [
       "5"
      ]
     },
     "execution_count": 28,
     "metadata": {},
     "output_type": "execute_result"
    }
   ],
   "source": [
    "len(\"Hallo\")"
   ]
  },
  {
   "cell_type": "code",
   "execution_count": null,
   "metadata": {},
   "outputs": [
    {
     "data": {
      "text/plain": [
       "7"
      ]
     },
     "execution_count": 29,
     "metadata": {},
     "output_type": "execute_result"
    }
   ],
   "source": [
    "len([1,1,2,3,5,8,13])"
   ]
  },
  {
   "cell_type": "markdown",
   "metadata": {},
   "source": [
    "#### 11.5.10 (stabil) sortierte Liste erzeugen\n",
    "\n",
    "- `sorted`-Operator\n",
    "- liefert eine Liste mit den selben Elementen, aber sortiert.\n",
    "\n",
    "**Beispiel 16:**"
   ]
  },
  {
   "cell_type": "code",
   "execution_count": null,
   "metadata": {},
   "outputs": [
    {
     "data": {
      "text/plain": [
       "[1, 3, 4, 5, 5]"
      ]
     },
     "execution_count": 32,
     "metadata": {},
     "output_type": "execute_result"
    }
   ],
   "source": [
    "sorted([5, 5, 3, 4, 1])"
   ]
  },
  {
   "cell_type": "markdown",
   "metadata": {},
   "source": [
    "#### 11.5.11 iteriertes OR auf Listen\n",
    "\n",
    "- `any`-Operator\n",
    "- entspricht: `Objekt 0 OR Objekt 2 OR ...`\n",
    "\n",
    "**Beispiel 17:**"
   ]
  },
  {
   "cell_type": "code",
   "execution_count": null,
   "metadata": {},
   "outputs": [
    {
     "data": {
      "text/plain": [
       "True"
      ]
     },
     "execution_count": 33,
     "metadata": {},
     "output_type": "execute_result"
    }
   ],
   "source": [
    "any((2,3,4,5))"
   ]
  },
  {
   "cell_type": "markdown",
   "metadata": {},
   "source": [
    "#### 11.5.11 iteriertes AND auf Listen\n",
    "\n",
    "- `all`-Operator\n",
    "- entspricht: `Objekt 0 AND Objekt 1 AND ...`\n",
    "\n",
    "**Beispiel 18:**"
   ]
  },
  {
   "cell_type": "code",
   "execution_count": null,
   "metadata": {},
   "outputs": [
    {
     "data": {
      "text/plain": [
       "True"
      ]
     },
     "execution_count": 34,
     "metadata": {},
     "output_type": "execute_result"
    }
   ],
   "source": [
    "all([4,88,99,45,22,1])"
   ]
  },
  {
   "cell_type": "markdown",
   "metadata": {},
   "source": []
  }
 ],
 "metadata": {
  "kernelspec": {
   "display_name": "Python 3",
   "language": "python",
   "name": "python3"
  },
  "language_info": {
   "codemirror_mode": {
    "name": "ipython",
    "version": 3
   },
   "file_extension": ".py",
   "mimetype": "text/x-python",
   "name": "python",
   "nbconvert_exporter": "python",
   "pygments_lexer": "ipython3",
   "version": "3.11.4"
  }
 },
 "nbformat": 4,
 "nbformat_minor": 2
}
