{
 "cells": [
  {
   "cell_type": "markdown",
   "metadata": {},
   "source": [
    "## Aufgabenblatt 4: Bedingte Anweisungen\n"
   ]
  },
  {
   "cell_type": "markdown",
   "metadata": {},
   "source": [
    "#### Aufgabe 1:\n",
    "\n",
    "- Erstelle zwei Listen und füge sie zusammen.\n",
    "- Multipliziere jede Zahl in der Liste mit 2."
   ]
  },
  {
   "cell_type": "markdown",
   "metadata": {},
   "source": [
    "#### Aufgabe 2:\n",
    "String-Operationen:  \n",
    "- Erstelle einen String und zähle die Anzahl der Buchstaben darin.  \n",
    "- Konvertiere den String in Großbuchstaben.\n",
    "- Ersetze ein bestimmtes Zeichen im String.\n",
    "\n",
    "String-Slicing:  \n",
    "- Erstelle einen String und gib nur die ersten fünf Zeichen aus.\n",
    "- Gib die letzten drei Zeichen des Strings aus."
   ]
  },
  {
   "cell_type": "markdown",
   "metadata": {},
   "source": [
    "#### Aufgabe 3:\n",
    "\n",
    "Tupel erstellen und zugreifen:   \n",
    "- Erstelle ein Tupel von den Wochentagen.\n",
    "- Gib den dritten Wochentag aus.\n",
    "\n",
    "Tupelunpacking:  \n",
    "- Erstelle ein Tupel von Vor- und Nachnamen.\n",
    "- Entpacke das Tupel in zwei separate Listen."
   ]
  },
  {
   "cell_type": "markdown",
   "metadata": {},
   "source": [
    "#### Aufgabe 4:\n",
    "\n",
    "Verwendung von Listen, Strings und Tupeln:  \n",
    "- Erstelle eine Liste von Sätzen.\n",
    "- Jeder Satz sollte den Namen einer Stadt und die Anzahl der Buchstaben im Städtenamen enthalten.\n",
    "- Verwende dabei sowohl Listen als auch Tupel.\n",
    "\n",
    "Sortierung und Filterung:\n",
    "- Erstelle eine Liste von Wörtern.\n",
    "- Sortiere die Liste alphabetisch.\n",
    "- Filtere die Wörter, die kürzer als fünf Buchstaben sind."
   ]
  },
  {
   "cell_type": "markdown",
   "metadata": {},
   "source": []
  }
 ],
 "metadata": {
  "kernelspec": {
   "display_name": "Python 3",
   "language": "python",
   "name": "python3"
  },
  "language_info": {
   "codemirror_mode": {
    "name": "ipython",
    "version": 3
   },
   "file_extension": ".py",
   "mimetype": "text/x-python",
   "name": "python",
   "nbconvert_exporter": "python",
   "pygments_lexer": "ipython3",
   "version": "3.11.4"
  }
 },
 "nbformat": 4,
 "nbformat_minor": 2
}
