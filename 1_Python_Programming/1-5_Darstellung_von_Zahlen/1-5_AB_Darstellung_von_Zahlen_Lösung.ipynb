{
 "cells": [
  {
   "cell_type": "markdown",
   "metadata": {},
   "source": [
    "## Aufgabenblatt 1: Darstellung von Zahlen"
   ]
  },
  {
   "cell_type": "markdown",
   "metadata": {},
   "source": [
    "**Aufgabe 1**\n",
    "\n",
    "Erstellen Sie die Wertetabelle der binären und Multiplikation eines Wortes der Wortlänge 1"
   ]
  },
  {
   "cell_type": "markdown",
   "metadata": {},
   "source": [
    "|$\\cdot$|0|1|\n",
    "|:--:|:--:|:--:|\n",
    "|**0**| 0 | 0 |\n",
    "|**1**| 0| 1 |"
   ]
  },
  {
   "cell_type": "markdown",
   "metadata": {},
   "source": [
    "**Aufgabe 2**\n",
    "\n",
    "Berechnen Sie folgende Aufgaben:\n",
    "\n",
    "a) $101010_2 + 1001011_2$\n",
    "\n",
    "b) $1011_2 \\cdot 110_2$\n",
    "\n",
    "c) $1001_2 - 110_2$\n",
    "\n",
    "d) $101010 : 10$"
   ]
  },
  {
   "cell_type": "markdown",
   "metadata": {},
   "source": [
    "**Lösung:**\n",
    "\n",
    "a) $$1110101_2$$\n",
    "b) $$1000010_2$$\n",
    "c) $$11_2$$\n",
    "d) $$ 10101_2$$"
   ]
  },
  {
   "cell_type": "markdown",
   "metadata": {},
   "source": [
    "**Aufgabe 3**\n",
    "\n",
    "Konvertieren Sie die angebenen Zahlen ins\n",
    "\n",
    "a) $255_{10}$  ins Binärsystem\n",
    "\n",
    "b) $101010_2$ in Dezimalsystem\n",
    "\n",
    "c) $122_{10}$ ins Hexadezimalsystem\n",
    "\n",
    "d) $a10gb_{16}$ ins Dezimalsystem"
   ]
  },
  {
   "cell_type": "markdown",
   "metadata": {},
   "source": [
    "**Lösung:**\n",
    "\n",
    "a) $$(11111111)_2$$\n",
    "b) $$(42)_{10}$$\n",
    "c) $$(7A)_{16}$$\n",
    "d) $$(2576)_{10}$$"
   ]
  },
  {
   "cell_type": "markdown",
   "metadata": {},
   "source": [
    "**Aufabe 4**\n",
    "\n",
    "Handelt es sich bei folgender, umgangssprachlich, prozeduralen Beschreibung um einen Algorithmus? \n",
    "\n",
    "Überprüfen Sie dazu die Vorschrift auf die Eigenschaften\n",
    "\n",
    "- Präszision\n",
    "- Effektivität\n",
    "- statische Finitheit\n",
    "- dynamische Finitheit\n",
    "- und Terminierung.\n",
    "\n",
    "Begründen Sie kurz ihre Antwort.\n",
    "\n",
    "\n",
    "\n",
    "*Gegeben seien zwei positive Zahlen a, b. Setze k = 0. Solange k kleiner ist als b, führe folgende Schritte durch: Addiere b zu a hinzu (b bleibt unverändert). Falls a nun gerade ist, erhöhe k um 1. Ist k größer oder gleich b, gib a aus.*\n"
   ]
  },
  {
   "cell_type": "markdown",
   "metadata": {},
   "source": [
    "**Lösung:**\n",
    "\n",
    "**Präzision** ist erfüllt: Jeder Schritt hat eine klare, eindeutige Interpretation.\n",
    "\n",
    "**Effektivität** ist erfüllt: Kein Schritt fordert etwas Unmögliches wie z.B. eine\n",
    "ganze Zahl zu finden die größer und kleiner 0 gleichzeitig ist.\n",
    "\n",
    "**Statische Finitheit** ist erfüllt: Die prozedurale Beschreibung ist ein endlicher\n",
    "Text.\n",
    "\n",
    "**Terminierung** ist nicht generell erfüllt: Ist `a` ungerade und `b` gerade, dann\n",
    "bleibt `a` stets ungerade, wodurch `k` nie erhöht wird und die Bedingung `k < b`\n",
    "gilt für immer. Das Wiederholen der Schritte bricht in diesen Fällen also nie\n",
    "ab.\n",
    "\n",
    "**Dynamische Finitheit** ist nicht erfüllt: Für alle Eingaben `a` und `b` wird\n",
    "lediglich Speicher für die Werte von `a`, `b` und `k` benötigt. Da es sich bei\n",
    "den Werten aber um ganze Zahlen handelt, die beliebig groß werden können, kann\n",
    "die dynamische Finitheit dennoch verletzt werden. Bei den Eingaben, die nicht\n",
    "terminieren, wird `a` mit jedem Schleifendurchlauf größer, dynamische Finitheit\n",
    "ist also nicht gegeben.\n",
    "\n",
    "Die prozedurale Beschreibung ist also kein Algorithmus im Sinne der Vorlesung,\n",
    "da Terminierung und dynamische Finitheit nicht erfüllt sind.\n"
   ]
  },
  {
   "cell_type": "markdown",
   "metadata": {},
   "source": [
    "**Aufgabe 5**\n",
    "\n",
    "In einer Webung wird eine SSD mit 1Tbyte Speicherplatz beworben. Nachdem die SSD in den Computer eingebaut wurde, zeigt dieser, dass nur nur 931 gbyte Speicher vorhanden sind. Beim Versuch des Umtauschs behauptet der Verkäufer, dies sei normal. Begründen Sie, warum der Verkäufer recht hat."
   ]
  },
  {
   "cell_type": "markdown",
   "metadata": {},
   "source": [
    "**Lösung:**\n",
    "\n",
    "Grund ist die unterschiedliche Darstellung der Kapazitäten. Linuxbasierte Betriessysteme (Linux, MacOS) verwenden das Dezimalbyte-System, z.B. \n",
    "\n",
    "1gByte = 1.000.000.000 Byte (Dezimalbytes)\n",
    "\n",
    "Windows verwendet das Binärbyte-System, d.h. 1 kByte = 1024 Byte, 1 mByte = 1024 kByte \n",
    "1GB = 1.000.000.000 Byte / 1.024 = 976.562.5 kByte /1.024 = 953,7 MByte\n"
   ]
  },
  {
   "cell_type": "markdown",
   "metadata": {},
   "source": []
  }
 ],
 "metadata": {
  "kernelspec": {
   "display_name": "Python 3",
   "language": "python",
   "name": "python3"
  },
  "language_info": {
   "codemirror_mode": {
    "name": "ipython",
    "version": 3
   },
   "file_extension": ".py",
   "mimetype": "text/x-python",
   "name": "python",
   "nbconvert_exporter": "python",
   "pygments_lexer": "ipython3",
   "version": "3.11.4"
  }
 },
 "nbformat": 4,
 "nbformat_minor": 2
}
