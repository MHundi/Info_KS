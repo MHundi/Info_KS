{
 "cells": [
  {
   "cell_type": "markdown",
   "metadata": {},
   "source": [
    "## Aufgabenblatt 6: Iterationen"
   ]
  },
  {
   "cell_type": "markdown",
   "metadata": {},
   "source": [
    "##### Aufgabe 1: Wort rückwärts ausgeben\n",
    "Implementieren Sie eine Funktion, welche nach Eingabe eines Wortes dieses rückwärts buchstabiert wieder ausgibt."
   ]
  },
  {
   "cell_type": "markdown",
   "metadata": {},
   "source": [
    "##### Aufgabe 2: Pi berechnen\n",
    "Schreiben Sie eine Funktion calculate_pi, welche eine ganze Zahl n als Argument nimmt und die Kreiszahl π anhand der folgenden Formel annähert:\n",
    "$$ \\frac{\\pi^2}{6} \\approx \\sum \\limits_{i=1}^{n}  \\frac{1}{i^2}$$\n",
    "Beachten Sie, dass die obige Formel alle Zahlen von 1 bis n einschließt, während in python `range(n)` alle Zahlen von 0 bis n − 1 einschließt. Vergessen Sie nicht, die Formel nach $\\pi$ umzustellen. Die Formel geht auf den Mathematiker Leonard Euler zurück.\n"
   ]
  },
  {
   "cell_type": "markdown",
   "metadata": {},
   "source": [
    "##### Aufgabe 3: Palindrome\n",
    "Implemtieren Sie ein Programm, welches nach Eingabe eines Wortes prüft, ob es sich um eine Palindrom handelt. Entsprechend soll dann das Ergebnis ausgegeben werden."
   ]
  },
  {
   "cell_type": "markdown",
   "metadata": {},
   "source": [
    "##### Aufgabe 4: Primzahlen\n",
    "\n",
    "Primzahlen sind natürliche Zahlen, die durch genau zwei Zahlen teilbar sind: durch 1 und durch sich selbst. Insbesondere ist 2 die kleinste Primzahl, eine größte Primzahl existiert nicht. \n",
    "\n",
    "Implementieren Sie eine Funktion `primes`, die eine ganze Zahl n als Argument nimmt, sukzessiv alle Primzahlen kleiner oder gleich n berechnet und diese in aufsteigender Reihenfolge als Liste zurückgibt. \n",
    "\n",
    "Implementieren Sie dazu die folgende Idee: Um zu überprüfen, ob eine Zahl n prim ist, reicht es, diese auf Teilbarkeit durch alle zuvor erzeugten Primzahlen $\\leq n $ zu überprüfen. Bereits erzeugte Primzahlen können (und sollten) in einer Liste zwischengespeichert \n",
    "werden.\n",
    "\n",
    "Sie können dabei wie folgt vorgehen:\n",
    "a Implementieren Sie zunächst eine Funktion `is_prime`, die eine ganze Zahl x und eine Liste von ganzen Zahlen ps als Argumente nimmt und zurückgibt ob x eine Primzahl ist. Dabei wird angenommen, dass ps die Liste aller Primzahlen kleiner x ist.\n",
    "b Implementieren Sie dann die Funktion `primes`` unter Verwendung von `is_prime``."
   ]
  },
  {
   "cell_type": "markdown",
   "metadata": {},
   "source": []
  }
 ],
 "metadata": {
  "language_info": {
   "name": "python"
  }
 },
 "nbformat": 4,
 "nbformat_minor": 2
}
