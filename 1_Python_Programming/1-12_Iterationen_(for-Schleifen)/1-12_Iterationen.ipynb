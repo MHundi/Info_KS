{
 "cells": [
  {
   "cell_type": "markdown",
   "metadata": {},
   "source": [
    "## 12. Iterationen\n"
   ]
  },
  {
   "cell_type": "markdown",
   "metadata": {},
   "source": [
    "**Problem:** Eine bestimmte Anzahl von Primzahlen  (Liste von Primzahlen) soll multipliziert werden. Die Primzahlen sind in einer also in einer Liste gespeichert."
   ]
  },
  {
   "cell_type": "code",
   "execution_count": 10,
   "metadata": {},
   "outputs": [
    {
     "name": "stdout",
     "output_type": "stream",
     "text": [
      "30030\n"
     ]
    }
   ],
   "source": [
    "primzahlen = [2,3,5,7,11,13]\n",
    "\n",
    "product = primzahlen[0]* primzahlen[1]*primzahlen[2]*primzahlen[3]*primzahlen[4]*primzahlen[5]\n",
    "print(product)"
   ]
  },
  {
   "cell_type": "markdown",
   "metadata": {},
   "source": [
    "$\\Rightarrow $ Dieser Code ist schreibaufwendig und unübersichtlich  \n",
    "$\\Rightarrow $ Umständlich, bei großen Listen \n",
    "\n",
    "andere Lösung: Interationen\n"
   ]
  },
  {
   "cell_type": "markdown",
   "metadata": {},
   "source": [
    "### 12.1 For-Schleife"
   ]
  },
  {
   "cell_type": "code",
   "execution_count": 11,
   "metadata": {},
   "outputs": [
    {
     "name": "stdout",
     "output_type": "stream",
     "text": [
      "30030\n"
     ]
    }
   ],
   "source": [
    "primzahlen = [2,3,5,7,11,13]\n",
    "product = 1\n",
    "for number in primzahlen:\n",
    "    product = product * number #same as product *= number\n",
    "\n",
    "print (product)"
   ]
  },
  {
   "cell_type": "markdown",
   "metadata": {},
   "source": [
    "**Syntax**\n",
    "\n",
    "```python\n",
    "for var in expresssion:   \n",
    "        block\n",
    "```\n",
    "\n",
    "- Schlüsselworte sind `for`und `in`\n",
    "- 1. Zeile heißt Schleifenkopf\n",
    "- 2. Zeile Schleifenrumpf `block` mit einer oder mehreren Anweisungen\n",
    "- Schleifenvariable `var` im Schleifenkopf\n",
    "- Schleifeniteration ist ein Durchlauf (Ausführnung eines Schleifenrumpfs)\n",
    "\n",
    "**Beispiel:**\n"
   ]
  },
  {
   "cell_type": "code",
   "execution_count": 12,
   "metadata": {},
   "outputs": [
    {
     "name": "stdout",
     "output_type": "stream",
     "text": [
      "HH\n",
      "aa\n",
      "ll\n",
      "ll\n",
      "oo\n"
     ]
    }
   ],
   "source": [
    "for j in \"Hallo\":\n",
    "    print(j* 2)"
   ]
  },
  {
   "cell_type": "code",
   "execution_count": 13,
   "metadata": {},
   "outputs": [
    {
     "name": "stdout",
     "output_type": "stream",
     "text": [
      "sweet!\n"
     ]
    }
   ],
   "source": [
    "for ingredient in (\"sugar\", \"water\", \"oil\"):\n",
    "    if ingredient == \"sugar\":\n",
    "        print(\"sweet!\")"
   ]
  },
  {
   "cell_type": "markdown",
   "metadata": {},
   "source": [
    "**Ablauf der Schleife beeinflussen**\n",
    "\n",
    "- `break` - Schleifenrumpf wird umehend beendet (eventuell vorzeitg)\n",
    "- `continue` - die aktuelle Schleifeniteration wird vorzeitig beendet, es wird in den Schleifenkopf gesprungen und die Schleifenvariable wird auf den nächsten Wert gesetzt.\n",
    "- `else-`Zweig - wird nach Beendigungder Schleife ausgeführt, genau dann wenn die Schleife nicht mit `break` verlassen wurde."
   ]
  },
  {
   "cell_type": "markdown",
   "metadata": {},
   "source": [
    "**Beispiel**"
   ]
  },
  {
   "cell_type": "code",
   "execution_count": 20,
   "metadata": {},
   "outputs": [
    {
     "name": "stdout",
     "output_type": "stream",
     "text": [
      "Durchschnitt war in Ordnung\n"
     ]
    }
   ],
   "source": [
    "noten_und_anzahl =[(\"sehr gut\", 1), (\"gut\", 3), (\"befriedigend\",0), (\"ausreichend\", 2)]\n",
    "\n",
    "for na in noten_und_anzahl:\n",
    "    note , anzahl = na\n",
    "    if anzahl == 0:\n",
    "        continue\n",
    "    if note == \"h\":\n",
    "        print(\"Tolle Leistung\")\n",
    "        break\n",
    "else:\n",
    "    print(\"Durchschnitt war in Ordnung\")\n",
    "     "
   ]
  },
  {
   "cell_type": "markdown",
   "metadata": {},
   "source": [
    "Alternativ kann man das auch so aufschreiben:\n"
   ]
  },
  {
   "cell_type": "code",
   "execution_count": null,
   "metadata": {},
   "outputs": [],
   "source": [
    "noten_und_anzahl =[(\"sehr gut\", 1), (\"gut\", 3), (\"befriedigend\",0), (\"ausreichend, 2\")]\n",
    "\n",
    "for note, anzahl in noten_und_anzahl:\n",
    "    if anzahl ==0:\n",
    "        continue\n",
    "    if note == \"gut\":\n",
    "        print(\"Tolle Leistung\")\n",
    "        break\n",
    "else:\n",
    "    print(\"Durchschnitt war in Ordnung\")\n",
    "     "
   ]
  },
  {
   "cell_type": "markdown",
   "metadata": {},
   "source": [
    "**Nützliche Funktionen**\n",
    "\n",
    "- `range`\n",
    "- `zip` \n",
    "- `reversed`"
   ]
  },
  {
   "cell_type": "markdown",
   "metadata": {},
   "source": [
    "### 12.2 `range`\n",
    "\n",
    "- erzeugt eine Folge von Indices für die Schleifendurchläufe, genauer einen Iterator.\n",
    "- `range(stop)` - ergibt 0, 1, ..., stop -1\n",
    "- `range(start, stop)` - ergibt start, start + 1, ... , stop -1\n",
    "- `range(start, stop, step)` - ergibt start, start +step, start+ 2* step, ... , stop -1\n",
    "\n",
    "**Beispiele:**"
   ]
  },
  {
   "cell_type": "code",
   "execution_count": 21,
   "metadata": {},
   "outputs": [
    {
     "data": {
      "text/plain": [
       "range(0, 5)"
      ]
     },
     "execution_count": 21,
     "metadata": {},
     "output_type": "execute_result"
    }
   ],
   "source": [
    "range(5)"
   ]
  },
  {
   "cell_type": "code",
   "execution_count": 22,
   "metadata": {},
   "outputs": [
    {
     "name": "stdout",
     "output_type": "stream",
     "text": [
      "range(2, 30, 5)\n"
     ]
    }
   ],
   "source": [
    "print(range(2, 30, 5)) #keine Liste, print gibt keine Ausgabe"
   ]
  },
  {
   "cell_type": "code",
   "execution_count": null,
   "metadata": {},
   "outputs": [],
   "source": [
    "list(range(0,9))"
   ]
  },
  {
   "cell_type": "code",
   "execution_count": null,
   "metadata": {},
   "outputs": [],
   "source": [
    "list (range(2, 30, 5))"
   ]
  },
  {
   "cell_type": "code",
   "execution_count": 23,
   "metadata": {},
   "outputs": [
    {
     "name": "stdout",
     "output_type": "stream",
     "text": [
      "3 **3 =  27\n",
      "4 **3 =  64\n",
      "5 **3 =  125\n"
     ]
    }
   ],
   "source": [
    "for i in range(3,6):\n",
    "    print (i, \"**3 = \", i ** 3)"
   ]
  },
  {
   "cell_type": "markdown",
   "metadata": {},
   "source": [
    "### 12.3 `zip`\n",
    "\n",
    "- Funktion\n",
    "- nimmt eine oder mehrere Sequenzen und liefert eine \"Liste\"  von Tupeln mit korrespndierenden Elementen \n",
    "- erzeugt eigentlich keine Liste, sondern einen Iterator\n",
    "\n",
    "**Beipsiel**"
   ]
  },
  {
   "cell_type": "code",
   "execution_count": 24,
   "metadata": {},
   "outputs": [
    {
     "name": "stdout",
     "output_type": "stream",
     "text": [
      "[('Rind', 'Kartoffeln'), ('Huhn', 'Pommes'), ('Hund', 'Spätzle')]\n"
     ]
    }
   ],
   "source": [
    "fleisch = [\"Rind\", \"Huhn\", \"Hund\"]\n",
    "beilage =[\"Kartoffeln\", \"Pommes\", \"Spätzle\"]\n",
    "\n",
    "print(list(zip(fleisch, beilage)))"
   ]
  },
  {
   "cell_type": "markdown",
   "metadata": {},
   "source": [
    "- mit `zip` können mehrere Sequenzen parallel durchlaufen werden\n",
    "- bei unterschiedlicher Länge ist das Ergbnis so lang, wie die kürzere Sequenz.\n",
    "\n",
    "**Beispiel**"
   ]
  },
  {
   "cell_type": "code",
   "execution_count": 25,
   "metadata": {},
   "outputs": [
    {
     "name": "stdout",
     "output_type": "stream",
     "text": [
      "r h 5\n",
      "i u 6\n",
      "n h 7\n",
      "d n 8\n"
     ]
    }
   ],
   "source": [
    "for xyz in zip(\"rind\", \"huhn\", range(5,10)):\n",
    "    x, y, z = xyz\n",
    "    print(x, y, z)"
   ]
  },
  {
   "cell_type": "markdown",
   "metadata": {},
   "source": [
    "### 12.4 `reversed`\n",
    "\n",
    "- Funktion\n",
    "- Durchlauf einer Sequenz in umgekehrter Richtung\n",
    "\n",
    "**Beispiel**"
   ]
  },
  {
   "cell_type": "code",
   "execution_count": 26,
   "metadata": {},
   "outputs": [
    {
     "name": "stdout",
     "output_type": "stream",
     "text": [
      "o\n",
      "l\n",
      "l\n",
      "a\n",
      "h\n"
     ]
    }
   ],
   "source": [
    "for x in reversed(\"hallo\"):\n",
    "    print(x)"
   ]
  },
  {
   "cell_type": "markdown",
   "metadata": {},
   "source": [
    "### 12.5 Beispiel: Implemtierung einer Fakultätsfunktion\n",
    "\n",
    "Fakultät ist wie folgt definiert:\n",
    "\n",
    "$0! = 1$  \n",
    "$(n+1)! = (n+1)\\cdot n!$\n",
    "\n",
    "Aufgabe: Entwickle eine Funktion `fact`, welche die Fakulät einer ganzen Zahl berechnet.\n",
    "\n",
    "1. Bezeichner und Datentypen\n",
    "\n",
    "- Die Eingabe ist `n: int` (mit n >= 0)\n",
    "- Die Ausgabe ist `int`\n",
    "\n",
    "2. Funktionsgerüst\n",
    "    ```python\n",
    "        def fact(\n",
    "        n: int # assume n>=0\n",
    "        )\n",
    "        # fill in\n",
    "        return\n",
    "    ```\n"
   ]
  },
  {
   "cell_type": "markdown",
   "metadata": {},
   "source": [
    "3. Beispiele\n",
    "\n",
    "    `assert fact(0) == 1`  \n",
    "    `assert fact(1) == 1`  \n",
    "    `assert fact(3) == 6`  "
   ]
  },
  {
   "cell_type": "markdown",
   "metadata": {},
   "source": [
    "4. Ergebnis"
   ]
  },
  {
   "cell_type": "code",
   "execution_count": 28,
   "metadata": {},
   "outputs": [],
   "source": [
    "def fact(\n",
    "        n: int \n",
    "        ) -> int:\n",
    "    result = 1\n",
    "    for i in range (1, n+1):\n",
    "        result= result * i\n",
    "    return result"
   ]
  },
  {
   "cell_type": "code",
   "execution_count": 29,
   "metadata": {},
   "outputs": [
    {
     "name": "stdout",
     "output_type": "stream",
     "text": [
      "3628800\n"
     ]
    }
   ],
   "source": [
    "print(fact(10))"
   ]
  },
  {
   "cell_type": "code",
   "execution_count": null,
   "metadata": {},
   "outputs": [],
   "source": []
  }
 ],
 "metadata": {
  "kernelspec": {
   "display_name": "Python 3",
   "language": "python",
   "name": "python3"
  },
  "language_info": {
   "codemirror_mode": {
    "name": "ipython",
    "version": 3
   },
   "file_extension": ".py",
   "mimetype": "text/x-python",
   "name": "python",
   "nbconvert_exporter": "python",
   "pygments_lexer": "ipython3",
   "version": "3.11.4"
  }
 },
 "nbformat": 4,
 "nbformat_minor": 2
}
