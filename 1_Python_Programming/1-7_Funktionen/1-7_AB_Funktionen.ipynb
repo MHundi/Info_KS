{
 "cells": [
  {
   "cell_type": "markdown",
   "metadata": {},
   "source": [
    "## Aufgabenblatt 3: Funktionen\n"
   ]
  },
  {
   "cell_type": "markdown",
   "metadata": {},
   "source": [
    "**Aufgabe 1:** Satzbau\n",
    "\n",
    "a) Implementieren Sie ein Funktion namens `sentence`, welche nach Übergabe eines Subjekts, eines Prädikats und eines Objekts aus diesen drei Satzbestandteilen einen Satz konstruiert und diesen ausgibt.\n",
    "\n",
    "b) Erstellen Sie mit Hilfe der Funktion ein Python-Progamm, welches die drei Satzteile einliest und anschließend ausgibt. \n"
   ]
  },
  {
   "cell_type": "markdown",
   "metadata": {},
   "source": [
    "**Lösung:**"
   ]
  },
  {
   "cell_type": "code",
   "execution_count": 1,
   "metadata": {},
   "outputs": [],
   "source": [
    "# Aufgabe 1"
   ]
  },
  {
   "cell_type": "markdown",
   "metadata": {},
   "source": [
    "**Aufgabe 2:** Celsius nach Fahrenheit\n",
    "\n",
    "Schreiben Sie ein Python-Script, welches den Benutzer dazu auffordert einen Celsius-Wert (Fließkommazahl) einzugeben und anschließend den entsprechenden, auf zwei Nachkommastellen gerundeten, Fahrenheit-Wert ausgibt.\n",
    "Der Aufruf des Scripts, bei dem der Benutzer den Celsius-Wert -12.715 eingibt, soll dabei folgende Ausgabe erzeugen:\n",
    "\n",
    "Celsius: -12.715  \n",
    "Fahrenheit: 9.11\n",
    "\n",
    "Hinweis: Zum Runden können Sie die Funktion round verwenden. Konsultieren Sie hierzu help(round) in einem Python-Feld. \\n\n",
    "Hinweis: Strings können wie folgt zu Fließkommazahlen konvertiert werden: \n",
    "\n",
    "`float('2.3450')`\n",
    "\n",
    "`> 2.345`\n",
    "\n",
    "Versucht man einen String, der keiner Fließkommazahl entspricht, zu konvertieren, wird die Ausführung des Programms durch eine Ausnahme zum Absturz gebracht:\n",
    "\n",
    "float('not a number')  \n",
    "Traceback (most recent call last):  \n",
    "File \"<stdin>\", line 1, in <module>  \n",
    "ValueError: could not convert string to float: 'not a number'  \n",
    "\n",
    "In Ihrem Python-Script dürfen Sie dies ignorieren. Sie können also annehmen, dass der Benutzer stehts eine Fließkommazahl eingibt."
   ]
  },
  {
   "cell_type": "markdown",
   "metadata": {},
   "source": [
    "**Lösung:**"
   ]
  },
  {
   "cell_type": "code",
   "execution_count": 2,
   "metadata": {},
   "outputs": [],
   "source": [
    "# Aufgabe 2"
   ]
  },
  {
   "cell_type": "markdown",
   "metadata": {},
   "source": [
    "**Aufgabe 3:** Bibliotheken und Apps\n",
    "\n",
    "In dieser Aufgabe sollen Sie die Mantelfläche eines Kegels berechnen und dabei Funktionen und mehrere Dateien verwenden. \n",
    "\n",
    "Es können nicht nur Funktionen aus Modulen importiert werden. Auch Funktionsdefinitionen aus anderen Dateien lassen sich importiert werden. Die Datein müssen dabei im Python-Format abgespeichert werden und den Namen: `Dateiname.py` haben.\n",
    "\n",
    "Beispiel:\n",
    "\n",
    "```Python\n",
    "\n",
    "foo.py\n",
    "\n",
    "def my_function():\n",
    "     print(\"Meine Funktion\")\n",
    "\n",
    "print(\"Das ist deine Funktion\")\n",
    "\n",
    "lee.py\n",
    "\n",
    "from foo import my_function\n",
    "my_function\n",
    "\n",
    "```\n",
    "Wird die Datei lee.py ausgeführt (in Jupyter oder auf in vscode), dann wird alles, was in der Datei foo.py steht, ausgeführt. Die Ausgabe ist folglich:\n",
    "```\n",
    "Das ist deine Funktion  \n",
    "Meine Funktion\n",
    "```\n",
    "\n",
    "Um dies zu verhindern, teilt man seinen Code meistens in zwei Arten von Python- Dateien auf: \n",
    " \n",
    "- Python-Dateien, die selbst keine ausführbare Programme darstellen, sondern nur Funktionalität bereitstellen, die von anderen Python-Dateien importiert wird. Diese Dateien enthalten nur Definitionen und keine anderen Anweisungen. Eine Ansammlung von einer oder mehreren solcher Dateien nennt man auch eine Bibliothek (englisch Library, kurz lib). \n",
    "     \n",
    "- Python-Dateien, die den Einstiegspunkt in ein Programm darstellen. Diese Dateien enthalten auch Anweisungen, die nicht Teil einer Definition sind, aber können dafür auch nicht sinnvoll in andere Dateien importiert werden. Solche Dateien nennt man auch Applikationen (englisch applications, kurz app).\n",
    "\n",
    "Diese Aufteilung bringt den Vorteil, dass man die Funktionalität aus den Bibliotheks-Dateien potentiell in mehreren Anwendungen wiederverwenden kann, ohne das Verhalten der Anwendungen auf ungewünschte Weise zu beeinflussen. Ein Beispiel für eine Bibliotheks-Datei ist das math-Modul.\n",
    "\n",
    "\n",
    "\n",
    "a) Erstellen Sie die Datei cone_area_lib.py und definieren Sie dort eine Funktion cone_area, welche den Radius und die Höhe eines Kegels als Argumente vom Typ float entgegen nimmt und die Mantelfläche des Kegels als Wert vom Typ float zurückgibt.\n",
    "Die Funktion soll keine Seiteneffekte haben, d.h. sie soll ausschließlich die Argumente verwenden um die Mantelfläche zu berechnen und diese zurückgeben, aber keine Funktionen wie print oder input aufrufen.\n",
    "Beispielaufruf:\n",
    "\n",
    "```Python\n",
    "cone_area(3.0, 5.0)    \n",
    "> 54.96\n",
    "```\n",
    "\n",
    "b) Erstellen Sie die Datei cone_area_app.py und importieren Sie dort die Funktion cone_area aus der Datei cone_area_lib.py.\n",
    "Verwenden Sie die Funktionen cone_area, input und print um das gleiche Verhalten wie bei Aufgabe 2.3 zu erzeugen, d.h. das Ausführen von cone_area_app.py soll für einen Kegel mit Radius 3 und Höhe 5 folgende Ausgabe erzeugen:\n",
    "     $ python3 cone_area_app.py\n",
    "     Radius: 3.0\n",
    "     Höhe: 5.0\n",
    "     Mantelfläche: 54.96"
   ]
  },
  {
   "cell_type": "markdown",
   "metadata": {},
   "source": [
    "**Lösung:**"
   ]
  },
  {
   "cell_type": "code",
   "execution_count": 3,
   "metadata": {},
   "outputs": [],
   "source": [
    "# Aufgabe 3"
   ]
  }
 ],
 "metadata": {
  "kernelspec": {
   "display_name": "Python 3",
   "language": "python",
   "name": "python3"
  },
  "language_info": {
   "codemirror_mode": {
    "name": "ipython",
    "version": 3
   },
   "file_extension": ".py",
   "mimetype": "text/x-python",
   "name": "python",
   "nbconvert_exporter": "python",
   "pygments_lexer": "ipython3",
   "version": "3.11.4"
  }
 },
 "nbformat": 4,
 "nbformat_minor": 2
}
