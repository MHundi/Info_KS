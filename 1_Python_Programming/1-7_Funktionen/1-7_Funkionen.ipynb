{
 "cells": [
  {
   "cell_type": "markdown",
   "metadata": {},
   "source": [
    "## 7. Funktionen"
   ]
  },
  {
   "cell_type": "markdown",
   "metadata": {},
   "source": [
    "- Funktionen wie in der Mathematik: Abbildung von einem Definitionsbereich in einem Bildbereich.\n",
    "- Funktion erwartet Argumente (aus dem Definitionsbereich) ud gibt einen Funktionswert (=Rückgabewert) zurück.\n",
    "- mehr wie in der Mathematik: Funktionen können Effekte haben, z.B. Ausgabe erzeugen, Eingabe lesen, etc.\n",
    "- Viele Standardfunktionen in Python vordefiniert."
   ]
  },
  {
   "cell_type": "markdown",
   "metadata": {},
   "source": [
    "#### 7.1 Konvertierungsfunktionen:\n",
    "\n",
    "- `int`, `float`, `complex`, `str`: **passende** Werte in den Typ konvertieren.\n",
    "- `chr`: konertiert int in ein Unicode zeichen. In Python sind Zeichen einstellige Strings.\n",
    "- `ord`: konvetiert in die umgehkehrte Richtung, Unicode in Char.\n"
   ]
  },
  {
   "cell_type": "code",
   "execution_count": null,
   "metadata": {},
   "outputs": [
    {
     "data": {
      "text/plain": [
       "-1"
      ]
     },
     "execution_count": 44,
     "metadata": {},
     "output_type": "execute_result"
    }
   ],
   "source": [
    "int(-1.3)"
   ]
  },
  {
   "cell_type": "code",
   "execution_count": 45,
   "metadata": {},
   "outputs": [
    {
     "ename": "ValueError",
     "evalue": "invalid literal for int() with base 10: 'vier'",
     "output_type": "error",
     "traceback": [
      "\u001b[0;31m---------------------------------------------------------------------------\u001b[0m",
      "\u001b[0;31mValueError\u001b[0m                                Traceback (most recent call last)",
      "\u001b[1;32m/Users/martin/Workspace/Jupyter_Notebooks/Informatik_KS/1_Python_Programmieren/1-7 Funtktionen/1-7_Funkionen.ipynb Cell 5\u001b[0m line \u001b[0;36m1\n\u001b[0;32m----> <a href='vscode-notebook-cell:/Users/martin/Workspace/Jupyter_Notebooks/Informatik_KS/1_Python_Programmieren/1-7%20Funtktionen/1-7_Funkionen.ipynb#W4sZmlsZQ%3D%3D?line=0'>1</a>\u001b[0m \u001b[39mint\u001b[39;49m(\u001b[39m'\u001b[39;49m\u001b[39mvier\u001b[39;49m\u001b[39m'\u001b[39;49m)\n",
      "\u001b[0;31mValueError\u001b[0m: invalid literal for int() with base 10: 'vier'"
     ]
    }
   ],
   "source": [
    "int('vier')"
   ]
  },
  {
   "cell_type": "code",
   "execution_count": 1,
   "metadata": {},
   "outputs": [
    {
     "data": {
      "text/plain": [
       "(42+0j)"
      ]
     },
     "execution_count": 1,
     "metadata": {},
     "output_type": "execute_result"
    }
   ],
   "source": [
    "complex('42')"
   ]
  },
  {
   "cell_type": "code",
   "execution_count": null,
   "metadata": {},
   "outputs": [
    {
     "data": {
      "text/plain": [
       "4.0"
      ]
     },
     "execution_count": 4,
     "metadata": {},
     "output_type": "execute_result"
    }
   ],
   "source": [
    "float(4)"
   ]
  },
  {
   "cell_type": "code",
   "execution_count": null,
   "metadata": {},
   "outputs": [
    {
     "data": {
      "text/plain": [
       "'42'"
      ]
     },
     "execution_count": 5,
     "metadata": {},
     "output_type": "execute_result"
    }
   ],
   "source": [
    "str(42)"
   ]
  },
  {
   "cell_type": "code",
   "execution_count": 2,
   "metadata": {},
   "outputs": [
    {
     "data": {
      "text/plain": [
       "'+'"
      ]
     },
     "execution_count": 2,
     "metadata": {},
     "output_type": "execute_result"
    }
   ],
   "source": [
    "chr(43)"
   ]
  },
  {
   "cell_type": "code",
   "execution_count": 3,
   "metadata": {},
   "outputs": [
    {
     "data": {
      "text/plain": [
       "43"
      ]
     },
     "execution_count": 3,
     "metadata": {},
     "output_type": "execute_result"
    }
   ],
   "source": [
    "ord('+')"
   ]
  },
  {
   "cell_type": "code",
   "execution_count": null,
   "metadata": {},
   "outputs": [
    {
     "ename": "TypeError",
     "evalue": "ord() expected a character, but string of length 2 found",
     "output_type": "error",
     "traceback": [
      "\u001b[0;31m---------------------------------------------------------------------------\u001b[0m",
      "\u001b[0;31mTypeError\u001b[0m                                 Traceback (most recent call last)",
      "\u001b[1;32m/Users/martin/Workspace/Jupyter_Notebooks/Informatik_KS/1_Python_Programmieren/1-7 Funtktionen/Funkionen.ipynb Cell 11\u001b[0m line \u001b[0;36m1\n\u001b[0;32m----> <a href='vscode-notebook-cell:/Users/martin/Workspace/Jupyter_Notebooks/Informatik_KS/1_Python_Programmieren/1-7%20Funtktionen/Funkionen.ipynb#X32sZmlsZQ%3D%3D?line=0'>1</a>\u001b[0m \u001b[39mord\u001b[39;49m(\u001b[39m'\u001b[39;49m\u001b[39mHA\u001b[39;49m\u001b[39m'\u001b[39;49m)\n",
      "\u001b[0;31mTypeError\u001b[0m: ord() expected a character, but string of length 2 found"
     ]
    }
   ],
   "source": [
    "ord('HA')"
   ]
  },
  {
   "cell_type": "markdown",
   "metadata": {},
   "source": [
    "#### 7.2 Ein- und Ausgabe-Funktionen:\n",
    "\n",
    "- `print`: Gibt Wert aus\n",
    "- `input`: liest Stringwerte ein."
   ]
  },
  {
   "cell_type": "code",
   "execution_count": 4,
   "metadata": {},
   "outputs": [
    {
     "data": {
      "text/plain": [
       "'Yeepeahh'"
      ]
     },
     "execution_count": 4,
     "metadata": {},
     "output_type": "execute_result"
    }
   ],
   "source": [
    "\n",
    "input('Gib mir was ein :')"
   ]
  },
  {
   "cell_type": "code",
   "execution_count": null,
   "metadata": {},
   "outputs": [
    {
     "data": {
      "text/plain": [
       "'42'"
      ]
     },
     "execution_count": 1,
     "metadata": {},
     "output_type": "execute_result"
    }
   ],
   "source": [
    "input (42)"
   ]
  },
  {
   "cell_type": "markdown",
   "metadata": {},
   "source": [
    "- Eingabe von Zahlen: Typkonvertierung notwendig"
   ]
  },
  {
   "cell_type": "code",
   "execution_count": 5,
   "metadata": {},
   "outputs": [
    {
     "name": "stdout",
     "output_type": "stream",
     "text": [
      "120cm = 1.2m\n"
     ]
    }
   ],
   "source": [
    "cm_in_m = 0.01\n",
    "länge = input(\"Eingabe der Länge in cm: \")\n",
    "#Länge ist ein String\n",
    "länge_cm = float(länge)\n",
    "länge_m = länge_cm * cm_in_m\n",
    "print(länge + 'cm', \"=\", str(länge_m) + 'm')"
   ]
  },
  {
   "cell_type": "markdown",
   "metadata": {},
   "source": [
    "#### 7.3 Numerische bzw. mathematische Funktionen\n",
    "\n",
    "- `abs`: Absolutbetrag, aber Vorsicht!\n",
    "- `round`: kaufmännisches runden\n"
   ]
  },
  {
   "cell_type": "code",
   "execution_count": 8,
   "metadata": {},
   "outputs": [
    {
     "data": {
      "text/plain": [
       "3"
      ]
     },
     "execution_count": 8,
     "metadata": {},
     "output_type": "execute_result"
    }
   ],
   "source": [
    "abs(-3)"
   ]
  },
  {
   "cell_type": "code",
   "execution_count": 10,
   "metadata": {},
   "outputs": [
    {
     "data": {
      "text/plain": [
       "-2"
      ]
     },
     "execution_count": 10,
     "metadata": {},
     "output_type": "execute_result"
    }
   ],
   "source": [
    "round(-2.499)"
   ]
  },
  {
   "cell_type": "markdown",
   "metadata": {},
   "source": [
    "Mathematische Funktionen stehen nich direkt zur Verfügung, sondern müssen von einem Modul imporitert werden."
   ]
  },
  {
   "cell_type": "code",
   "execution_count": 14,
   "metadata": {},
   "outputs": [],
   "source": [
    "import math"
   ]
  },
  {
   "cell_type": "markdown",
   "metadata": {},
   "source": [
    "Im `math` Modul findet man viele Funktionen wie:\n",
    "\n",
    "- Pi\n",
    "- Exponentialfunktionen\n",
    "- trigonmetrische Funktionen\n",
    "\n",
    "Funktionen aus dem Modul `math` können mit vorangestellten `math.` verwendet werden."
   ]
  },
  {
   "cell_type": "code",
   "execution_count": 16,
   "metadata": {},
   "outputs": [
    {
     "data": {
      "text/plain": [
       "-1.0"
      ]
     },
     "execution_count": 16,
     "metadata": {},
     "output_type": "execute_result"
    }
   ],
   "source": [
    "math.cos(math.pi)"
   ]
  },
  {
   "cell_type": "code",
   "execution_count": null,
   "metadata": {},
   "outputs": [
    {
     "data": {
      "text/plain": [
       "4.999999999999999"
      ]
     },
     "execution_count": 5,
     "metadata": {},
     "output_type": "execute_result"
    }
   ],
   "source": [
    "math.exp(math.log(5))"
   ]
  },
  {
   "cell_type": "code",
   "execution_count": null,
   "metadata": {},
   "outputs": [
    {
     "data": {
      "text/plain": [
       "-0.4042391538522658"
      ]
     },
     "execution_count": 7,
     "metadata": {},
     "output_type": "execute_result"
    }
   ],
   "source": [
    "math.sin(math.cos(2))"
   ]
  },
  {
   "cell_type": "markdown",
   "metadata": {},
   "source": [
    "Vorteile der Punkt-Schreibweise: Namenskollisionen werden verhindert"
   ]
  },
  {
   "cell_type": "markdown",
   "metadata": {},
   "source": [
    "Der Bezeichner einer mathemtatischen Funkiton kann direkt importiert werden: `from` modulname `import` name\n",
    "\n",
    "Direkter Import aller Bezeichner eines Moduls: `from` modul `import *`\n",
    "\n",
    "**Bemerkung:**\n",
    "- Import kann nicht rückgängig gemacht werden.\n",
    "- Ein Import kann aber überschrieben werden."
   ]
  },
  {
   "cell_type": "markdown",
   "metadata": {},
   "source": [
    "**Beispiel:**"
   ]
  },
  {
   "cell_type": "code",
   "execution_count": null,
   "metadata": {},
   "outputs": [],
   "source": [
    "from math import *"
   ]
  },
  {
   "cell_type": "markdown",
   "metadata": {},
   "source": [
    "- Eine große Zuweisung\n",
    "- alle lokalen Variablen werden mit den Defintionen in `math` überschrieben.\n",
    "- lokale bezeichner können dann verwendet werden.\n",
    "- Vorsicht: Bei Module update könnten lokale (eigene) Variablen plötzlich überschrieben werden, wenn zum Beispiel neue Definitionen hinzukommen. \n",
    "- Besser diese Zuweisung vermeinden oder die Funktionen aufzählen, die man konkret haben möchte."
   ]
  },
  {
   "cell_type": "code",
   "execution_count": null,
   "metadata": {},
   "outputs": [],
   "source": [
    "cos(pi)"
   ]
  },
  {
   "cell_type": "code",
   "execution_count": null,
   "metadata": {},
   "outputs": [
    {
     "data": {
      "text/plain": [
       "-1.0"
      ]
     },
     "execution_count": 14,
     "metadata": {},
     "output_type": "execute_result"
    }
   ],
   "source": [
    "from math import *\n",
    "cos(pi)"
   ]
  },
  {
   "cell_type": "markdown",
   "metadata": {},
   "source": [
    "#### 7.4 Eigene Funktionen definieren\n",
    "\n",
    "##### 7.4.1 Syntax und Eigenschaften \n",
    "\n",
    "```python  \n",
    "def Funktionsname  (Paramterliste) :\n",
    "    #Funktionsblock\n",
    "    Anweisung 1 / Funktionsaufruf 1\n",
    "    Anweisung 2 / Funktionsaufruf 2 ...  \n",
    "```\n",
    "\n",
    "- Funktionsname muss gültiger Bezeichnern sein.\n",
    "- Rumpf: alle Anweisungen sind **gleich weit** eingerückt.\n",
    "- Funktionsdefinition ist auch eine Zuweisung an einen Bezeichner (analog zur Variable)\n",
    "\n",
    "**Beipsiel:**\n",
    "\n",
    "    "
   ]
  },
  {
   "cell_type": "code",
   "execution_count": 18,
   "metadata": {},
   "outputs": [
    {
     "name": "stdout",
     "output_type": "stream",
     "text": [
      "Einigkeit und Recht und Freiheit\n",
      "Für das deutsche Vaterland\n"
     ]
    }
   ],
   "source": [
    "def print_hymne():\n",
    "    print(\"Einigkeit und Recht und Freiheit\")\n",
    "    print(\"Für das deutsche Vaterland\")\n",
    "    \n",
    "print_hymne()"
   ]
  },
  {
   "cell_type": "markdown",
   "metadata": {},
   "source": [
    " - Einrückung und Anzahl der eingerückten Zeichen ist entscheiden in Python. \n",
    " - Vier Leerzeichen pro Ebene notwendig\n",
    " - keine Tabulatorzeichen machen! Editoren machen häufig aus der Tabulatortaste Leerzeichen.\n",
    "- Anweisungen werden sequentiell ausgwertet. Damit müssen Funktionen, die verwendet werden sollen, vor der Anwendung definiert werden. \n",
    "- andere Programmiersprache verwenden geschweifte Klammern für Blöcke\n",
    "\n",
    "**Beispiel:** Funktionen innerhalb von Funktionen aufrufen"
   ]
  },
  {
   "cell_type": "code",
   "execution_count": 19,
   "metadata": {},
   "outputs": [
    {
     "name": "stdout",
     "output_type": "stream",
     "text": [
      "Einigkeit und Recht und Freiheit\n",
      "Für das deutsche Vaterland\n",
      "Einigkeit und Recht und Freiheit\n",
      "Für das deutsche Vaterland\n"
     ]
    }
   ],
   "source": [
    "def repeat_hymne():\n",
    "    print_hymne()\n",
    "    print_hymne()\n",
    "    \n",
    "repeat_hymne()"
   ]
  },
  {
   "cell_type": "markdown",
   "metadata": {},
   "source": [
    "##### Konvention:\n",
    "Funktionsnamen werden in Kleinbuchstaben geschrieben.  \n",
    "Beispiel: `hymne`\n",
    "\n",
    "Besteht der Funktionsname aus mehreren Wörtern, werden diese mit \"\\_\" getrennt.  \n",
    "Beispiel: `meine_erste_funktion`\n"
   ]
  },
  {
   "cell_type": "markdown",
   "metadata": {},
   "source": [
    "#### 7.4.2 Argumente\n",
    "\n",
    "- häufig verwendet\n",
    "- Funktionsdefinition verwendet **formale Parameter** (Variablennamen.)\n",
    "- beim Funktionsaufruf erhalten die formalen Paramtere die Argumentwerte\n",
    "- `return` beendet die Ausführung der Funktion\n",
    "- Wert des Ausdrucks nach `return` ist der Wert, den die Funktion zurückgibt.\n",
    "\n",
    "**Beispiel:** Konverter Geschwindigkeit km/h in miles per hour\n"
   ]
  },
  {
   "cell_type": "code",
   "execution_count": 21,
   "metadata": {},
   "outputs": [
    {
     "data": {
      "text/plain": [
       "85.625"
      ]
     },
     "execution_count": 21,
     "metadata": {},
     "output_type": "execute_result"
    }
   ],
   "source": [
    "KMH_PER_MIH = 1.6\n",
    "\n",
    "def conv_kmh_in_mih(kmh):\n",
    "    return kmh/KMH_PER_MIH\n",
    "\n",
    "var1 = input('Gib die Geschwindigkeit in km pro Stunde ein')\n",
    "conv_kmh_in_mih(int(var1))\n",
    "\n"
   ]
  },
  {
   "cell_type": "markdown",
   "metadata": {},
   "source": [
    "- Parameter sind nur innerhalb der Funktion sichtbar => **lokale Variable**"
   ]
  },
  {
   "cell_type": "code",
   "execution_count": 23,
   "metadata": {},
   "outputs": [
    {
     "name": "stdout",
     "output_type": "stream",
     "text": [
      "Hi Folks\n"
     ]
    },
    {
     "ename": "NameError",
     "evalue": "name 'cat' is not defined",
     "output_type": "error",
     "traceback": [
      "\u001b[0;31m---------------------------------------------------------------------------\u001b[0m",
      "\u001b[0;31mNameError\u001b[0m                                 Traceback (most recent call last)",
      "\u001b[1;32m/Users/martin/Workspace/Jupyter_Notebooks/Informatik_KS/1_Python_Programmieren/1-7_Funtktionen/1-7_Funkionen.ipynb Cell 40\u001b[0m line \u001b[0;36m8\n\u001b[1;32m      <a href='vscode-notebook-cell:/Users/martin/Workspace/Jupyter_Notebooks/Informatik_KS/1_Python_Programmieren/1-7_Funtktionen/1-7_Funkionen.ipynb#X54sZmlsZQ%3D%3D?line=4'>5</a>\u001b[0m cat_words (\u001b[39m'\u001b[39m\u001b[39mHi \u001b[39m\u001b[39m'\u001b[39m, \u001b[39m'\u001b[39m\u001b[39mFolks\u001b[39m\u001b[39m'\u001b[39m)\n\u001b[1;32m      <a href='vscode-notebook-cell:/Users/martin/Workspace/Jupyter_Notebooks/Informatik_KS/1_Python_Programmieren/1-7_Funtktionen/1-7_Funkionen.ipynb#X54sZmlsZQ%3D%3D?line=6'>7</a>\u001b[0m \u001b[39m# Ein Print der Varialbe cat fürht zur Fehlermeldung: name 'cat' ist not defined\u001b[39;00m\n\u001b[0;32m----> <a href='vscode-notebook-cell:/Users/martin/Workspace/Jupyter_Notebooks/Informatik_KS/1_Python_Programmieren/1-7_Funtktionen/1-7_Funkionen.ipynb#X54sZmlsZQ%3D%3D?line=7'>8</a>\u001b[0m \u001b[39mprint\u001b[39m(cat)\n",
      "\u001b[0;31mNameError\u001b[0m: name 'cat' is not defined"
     ]
    }
   ],
   "source": [
    "def cat_words (part1, part2):\n",
    "    cat = part1 + part2\n",
    "    print (cat)\n",
    "    \n",
    "cat_words ('Hi ', 'Folks')\n",
    "\n",
    "# Ein Print der Varialbe cat fürht zur Fehlermeldung: name 'cat' ist not defined\n",
    "print(cat)"
   ]
  },
  {
   "cell_type": "markdown",
   "metadata": {},
   "source": [
    "##### 7.4.3 Rückgabewerte\n",
    "\n",
    "- Alle Funktionen geben eine Wert zurück.\n",
    "- Die  `print`-Funktion hat nur einen Effek, gibt aber auch den Wert `None` zurück. der aber nicht sichtbar ist."
   ]
  },
  {
   "cell_type": "code",
   "execution_count": 5,
   "metadata": {},
   "outputs": [
    {
     "name": "stdout",
     "output_type": "stream",
     "text": [
      "Hallo\n",
      "None\n"
     ]
    }
   ],
   "source": [
    "ergebnis = print(\"Hallo\")\n",
    "ergebnis\n",
    "print(ergebnis)"
   ]
  },
  {
   "cell_type": "markdown",
   "metadata": {},
   "source": [
    "- Schlüsselwort `return` definiert den Rückgabewert"
   ]
  },
  {
   "cell_type": "code",
   "execution_count": 7,
   "metadata": {},
   "outputs": [
    {
     "data": {
      "text/plain": [
       "6"
      ]
     },
     "execution_count": 7,
     "metadata": {},
     "output_type": "execute_result"
    }
   ],
   "source": [
    "def summe(a, b, c):\n",
    "    return a+b+c\n",
    "\n",
    "summe(1,2,3)"
   ]
  },
  {
   "cell_type": "code",
   "execution_count": 11,
   "metadata": {},
   "outputs": [
    {
     "name": "stdout",
     "output_type": "stream",
     "text": [
      "6\n",
      "6\n"
     ]
    },
    {
     "ename": "TypeError",
     "evalue": "unsupported operand type(s) for +: 'NoneType' and 'int'",
     "output_type": "error",
     "traceback": [
      "\u001b[0;31m---------------------------------------------------------------------------\u001b[0m",
      "\u001b[0;31mTypeError\u001b[0m                                 Traceback (most recent call last)",
      "\u001b[1;32m/Users/martin/Workspace/Jupyter_Notebooks/Informatik_KS/1_Python_Programmieren/1-7 Funtktionen/1-7_Funkionen.ipynb Cell 45\u001b[0m line \u001b[0;36m6\n\u001b[1;32m      <a href='vscode-notebook-cell:/Users/martin/Workspace/Jupyter_Notebooks/Informatik_KS/1_Python_Programmieren/1-7%20Funtktionen/1-7_Funkionen.ipynb#Y100sZmlsZQ%3D%3D?line=1'>2</a>\u001b[0m     \u001b[39mprint\u001b[39m (a\u001b[39m+\u001b[39mb\u001b[39m+\u001b[39mc)\n\u001b[1;32m      <a href='vscode-notebook-cell:/Users/martin/Workspace/Jupyter_Notebooks/Informatik_KS/1_Python_Programmieren/1-7%20Funtktionen/1-7_Funkionen.ipynb#Y100sZmlsZQ%3D%3D?line=3'>4</a>\u001b[0m printsumme(\u001b[39m1\u001b[39m,\u001b[39m2\u001b[39m,\u001b[39m3\u001b[39m)  \n\u001b[0;32m----> <a href='vscode-notebook-cell:/Users/martin/Workspace/Jupyter_Notebooks/Informatik_KS/1_Python_Programmieren/1-7%20Funtktionen/1-7_Funkionen.ipynb#Y100sZmlsZQ%3D%3D?line=5'>6</a>\u001b[0m printsumme(\u001b[39m1\u001b[39;49m,\u001b[39m2\u001b[39;49m,\u001b[39m3\u001b[39;49m)\u001b[39m+\u001b[39;49m\u001b[39m4\u001b[39;49m  \n",
      "\u001b[0;31mTypeError\u001b[0m: unsupported operand type(s) for +: 'NoneType' and 'int'"
     ]
    }
   ],
   "source": [
    "def printsumme(a,b,c):\n",
    "    print (a+b+c)\n",
    "    \n",
    "printsumme(1,2,3)  \n",
    "printsumme(1,2,3)+4  "
   ]
  },
  {
   "cell_type": "markdown",
   "metadata": {},
   "source": [
    "##### 7.4.4 Scopes\n",
    "\n",
    "- Rumpf einer Funktion bildet ein Scope (Umgebung)\n",
    "- der Scope bindet die lokal definierten Variablen und Parameter, d.h. sie sind auch nur innerhalb der Funktion sichtbar und können auch nur dort verwendet werden.\n",
    "- alle weiteren Variablen sind frei im Funktionsrumpf (freie Variablen) und beziehen sich nur auf den umschließenden Scope => global definierte Dinge können benutzt werden, zum Beispiel die Funktion `print`\n",
    "- Beim Aufruf der Funktion wird ein stack frame (=Kellerrahmen) für die Werte der Variablen angelegt.\n",
    "- Visualisierung des Kellerrahmens: https://pythontutor.com/python-compiler.html#mode=edit"
   ]
  },
  {
   "cell_type": "markdown",
   "metadata": {},
   "source": [
    "Funktionen sollen:\n",
    "- loakle Variablen und Parameter verwenden.\n",
    "- globale Variablen lesen können.\n",
    "- Vorsicht: shadowing (Überschreiben der Variablen)"
   ]
  },
  {
   "cell_type": "code",
   "execution_count": 1,
   "metadata": {},
   "outputs": [
    {
     "name": "stdout",
     "output_type": "stream",
     "text": [
      "Die Funktion deep gibt zurück:  123\n",
      "Die Funktion high(42) gibt zurück:  42\n",
      "Die Funktion middle gibt zurück:  321 und die Variable var1 hat den Wert:  123\n"
     ]
    }
   ],
   "source": [
    "var1= 123\n",
    "\n",
    "def deep():\n",
    "    return var1\n",
    "\n",
    "print(\"Die Funktion deep gibt zurück: \", deep())\n",
    "\n",
    "def high(var1):\n",
    "    return var1\n",
    "\n",
    "print(\"Die Funktion high(42) gibt zurück: \", high(42))\n",
    "\n",
    "def middle():\n",
    "    var1=321\n",
    "    return var1\n",
    "\n",
    "print(\"Die Funktion middle gibt zurück: \", middle(), \"und die Variable var1 hat den Wert: \", var1 )\n",
    "\n",
    "    "
   ]
  },
  {
   "cell_type": "code",
   "execution_count": 2,
   "metadata": {},
   "outputs": [
    {
     "name": "stdout",
     "output_type": "stream",
     "text": [
      "Hello world\n"
     ]
    }
   ],
   "source": []
  },
  {
   "cell_type": "code",
   "execution_count": null,
   "metadata": {},
   "outputs": [],
   "source": []
  }
 ],
 "metadata": {
  "kernelspec": {
   "display_name": "Python 3",
   "language": "python",
   "name": "python3"
  },
  "language_info": {
   "codemirror_mode": {
    "name": "ipython",
    "version": 3
   },
   "file_extension": ".py",
   "mimetype": "text/x-python",
   "name": "python",
   "nbconvert_exporter": "python",
   "pygments_lexer": "ipython3",
   "version": "3.11.4"
  }
 },
 "nbformat": 4,
 "nbformat_minor": 2
}
