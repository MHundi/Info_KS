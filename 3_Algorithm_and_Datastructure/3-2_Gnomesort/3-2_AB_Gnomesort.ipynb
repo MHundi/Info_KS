{
 "cells": [
  {
   "cell_type": "raw",
   "metadata": {},
   "source": [
    "---\n",
    "format:\n",
    "  pdf:\n",
    "    papersize: a4\n",
    "    fig-align: center\n",
    "    code-line-numbers: true\n",
    "\n",
    "  beamer:\n",
    "    aspectratio: 169\n",
    "    navigation: horizontal\n",
    "    theme: Singapore\n",
    "    colortheme: orchid\n",
    "    toc: false\n",
    "    code-line-numbers: true\n",
    "    echo: true\n",
    "  \n",
    "  html:\n",
    "    standalone: true\n",
    "    section-divs: true\n",
    "    html-math-method: mathjax\n",
    "    wrap: none\n",
    "    default-image-extension: png\n",
    "---"
   ]
  },
  {
   "cell_type": "markdown",
   "metadata": {},
   "source": [
    "## Aufgabenblatt GnomeSort"
   ]
  },
  {
   "cell_type": "markdown",
   "metadata": {},
   "source": [
    "### Beschreibung des Algorithmus:\n",
    "\n",
    "In einem Garten sind Blumentöpfe in einer Reihe aufgestellt. Gartenzwerge sollen sie nun der Größe nach aufsteigend sortieren. Sie benutzen dazu den folgenden Algorithmus:\n",
    "\n",
    "- Beginne links und vergleiche die beiden ersten Töpfe.\n",
    "- Stehen sie in der richtigen Reihenfolge gehe ein Schritt nach rechts.\n",
    "- Wenn sie nicht in der korrekten Reihenfolge stehen, vertausche die beiden Töpfe und gehe einen Schritt nach links.\n",
    "- Ist der Schritt nach links nicht möglich, gehe ein Schritt nach rechts.\n",
    "- Wiederhole das Sortieren bis zum letzten Blumentopf."
   ]
  },
  {
   "cell_type": "markdown",
   "metadata": {},
   "source": [
    "#### Aufgabe 1:\n",
    "Führen Sie das Sortierverfahen GnomeSort \n",
    "\n",
    "am Beispiel `[35, 14, 65, 19, 44, 8, 23, 19]` durch. Dokumentieren Sie alle Zwischenschritte."
   ]
  },
  {
   "cell_type": "markdown",
   "metadata": {},
   "source": [
    "#### Aufgabe 2:\n",
    "Implementieren Sie den Algorithums GnomeSort in python.\n",
    "- Dokumentieren Sie Ihren Algoritmus.\n",
    "- Verwenden Sie 'Doctests' um Ihren Algorithmus zu testen. \n"
   ]
  },
  {
   "cell_type": "markdown",
   "metadata": {},
   "source": [
    "#### Aufgabe 3:\n",
    "Untersuchen Sie die Laufzeit des Algorithmus bei aufsteigender Array-Größe von 500 bis 10000 in 500er Schritte.\n"
   ]
  },
  {
   "cell_type": "markdown",
   "metadata": {},
   "source": []
  }
 ],
 "metadata": {
  "language_info": {
   "name": "python"
  }
 },
 "nbformat": 4,
 "nbformat_minor": 2
}
