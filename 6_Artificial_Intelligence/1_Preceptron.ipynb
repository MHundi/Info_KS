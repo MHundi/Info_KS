{
 "cells": [
  {
   "cell_type": "code",
   "execution_count": 1,
   "metadata": {},
   "outputs": [
    {
     "ename": "SyntaxError",
     "evalue": "invalid decimal literal (4132094973.py, line 7)",
     "output_type": "error",
     "traceback": [
      "\u001b[0;36m  Cell \u001b[0;32mIn[1], line 7\u001b[0;36m\u001b[0m\n\u001b[0;31m    fontsize: 11pt\u001b[0m\n\u001b[0m               ^\u001b[0m\n\u001b[0;31mSyntaxError\u001b[0m\u001b[0;31m:\u001b[0m invalid decimal literal\n"
     ]
    }
   ],
   "source": [
    "---\n",
    "format:\n",
    "  pdf:\n",
    "    pdf-engine: xelatex\n",
    "    documentclass: scrartcl\n",
    "    papersize: a4\n",
    "    fontsize: 11pt\n",
    "    fig-align: center\n",
    "    colorlinks: true\n",
    "    code-line-numbers: true\n",
    "    keep-tex: true\n",
    "    include-in-header:\n",
    "      - text: |\n",
    "          \\usepackage[document]{ragged2e}\n",
    "\n",
    "  beamer:\n",
    "    aspectratio: 169\n",
    "    navigation: horizontal\n",
    "    theme: Singapore\n",
    "    colortheme: orchid\n",
    "    toc: false\n",
    "    code-line-numbers: true\n",
    "    echo: false\n",
    "    fontsize: 25pt\n",
    "  \n",
    "  html:\n",
    "    standalone: true\n",
    "    section-divs: true\n",
    "    html-math-method: mathjax\n",
    "    wrap: none\n",
    "    default-image-extension: png\n",
    "\n",
    "execute: \n",
    "  enabled: true\n",
    "  echo: false\n",
    "Jupyter: python3\n",
    "\n",
    "mainfont: Avenir Next\n",
    "---"
   ]
  },
  {
   "cell_type": "markdown",
   "metadata": {},
   "source": [
    "## Perceptron - Influencer"
   ]
  },
  {
   "cell_type": "code",
   "execution_count": 3,
   "metadata": {},
   "outputs": [],
   "source": [
    "import numpy as np\n",
    "import matplotlib.pyplot as plt \n",
    "import matplotlib.cm as cm"
   ]
  },
  {
   "cell_type": "markdown",
   "metadata": {},
   "source": [
    "Definition der Gewichte und des Lernfaktors"
   ]
  },
  {
   "cell_type": "code",
   "execution_count": 4,
   "metadata": {},
   "outputs": [],
   "source": [
    "w=[0.0,0.0,0.0]\n",
    "alpha = 0.5\n",
    "data=[[20,110,1],[40,130,0]]\n",
    "\n"
   ]
  },
  {
   "cell_type": "markdown",
   "metadata": {},
   "source": [
    "Hilfsfunktionen\n"
   ]
  },
  {
   "cell_type": "code",
   "execution_count": 5,
   "metadata": {},
   "outputs": [],
   "source": [
    "# set weights to null\n",
    "def reset(w):\n",
    "    for i in range(len(w)):\n",
    "        w[i]=0.0\n",
    "\n",
    "# ad bias in first position \n",
    "def biasAdd(input):\n",
    "    newlist = [[1] + sublist for sublist in input] \n",
    "    return newlist\n",
    "    \n",
    "# Learningalgorithm    \n",
    "def learn(input, w):\n",
    "    for sublist in input:\n",
    "        x=sublist[0:-1]\n",
    "        *ignore, d=sublist[-1:]\n",
    "        print(x)\n",
    "        print(d)\n",
    "        erg=0\n",
    "        \n",
    "        for i in range(len(w)):\n",
    "            erg=erg+x[i]*w[i]\n",
    "            y= 1 if erg >=0 else 0\n",
    "            w[i]=w[i]+alpha*x[i]*(d-y)\n",
    "    return w\n"
   ]
  },
  {
   "cell_type": "code",
   "execution_count": 6,
   "metadata": {},
   "outputs": [
    {
     "name": "stdout",
     "output_type": "stream",
     "text": [
      "[[20, 110, 1], [40, 130, 0]]\n",
      "[1, 20, 110]\n",
      "1\n",
      "[1, 40, 130]\n",
      "0\n"
     ]
    },
    {
     "data": {
      "text/plain": [
       "[-0.5, -20.0, -65.0]"
      ]
     },
     "execution_count": 6,
     "metadata": {},
     "output_type": "execute_result"
    }
   ],
   "source": [
    "print(data)\n",
    "newdata = biasAdd(data)\n",
    "learn(newdata,w)"
   ]
  },
  {
   "cell_type": "markdown",
   "metadata": {},
   "source": [
    "Lernzyklus: 10 Durchläufe\n"
   ]
  },
  {
   "cell_type": "code",
   "execution_count": 11,
   "metadata": {},
   "outputs": [
    {
     "name": "stdout",
     "output_type": "stream",
     "text": [
      "[1, 20, 110]\n",
      "1\n",
      "[1, 40, 130]\n",
      "0\n",
      "[1, 20, 110]\n",
      "1\n",
      "[1, 40, 130]\n",
      "0\n",
      "[1, 20, 110]\n",
      "1\n",
      "[1, 40, 130]\n",
      "0\n",
      "[1, 20, 110]\n",
      "1\n",
      "[1, 40, 130]\n",
      "0\n",
      "[1, 20, 110]\n",
      "1\n",
      "[1, 40, 130]\n",
      "0\n"
     ]
    }
   ],
   "source": [
    "for j in range(5):\n",
    "    learn(newdata,w)"
   ]
  },
  {
   "cell_type": "code",
   "execution_count": 12,
   "metadata": {},
   "outputs": [
    {
     "name": "stdout",
     "output_type": "stream",
     "text": [
      "[-0.5, -20.0, -20.0]\n"
     ]
    }
   ],
   "source": [
    "print(w)"
   ]
  },
  {
   "cell_type": "code",
   "execution_count": null,
   "metadata": {},
   "outputs": [],
   "source": []
  }
 ],
 "metadata": {
  "kernelspec": {
   "display_name": "Python 3",
   "language": "python",
   "name": "python3"
  },
  "language_info": {
   "codemirror_mode": {
    "name": "ipython",
    "version": 3
   },
   "file_extension": ".py",
   "mimetype": "text/x-python",
   "name": "python",
   "nbconvert_exporter": "python",
   "pygments_lexer": "ipython3",
   "version": "3.12.3"
  }
 },
 "nbformat": 4,
 "nbformat_minor": 2
}
